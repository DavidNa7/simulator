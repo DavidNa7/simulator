{
 "cells": [
  {
   "cell_type": "markdown",
   "metadata": {},
   "source": [
    "# Controlled Scenario\n",
    "\n",
    "This notebook contains the experiment to **reproduce the observed course of Sars-CoV-2 under the taken interventions**, which is reported on Figure 3 in the [paper](https://arxiv.org/abs/2004.07641).\n",
    "\n",
    "The notebook is organized as follows:\n",
    "\n",
    "* In Section 1, we define all the simulation parameters.\n",
    "* In Section 2, we run all the simulations needed for the experiment.\n",
    "* In Section 3, we plot the results.\n",
    "\n",
    "To just regenerate the figures from a summary file containing all the simulation objects of the experiment, you can skip Section 2, and only run the cells in Sections 1 & 3. \n",
    "\n",
    "---"
   ]
  },
  {
   "cell_type": "markdown",
   "metadata": {},
   "source": [
    "## 1. Define the experiment parameters"
   ]
  },
  {
   "cell_type": "markdown",
   "metadata": {},
   "source": [
    "#### Import libs"
   ]
  },
  {
   "cell_type": "code",
   "execution_count": 1,
   "metadata": {},
   "outputs": [],
   "source": [
    "import numpy as np\n",
    "import pickle\n",
    "import multiprocessing\n",
    "import matplotlib.pyplot as plt"
   ]
  },
  {
   "cell_type": "code",
   "execution_count": 2,
   "metadata": {},
   "outputs": [],
   "source": [
    "from lib.mobilitysim import MobilitySimulator\n",
    "from lib.parallel import launch_parallel_simulations\n",
    "from lib.distributions import CovidDistributions\n",
    "from lib.data import collect_data_from_df\n",
    "from lib.measures import (MeasureList, Interval,\n",
    "                          BetaMultiplierMeasureByType,\n",
    "                          UpperBoundCasesBetaMultiplier,\n",
    "                          SocialDistancingForAllMeasure, \n",
    "                          SocialDistancingForPositiveMeasure,\n",
    "                          SocialDistancingForPositiveMeasureHousehold)\n",
    "from lib.inference import gen_initial_seeds"
   ]
  },
  {
   "cell_type": "markdown",
   "metadata": {},
   "source": [
    "#### Set the random seed for reproducibility"
   ]
  },
  {
   "cell_type": "code",
   "execution_count": 3,
   "metadata": {},
   "outputs": [],
   "source": [
    "# Choose random seed\n",
    "c = 0\n",
    "# Set it\n",
    "np.random.seed(c)\n",
    "# Define prefix string used to save plots\n",
    "runstr = f'run{c}_'"
   ]
  },
  {
   "cell_type": "markdown",
   "metadata": {},
   "source": [
    "#### Set the number of roll-outs to simulate"
   ]
  },
  {
   "cell_type": "code",
   "execution_count": 4,
   "metadata": {},
   "outputs": [],
   "source": [
    "random_repeats = 1 # Set to at least 20 to obtain stable results"
   ]
  },
  {
   "cell_type": "markdown",
   "metadata": {},
   "source": [
    "#### Define the number of parallel workers used for simulations "
   ]
  },
  {
   "cell_type": "code",
   "execution_count": 5,
   "metadata": {},
   "outputs": [],
   "source": [
    "num_workers = multiprocessing.cpu_count() - 1"
   ]
  },
  {
   "cell_type": "markdown",
   "metadata": {},
   "source": [
    "#### Set the time to simulate"
   ]
  },
  {
   "cell_type": "code",
   "execution_count": 6,
   "metadata": {},
   "outputs": [],
   "source": [
    "days_until_lockdown = 13 # March 10 - March 23\n",
    "days_present = 35  # Days since March 10 on April 12 (March 10 is time 0 for our experiments)\n",
    "#days_present = 20\n",
    "max_time_present = 24.0 * (days_present) # in hours"
   ]
  },
  {
   "cell_type": "markdown",
   "metadata": {},
   "source": [
    "#### Define population/mobility parameters\n",
    "\n",
    "Import downsampled version of Tübingen (population downsampled by 20x, sites by 10x) that was used used to generate mobility traces on the fly for inference (sites, home locations, etc)"
   ]
  },
  {
   "cell_type": "code",
   "execution_count": 7,
   "metadata": {},
   "outputs": [],
   "source": [
<<<<<<< Updated upstream:sim/sim-controlled-scenario.ipynb
    "case_downsample = 10                                \n",
    "mob_settings = 'lib/mobility/Tubingen_settings_10_10_hh.pk'  \n",
    "area = 'TU'\n",
    "country = 'GER'\n",
    "\n",
    "\n",
=======
    "case_downsample = 10                       # Downsample of population\n",
    "mob_settings = 'lib/mobility/Tubingen_settings_10_10_hh.pk'  # Mobility settings (should match `case_downsample`)\n",
    "town_name = 'LK Tübingen'                  # Name of town to fetch case data\n",
>>>>>>> Stashed changes:sim/experiment-2-with-households.ipynb
    "\n",
    "# See town-generator.ipynb for an example on how to create the settings\n",
    "with open(mob_settings, 'rb') as fp:\n",
    "    obj = pickle.load(fp)\n",
    "mob = MobilitySimulator(**obj)"
   ]
  },
  {
   "cell_type": "markdown",
   "metadata": {},
   "source": [
    "#### Load the case data\n",
    "\n",
    "Adjust the number of cases to the down-scaling of the population"
   ]
  },
  {
   "cell_type": "code",
<<<<<<< Updated upstream:sim/sim-controlled-scenario.ipynb
   "execution_count": null,
   "metadata": {},
   "outputs": [],
   "source": [
    "new_cases_ = collect_data_from_df(country=country, area=area, datatype='new',\n",
    "    start_date_string='2020-03-10', until=days_present)\n",
    "new_cases = np.ceil(1/case_downsample * new_cases_)\n",
=======
   "execution_count": 8,
   "metadata": {},
   "outputs": [
    {
     "name": "stdout",
     "output_type": "stream",
     "text": [
      "Empirical fatality rates per age group:   [0.0, 0.0, 0.0, 0.0025252525252525255, 0.005952380952380952, 0.17647058823529413]\n"
     ]
    }
   ],
   "source": [
    "new_cases_ = collect_data_from_df('GER', 'TU', 'new', '2020-03-10', 16)\n",
    "resistant_cases_ = collect_data_from_df('GER', 'TU', 'recovered', '2020-03-10', 16)\n",
    "fatality_cases_ = collect_data_from_df('GER', 'TU', 'fatality', '2020-03-10', 16)\n",
    "\n",
    "# fatality rate per age group\n",
    "num_age_groups = fatality_cases_.shape[1] \n",
    "fatality_rates_by_age = (fatality_cases_[-1, :] / \\\n",
    "    (new_cases_[-1, :] + fatality_cases_[-1, :] + resistant_cases_[-1, :]))\n",
    "print('Empirical fatality rates per age group:  ', fatality_rates_by_age.tolist())\n",
>>>>>>> Stashed changes:sim/experiment-2-with-households.ipynb
    "\n",
    "# Instantiate correct state transition distributions (estimated from in literature)\n",
    "distributions = CovidDistributions(country=country)"
   ]
  },
  {
   "cell_type": "markdown",
   "metadata": {},
   "source": [
    "#### Define initial seed count per state \n",
    "\n",
    "These numbers are based on the *downscaled* infection counts on March 10."
   ]
  },
  {
   "cell_type": "code",
   "execution_count": 9,
   "metadata": {},
   "outputs": [],
   "source": [
    "initial_seeds = gen_initial_seeds(new_cases)"
   ]
  },
  {
   "cell_type": "markdown",
   "metadata": {},
   "source": [
    "#### Set epidemic parameters\n",
    "\n",
    "Inferred using Bayesian optimization."
   ]
  },
  {
   "cell_type": "code",
   "execution_count": 10,
   "metadata": {},
   "outputs": [],
   "source": [
    "inferred_params = {'beta_household': 0.11216351389884949 * 2,\n",
    "                   'betas': {'bus_stop': 0.30700936913490295 * 2,\n",
    "                             'education': 0.10472168773412704 * 2,\n",
    "                             'office': 0.13466687500476837 * 2,\n",
    "                             'social': 0.32049357891082764 * 2,\n",
    "                             'supermarket': 0.47448956966400146 * 2},\n",
    "                   'mu': 0.7184973955154419 * 2}"
   ]
  },
  {
   "cell_type": "markdown",
   "metadata": {},
   "source": [
    "#### Define standard testing parameters\n",
    "\n",
    "The parameters are the same used for inference."
   ]
  },
  {
   "cell_type": "code",
   "execution_count": 11,
   "metadata": {},
   "outputs": [],
   "source": [
    "def standard_testing(max_time):\n",
    "    standard_testing_params = {\n",
    "        'testing_t_window'    : [0.0, max_time], # in hours\n",
    "        'testing_frequency'   : 24.0,     # in hours\n",
    "        'test_reporting_lag'  : 48.0,     # in hours (actual and self-report delay)\n",
    "        'tests_per_batch'     : 10,       # assume 300 tests/day in LK Tübingen\n",
    "        'test_fpr'            : 0.0,      # test false positive rate\n",
    "        'test_fnr'            : 0.0,      # test false negative rate\n",
    "        'test_smart_delta'    : 24.0 * 3, # in hours\n",
    "        'test_smart_duration' : 24.0 * 7, # in hours\n",
    "        'test_smart_action'   : 'isolate', \n",
    "        'test_smart_num_contacts'   : 10, \n",
    "        'test_targets'        : 'isym',\n",
    "        'test_queue_policy'   : 'fifo',\n",
    "        'smart_tracing'       : None, \n",
    "    }\n",
    "    return standard_testing_params"
   ]
  },
  {
   "cell_type": "markdown",
   "metadata": {},
   "source": [
    "#### Define helper I/O functions to load/save the output of the experiment"
   ]
  },
  {
   "cell_type": "code",
   "execution_count": 12,
   "metadata": {},
   "outputs": [],
   "source": [
    "def save_summary(summary, filename):\n",
    "    with open('summaries/' + filename, 'wb') as fp:\n",
    "        pickle.dump(summary, fp)\n",
    "    \n",
    "def load_summary(filename):\n",
    "    with open('summaries/' + filename, 'rb') as fp:\n",
    "        summary = pickle.load(fp)\n",
    "    return summary"
   ]
  },
  {
   "cell_type": "markdown",
   "metadata": {},
   "source": [
    "---"
   ]
  },
  {
   "cell_type": "markdown",
   "metadata": {},
   "source": [
    "## 2. Run the simulations"
   ]
  },
  {
   "cell_type": "markdown",
   "metadata": {},
   "source": [
    "Define a helper function to run general type of experiment, fixing all parameters above."
   ]
  },
  {
   "cell_type": "code",
   "execution_count": 13,
   "metadata": {},
   "outputs": [],
   "source": [
    "def run(tparam, measure_list, t, local_seeds, dynamic_tracing=True):\n",
    "\n",
    "    # add standard measure of positives staying isolated\n",
    "    measure_list +=  [\n",
    "        SocialDistancingForPositiveMeasure(\n",
    "            t_window=Interval(0.0, t), p_stay_home=1.0),\n",
    "        \n",
    "        SocialDistancingForPositiveMeasureHousehold(\n",
    "            t_window=Interval(0.0, t), p_isolate=1.0)\n",
    "    ]\n",
    "    measure_list = MeasureList(measure_list)\n",
    "\n",
    "    # run simulations\n",
    "    summary = launch_parallel_simulations(\n",
    "        mob_settings, \n",
    "        distributions, \n",
    "        random_repeats, num_workers, \n",
    "        inferred_params, local_seeds, tparam, measure_list, \n",
    "        max_time=t, \n",
    "        num_people=mob.num_people, \n",
    "        num_sites=mob.num_sites, \n",
    "        site_loc=mob.site_loc, \n",
    "        home_loc=mob.home_loc,\n",
    "        dynamic_tracing=dynamic_tracing,\n",
    "        verbose=False)\n",
    "            \n",
    "    \n",
    "    measure_list = summary.measure_list\n",
    "    beta_mult_measure = measure_list[0].find(UpperBoundCasesBetaMultiplier, t=600)\n",
    "    plt.scatter(*zip(*beta_mult_measure.intervention_history))\n",
    "    return summary"
   ]
  },
  {
   "cell_type": "code",
   "execution_count": 14,
   "metadata": {},
   "outputs": [
    {
     "data": {
      "text/plain": [
       "array([   0,  168,  336,  504,  672,  840, 1008, 1176, 1344, 1512])"
      ]
     },
     "execution_count": 14,
     "metadata": {},
     "output_type": "execute_result"
    }
   ],
   "source": [
    "np.asarray(np.multiply(list(range(10)), 7*24))"
   ]
  },
  {
   "cell_type": "code",
   "execution_count": 15,
   "metadata": {},
   "outputs": [
    {
     "data": {
      "text/plain": [
       "[0, 1, 2, 3, 4, 5, 6, 7, 8, 9]"
      ]
     },
     "execution_count": 15,
     "metadata": {},
     "output_type": "execute_result"
    }
   ],
   "source": [
    "list(range(10))"
   ]
  },
  {
   "cell_type": "markdown",
   "metadata": {},
   "source": [
    "Run the experiment using the parameters defined above and simulate in the future, with additional measures of varying duration.\n",
    "\n",
    "**WARNING: this cell might take a long time to run depending of the parameters defined above!**"
   ]
  },
  {
   "cell_type": "code",
   "execution_count": 23,
   "metadata": {},
   "outputs": [
    {
     "data": {
      "image/png": "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\n",
      "text/plain": [
       "<Figure size 432x288 with 1 Axes>"
      ]
     },
     "metadata": {
      "needs_background": "light"
     },
     "output_type": "display_data"
    }
   ],
   "source": [
    "tuned_p_stay_home = 0.55 \n",
    "tuned_site_multipliers = {'education': 0.0, 'social': 0.0, 'bus_stop': 1.0, 'office': 1.0, 'supermarket': 1.0}\n",
    "\n",
    "observed_measures_SD = [\n",
    "    # education close, social closes\n",
    "    #BetaMultiplierMeasureByType(\n",
    "    #    t_window=Interval(24.0 * days_until_lockdown, max_time_present), \n",
    "    #    beta_multiplier=tuned_site_multipliers),\n",
    "    \n",
    "    # less activities of all due to contact constraints\n",
    "    SocialDistancingForAllMeasure(\n",
    "     t_window=Interval(24.0 * days_until_lockdown, max_time_present), \n",
    "        p_stay_home=tuned_p_stay_home),\n",
    "    \n",
    "    # Measure if more than 50 infected per week only\n",
    "    UpperBoundCasesBetaMultiplier(t_window=Interval(24.0 * days_until_lockdown, max_time_present),\n",
    "                                  beta_multiplier=tuned_site_multipliers,\n",
    "                                  max_pos_tests_per_week=50/case_downsample,\n",
    "                                  intervention_times=np.asarray(np.multiply(list(range(10)), 7*24)))\n",
    "]\n",
    "\n",
    "testing_params_SD_0 = standard_testing(max_time_present)\n",
    "\n",
    "summary_SD_0 = run(testing_params_SD_0, observed_measures_SD, max_time_present, initial_seeds)\n",
    "\n",
    "save_summary(summary_SD_0, 'summary_SD_0.pk')"
   ]
  },
  {
   "cell_type": "markdown",
   "metadata": {},
   "source": [
    "## 3. Plot the results"
   ]
  },
  {
   "cell_type": "markdown",
   "metadata": {},
   "source": [
    "Import plotting utility"
   ]
  },
  {
   "cell_type": "code",
   "execution_count": 17,
   "metadata": {},
   "outputs": [],
   "source": [
    "from lib.plot import Plotter\n",
    "%matplotlib inline"
   ]
  },
  {
   "cell_type": "markdown",
   "metadata": {},
   "source": [
    "Load the summary holding the results of the experiment to plot."
   ]
  },
  {
   "cell_type": "code",
   "execution_count": 18,
   "metadata": {},
   "outputs": [],
   "source": [
    "summary_SD_0 = load_summary('summary_SD_0.pk')"
   ]
  },
  {
   "cell_type": "markdown",
   "metadata": {},
   "source": [
    "Reproduce Figure 2 (a) in the paper."
   ]
  },
  {
   "cell_type": "code",
   "execution_count": 19,
   "metadata": {},
   "outputs": [
    {
     "data": {
      "image/png": "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\n",
      "text/plain": [
       "<Figure size 432x288 with 1 Axes>"
      ]
     },
     "metadata": {
      "needs_background": "light"
     },
     "output_type": "display_data"
    }
   ],
   "source": [
    "plotter = Plotter()\n",
    "plotter.plot_positives_vs_target(\n",
    "    summary_SD_0, new_cases.sum(axis=1), \n",
    "    test_lag=2,\n",
    "    title='Predictions for observed controlled scenario after March 23', \n",
    "    filename=runstr + 'SD_000',\n",
    "    figsize=(6, 4),\n",
    "    start_date='2020-03-10',\n",
    "    errorevery=1, acc=1000, \n",
    "    lockdown_at=days_until_lockdown,\n",
    "    ymax=250)\n",
    "\n"
   ]
  },
  {
   "cell_type": "markdown",
   "metadata": {},
   "source": [
    "Reproduce Figure 2 (b) in the paper."
   ]
  },
  {
   "cell_type": "code",
   "execution_count": 20,
   "metadata": {},
   "outputs": [
    {
     "name": "stdout",
     "output_type": "stream",
     "text": [
      "Optimize sigma using maximum likelihood estimation...\n",
      " 0.50: 0\n",
      " 0.50: 0\n",
      " 0.01: 0\n",
      " 0.01: 0\n",
      "done. Best sigma found at: 0.01\n"
     ]
    },
    {
     "data": {
      "image/png": "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\n",
      "text/plain": [
       "<Figure size 432x288 with 1 Axes>"
      ]
     },
     "metadata": {
      "needs_background": "light"
     },
     "output_type": "display_data"
    }
   ],
   "source": [
    "plotter = Plotter()\n",
    "plotter.plot_daily_rts(\n",
    "    summary_SD_0,\n",
    "    filename=runstr + 'SD_003',\n",
    "    start_date='2020-03-10',\n",
    "    sigma=None,\n",
    "    figsize=(6, 4), \n",
    "    subplot_adjust=None,\n",
    "    lockdown_label='Lockdown', \n",
    "    lockdown_at=days_until_lockdown,\n",
    "    lockdown_label_y=2.6,\n",
    "    ymax=4.0)"
   ]
  },
  {
   "cell_type": "markdown",
   "metadata": {},
   "source": [
    "Reproduce Figure 2 (c) in the paper."
   ]
  },
  {
   "cell_type": "code",
   "execution_count": 21,
   "metadata": {},
   "outputs": [
    {
     "data": {
      "image/png": "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\n",
      "text/plain": [
       "<Figure size 432x288 with 1 Axes>"
      ]
     },
     "metadata": {
      "needs_background": "light"
     },
     "output_type": "display_data"
    }
   ],
   "source": [
    "targets = new_cases.sum(axis=1)\n",
    "targets = np.hstack((targets[0], np.diff(targets)))\n",
    "\n",
    "plotter = Plotter()\n",
    "plotter.plot_daily_infected(\n",
    "    summary_SD_0,\n",
    "    title='', \n",
    "    filename=runstr + 'SD_001',\n",
    "    errorevery=100, acc=1000, \n",
    "    figsize=(6, 4),\n",
    "    start_date='2020-03-10',\n",
    "    show_target=targets,\n",
    "    lockdown_at=days_until_lockdown,\n",
    "    lockdown_label_y=140,\n",
    "    lockdown_label='Lockdown',\n",
    "    ymax=200)"
   ]
  },
  {
   "cell_type": "markdown",
   "metadata": {},
   "source": [
    "Reproduce Figure 2 (d) in the paper."
   ]
  },
  {
   "cell_type": "code",
   "execution_count": 22,
   "metadata": {},
   "outputs": [
    {
     "data": {
      "image/png": "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\n",
      "text/plain": [
       "<Figure size 432x288 with 1 Axes>"
      ]
     },
     "metadata": {
      "needs_background": "light"
     },
     "output_type": "display_data"
    }
   ],
   "source": [
    "plotter = Plotter()\n",
    "plotter.plot_cumulative_infected(\n",
    "    summary_SD_0,\n",
    "    title='', \n",
    "    filename=runstr + 'SD_002',\n",
    "    figsize=(6, 4),\n",
    "    legend_loc='upper left',\n",
    "    errorevery=100, acc=1000, \n",
    "    start_date='2020-03-10',\n",
    "    lockdown_at=days_until_lockdown,\n",
    "    lockdown_label_y=140,\n",
    "    show_target=new_cases.sum(axis=1),\n",
    "    ymax=None)"
   ]
  }
 ],
 "metadata": {
  "kernelspec": {
   "display_name": "Python3 (covid)",
   "language": "python",
   "name": "covid19"
  },
  "language_info": {
   "codemirror_mode": {
    "name": "ipython",
    "version": 3
   },
   "file_extension": ".py",
   "mimetype": "text/x-python",
   "name": "python",
   "nbconvert_exporter": "python",
   "pygments_lexer": "ipython3",
<<<<<<< Updated upstream:sim/sim-controlled-scenario.ipynb
   "version": "3.8.2"
=======
   "version": "3.7.6"
>>>>>>> Stashed changes:sim/experiment-2-with-households.ipynb
  }
 },
 "nbformat": 4,
 "nbformat_minor": 2
}
