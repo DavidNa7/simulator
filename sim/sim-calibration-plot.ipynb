{
 "cells": [
  {
   "cell_type": "markdown",
   "metadata": {},
   "source": [
    "# Plotting validation periods\n",
    "\n",
    "---"
   ]
  },
  {
   "cell_type": "markdown",
   "metadata": {},
   "source": [
    "## 1. Define the experiment parameters"
   ]
  },
  {
   "cell_type": "markdown",
   "metadata": {},
   "source": [
    "#### Import libs"
   ]
  },
  {
   "cell_type": "code",
   "execution_count": null,
   "metadata": {},
   "outputs": [],
   "source": [
    "import numpy as np\n",
    "import pickle, math\n",
    "import pandas as pd\n",
    "import multiprocessing"
   ]
  },
  {
   "cell_type": "code",
   "execution_count": null,
   "metadata": {},
   "outputs": [],
   "source": [
    "%load_ext autoreload\n",
    "%autoreload 2\n",
    "from lib.mobilitysim import MobilitySimulator\n",
    "from lib.parallel import launch_parallel_simulations\n",
    "from lib.distributions import CovidDistributions\n",
    "from lib.data import collect_data_from_df\n",
    "from lib.measures import (MeasureList, Interval,\n",
    "                          BetaMultiplierMeasureByType,\n",
    "                          SocialDistancingForAllMeasure, \n",
    "                          SocialDistancingForPositiveMeasure,\n",
    "                          SocialDistancingForPositiveMeasureHousehold)\n",
    "from lib.inference import gen_initial_seeds, extract_seeds_from_summary\n",
    "from lib.plot import Plotter\n",
    "from lib.settings.calibration_settings import (\n",
    "    settings_optimized_town_params, \n",
    "    command_line_area_codes, \n",
    "    settings_lockdown_dates)\n",
    "import matplotlib.pyplot as plt\n",
    "%matplotlib inline\n",
    "\n",
    "# converting days to hours\n",
    "TO_HOURS = 24.0"
   ]
  },
  {
   "cell_type": "code",
   "execution_count": null,
   "metadata": {},
   "outputs": [],
   "source": [
    "c = 0\n",
    "np.random.seed(c)\n",
    "random_repeats = 8 # Set to at least 40 to obtain stable results\n",
    "num_workers = multiprocessing.cpu_count()"
   ]
  },
  {
   "cell_type": "code",
   "execution_count": null,
   "metadata": {},
   "outputs": [],
   "source": [
    "def standard_testing(max_time, new_cases__):\n",
    "    daily_increase = new_cases__.sum(axis=1)[1:] - new_cases__.sum(axis=1)[:-1]\n",
    "    standard_testing_params = {\n",
    "        'testing_t_window'    : [0.0, max_time], # in hours\n",
    "        'testing_frequency'   : 1 * TO_HOURS,     # in hours\n",
    "        'test_reporting_lag'  : 2 * TO_HOURS,     # in hours (actual and self-report delay)\n",
    "        'tests_per_batch'     : int(daily_increase.max()), # test capacity based on empirical positive tests\n",
    "        'test_fpr'            : 0.0, # test false positive rate\n",
    "        'test_fnr'            : 0.0, # test false negative rate\n",
    "        'test_smart_delta'    : 3 * TO_HOURS, # in hours\n",
    "        'test_smart_duration' : 7 * TO_HOURS, # in hours\n",
    "        'test_smart_action'   : 'isolate', \n",
    "        'test_smart_num_contacts'   : 10, \n",
    "        'test_targets'        : 'isym',\n",
    "        'test_queue_policy'   : 'fifo',\n",
    "        'smart_tracing'       : None, \n",
    "    }\n",
    "    return standard_testing_params\n",
    "\n",
    "def save_summary(summary, filename):\n",
    "    with open('summaries/' + filename, 'wb') as fp:\n",
    "        pickle.dump(summary, fp)\n",
    "    \n",
    "def load_summary(filename):\n",
    "    with open('summaries/' + filename, 'rb') as fp:\n",
    "        summary = pickle.load(fp)\n",
    "    return summary"
   ]
  },
  {
   "cell_type": "markdown",
   "metadata": {},
   "source": [
    "#### Simulate for each town"
   ]
  },
  {
   "cell_type": "code",
   "execution_count": null,
   "metadata": {},
   "outputs": [],
   "source": [
    "mob_setting_paths = {\n",
    "    'GER' : {\n",
    "        'TU' : ['lib/mobility/Tubingen_settings_10.pk', '2020-03-08', '2020-03-27'],\n",
    "        'KL' : ['lib/mobility/Kaiserslautern_settings_10.pk', '2020-03-08', '2020-03-27'],\n",
    "        'RH' : ['lib/mobility/Ruedesheim_settings_10.pk', '2020-03-08', '2020-03-27'],\n",
    "        'TR' : ['lib/mobility/Tirschenreuth_settings_10.pk', '2020-03-10', '2020-03-27'],\n",
    "    },\n",
    "    'CH' : {\n",
    "        'VD' : ['lib/mobility/Lausanne_settings_10.pk', '2020-02-28', '2020-03-20'],\n",
    "        'LU' : ['lib/mobility/Lucerne_settings_5.pk', '2020-03-03', '2020-03-20'],\n",
    "        'TI' : ['lib/mobility/Locarno_settings_2.pk', '2020-02-28', '2020-03-20'],\n",
    "        'JU' : ['lib/mobility/Jura_settings_10.pk', '2020-03-03', '2020-03-20'],\n",
    "    }\n",
    "}\n",
    "\n",
    "    \n",
    "for country in ['GER', 'CH']:\n",
    "    for area in mob_setting_paths[country].keys():\n",
    "\n",
    "        mob_settings = mob_setting_paths[country][area][0]\n",
    "        start_date = mob_setting_paths[country][area][1]\n",
    "        end_date = mob_setting_paths[country][area][2]\n",
    "\n",
    "        sim_days = (pd.to_datetime(end_date) - pd.to_datetime(start_date)).days\n",
    "        max_time = TO_HOURS * sim_days # in hours\n",
    "\n",
    "        # load mobility file\n",
    "        with open(mob_settings, 'rb') as fp:\n",
    "            obj = pickle.load(fp)\n",
    "        mob = MobilitySimulator(**obj)\n",
    "\n",
    "        # case data\n",
    "        new_cases_ = collect_data_from_df(country=country, area=area, datatype='new',\n",
    "        start_date_string=start_date, end_date_string=end_date)\n",
    "        new_cases = np.ceil((mob.num_people_unscaled * new_cases_) \n",
    "                          / (mob.downsample * mob.region_population))\n",
    "\n",
    "        # distributions\n",
    "        distributions = CovidDistributions(country=country)\n",
    "\n",
    "        # seeds\n",
    "        initial_seeds = gen_initial_seeds(new_cases)\n",
    "\n",
    "        print(country, area)\n",
    "        print('Seeds: ', initial_seeds)\n",
    "        print('Start: ', start_date, ' Cases : ', new_cases[0].sum())\n",
    "        print('End:   ', end_date, ' Cases : ', new_cases[-1].sum())\n",
    "        print()\n",
    "\n",
    "        # calibrated parameters\n",
    "        inferred_params = settings_optimized_town_params[country][area]\n",
    "\n",
    "        # run\n",
    "        measure_list =  [\n",
    "            SocialDistancingForPositiveMeasure(\n",
    "                t_window=Interval(0.0, max_time), p_stay_home=1.0),\n",
    "\n",
    "            SocialDistancingForPositiveMeasureHousehold(\n",
    "                t_window=Interval(0.0, max_time), p_isolate=1.0)\n",
    "        ]\n",
    "        measure_list = MeasureList(measure_list)\n",
    "\n",
    "        # testing\n",
    "        tparam = standard_testing(max_time, new_cases)\n",
    "\n",
    "        # run simulations\n",
    "        summary = launch_parallel_simulations(\n",
    "            mob_settings, \n",
    "            distributions, \n",
    "            random_repeats, num_workers, \n",
    "            inferred_params, initial_seeds, tparam, measure_list, \n",
    "            max_time=max_time, \n",
    "            num_people=mob.num_people, \n",
    "            num_sites=mob.num_sites, \n",
    "            site_loc=mob.site_loc, \n",
    "            home_loc=mob.home_loc,\n",
    "            dynamic_tracing=True,\n",
    "            verbose=False)\n",
    "\n",
    "        save_summary(summary, 'summary_calib_{}_{}.pk'.format(country, area))\n"
   ]
  },
  {
   "cell_type": "markdown",
   "metadata": {},
   "source": [
    "---"
   ]
  },
  {
   "cell_type": "code",
   "execution_count": null,
   "metadata": {
    "scrolled": false
   },
   "outputs": [],
   "source": [
    "ymax = {\n",
    "    'GER' : {\n",
    "        'TU' : 30,\n",
    "        'KL' : 30,\n",
    "        'RH' : 30,\n",
    "        'TR' : 30,\n",
    "    },\n",
    "    'CH' : {\n",
    "        'VD' : 30,\n",
    "        'LU' : 30,\n",
    "        'TI' : 30,\n",
    "        'JU' : 30,\n",
    "    }\n",
    "}\n",
    "\n",
    "for country in ['GER', 'CH']:\n",
    "    for area in mob_setting_paths[country].keys():\n",
    "\n",
    "        print(country, area)\n",
    "\n",
    "        mob_settings = mob_setting_paths[country][area][0]\n",
    "        start_date = mob_setting_paths[country][area][1]\n",
    "        end_date = mob_setting_paths[country][area][2]\n",
    "\n",
    "        sim_days = (pd.to_datetime(end_date) - pd.to_datetime(start_date)).days\n",
    "        max_time = TO_HOURS * sim_days # in hours\n",
    "\n",
    "        # load mobility file\n",
    "        with open(mob_settings, 'rb') as fp:\n",
    "            obj = pickle.load(fp)\n",
    "        mob = MobilitySimulator(**obj)\n",
    "\n",
    "        # case data\n",
    "        new_cases_ = collect_data_from_df(country=country, area=area, datatype='new',\n",
    "        start_date_string=start_date, end_date_string=end_date)\n",
    "        new_cases = np.ceil((mob.num_people_unscaled * new_cases_) \n",
    "                          / (mob.downsample * mob.region_population))\n",
    "\n",
    "\n",
    "        summary = load_summary('summary_calib_{}_{}.pk'.format(country, area))\n",
    "        plotter = Plotter()\n",
    "        plotter.plot_positives_vs_target(\n",
    "            summary, new_cases.sum(axis=1), \n",
    "            title='Calibration period', \n",
    "            filename='calibration_{}_{}_00'.format(country, area),\n",
    "            figsize=(6, 4),\n",
    "            start_date=start_date,\n",
    "            errorevery=1, acc=1000, \n",
    "            ymax=ymax[country][area])\n"
   ]
  },
  {
   "cell_type": "code",
   "execution_count": null,
   "metadata": {},
   "outputs": [],
   "source": []
  }
 ],
 "metadata": {
  "kernelspec": {
   "display_name": "Python 3",
   "language": "python",
   "name": "python3"
  },
  "language_info": {
   "codemirror_mode": {
    "name": "ipython",
    "version": 3
   },
   "file_extension": ".py",
   "mimetype": "text/x-python",
   "name": "python",
   "nbconvert_exporter": "python",
   "pygments_lexer": "ipython3",
   "version": "3.8.2"
  }
 },
 "nbformat": 4,
 "nbformat_minor": 2
}
