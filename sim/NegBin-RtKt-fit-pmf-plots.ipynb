{
 "cells": [
  {
   "cell_type": "markdown",
   "metadata": {},
   "source": [
    "# Negative-Binomial Plots of Number of Secondary Cases\n",
    "\n",
    "This notebook contains the code for plotting the distribution of number of secondary cases along with their Negative-Binomial fits. As such, the code still requires a bit of manual adaptation for each experiment. So the code here corresponds to the code to generate the plots in the paper.\n"
   ]
  },
  {
   "cell_type": "code",
   "execution_count": 1,
   "metadata": {},
   "outputs": [],
   "source": [
    "%load_ext autoreload\n",
    "%autoreload 2\n",
    "import sys\n",
    "if '..' not in sys.path:\n",
    "    sys.path.append('..')"
   ]
  },
  {
   "cell_type": "code",
   "execution_count": 2,
   "metadata": {},
   "outputs": [],
   "source": [
    "import itertools\n",
    "import numpy as np\n",
    "from scipy import stats as sps\n",
    "import scipy.optimize\n",
    "import pandas as pd\n",
    "\n",
    "from matplotlib import pyplot as plt\n",
    "%matplotlib inline"
   ]
  },
  {
   "cell_type": "code",
   "execution_count": 3,
   "metadata": {},
   "outputs": [],
   "source": [
    "from lib.calibrationSettings import (\n",
    "    calibration_lockdown_dates, \n",
    "    calibration_states,\n",
    ")\n",
    "from lib.experiment import load_summary\n",
    "from lib import plot as plot_lib\n",
    "from lib import rt_nbinom  # Module for NB fit of Rt/kt"
   ]
  },
  {
   "cell_type": "markdown",
   "metadata": {},
   "source": [
    "---\n",
    "\n",
    "## Experiment in CH-BE for continued lockdown extended for 4 weeks"
   ]
  },
  {
   "cell_type": "code",
   "execution_count": 4,
   "metadata": {},
   "outputs": [
    {
     "name": "stdout",
     "output_type": "stream",
     "text": [
      "CH: simulation starts on 2020-03-06, lockdown starts on 2020-03-16\n"
     ]
    }
   ],
   "source": [
    "summary_name = 'continued-lockdown-CH-BE-extended_lockdown_weeks=4.pk'\n",
    "\n",
    "# Load the experiment summary\n",
    "result = load_summary(summary_name)\n",
    "\n",
    "# Extract the lockdown start time for the country\n",
    "country_code = result.metadata.country\n",
    "lockdown = calibration_lockdown_dates[country_code]\n",
    "print((f\"{country_code}: simulation starts on {result.metadata.start_date}, \"\n",
    "       f\"lockdown starts on {lockdown['start']}\"))"
   ]
  },
  {
   "cell_type": "code",
   "execution_count": 7,
   "metadata": {
    "scrolled": true
   },
   "outputs": [
    {
     "name": "stdout",
     "output_type": "stream",
     "text": [
      "Save: plots/prob-secondaryCases-continued-lockdown-CH-BE-extended_lockdown_weeks=4-0-pre-lockdown.pdf\n",
      "Save: plots/prob-secondaryCases-continued-lockdown-CH-BE-extended_lockdown_weeks=4-1-in-lockdown.pdf\n",
      "Save: plots/prob-secondaryCases-continued-lockdown-CH-BE-extended_lockdown_weeks=4-2-post-lockdown.pdf\n",
      "PDFCROP 1.38, 2012/11/02 - Copyright (c) 2002-2012 by Heiko Oberdiek.\n",
      "==> 1 page written on `tmp.pdf'.\n",
      "PDFCROP 1.38, 2012/11/02 - Copyright (c) 2002-2012 by Heiko Oberdiek.\n",
      "==> 1 page written on `tmp.pdf'.\n",
      "PDFCROP 1.38, 2012/11/02 - Copyright (c) 2002-2012 by Heiko Oberdiek.\n",
      "==> 1 page written on `tmp.pdf'.\n"
     ]
    }
   ],
   "source": [
    "plotter = plot_lib.Plotter()\n",
    "plotter.plot_nbinom_distributions(result=result,\n",
    "                                  x_range=np.arange(0, 20),\n",
    "                                  t0_range=[0.0 * 24,   # the week before lockdown\n",
    "                                            11.0 * 24,  # right after start of lockdown\n",
    "                                            38.0 * 24   # right after end of lockdown\n",
    "                                  ],\n",
    "                                  window_size=10.0*24,\n",
    "                                  label_range=['pre-lockdown',\n",
    "                                               'in-lockdown',\n",
    "                                               'post-lockdown'],\n",
    "                                   ymax=0.77,\n",
    "                                   filename=summary_name.rstrip('.pk'))\n",
    "\n",
    "# Crop pdf margins\n",
    "!bash crop_pdfs.sh plots/prob-secondaryCases-*.pdf"
   ]
  },
  {
   "cell_type": "code",
   "execution_count": null,
   "metadata": {},
   "outputs": [],
   "source": []
  }
 ],
 "metadata": {
  "kernelspec": {
   "display_name": "Python 3",
   "language": "python",
   "name": "python3"
  },
  "language_info": {
   "codemirror_mode": {
    "name": "ipython",
    "version": 3
   },
   "file_extension": ".py",
   "mimetype": "text/x-python",
   "name": "python",
   "nbconvert_exporter": "python",
   "pygments_lexer": "ipython3",
   "version": "3.7.7"
  }
 },
 "nbformat": 4,
 "nbformat_minor": 4
}
