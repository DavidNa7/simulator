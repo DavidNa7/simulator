{
 "cells": [
  {
   "cell_type": "markdown",
   "metadata": {},
   "source": [
    "# Alternating K Groups\n",
    "\n",
    "This notebook contains the experiment to investigate the question **What is the benefit of restricting alternating random groups?**\n",
    "\n",
    "The notebook is organized as follows:\n",
    "\n",
    "* In Section 1, we define all the simulation parameters.\n",
    "* In Section 2, we run all the simulations needed for the experiment.\n",
    "* In Section 3, we plot the results.\n",
    "\n",
    "To just regenerate the figures from a summary file containing all the simulation objects of the experiment, you can skip Section 2, and only run the cells in Sections 1 & 3. \n",
    "\n",
    "---"
   ]
  },
  {
   "cell_type": "markdown",
   "metadata": {},
   "source": [
    "## 1. Define the experiment parameters"
   ]
  },
  {
   "cell_type": "markdown",
   "metadata": {},
   "source": [
    "#### Import libs"
   ]
  },
  {
   "cell_type": "code",
   "execution_count": null,
   "metadata": {},
   "outputs": [],
   "source": [
    "%load_ext autoreload\n",
    "%autoreload 2\n",
    "import sys\n",
    "if '..' not in sys.path:\n",
    "    sys.path.append('..')"
   ]
  },
  {
   "cell_type": "code",
   "execution_count": null,
   "metadata": {},
   "outputs": [],
   "source": [
    "import numpy as np\n",
    "import pandas as pd\n",
    "import pickle\n",
    "import multiprocessing"
   ]
  },
  {
   "cell_type": "code",
   "execution_count": null,
   "metadata": {},
   "outputs": [],
   "source": [
    "from lib.measures import *\n",
    "from lib.experiment import run_experiment, save_summary, load_summary\n",
    "from lib.calibrationSettings import calibration_lockdown_dates\n",
    "from lib.calibrationFunctions import get_calibrated_params"
   ]
  },
  {
   "cell_type": "markdown",
   "metadata": {},
   "source": [
    "## 1. General settings  "
   ]
  },
  {
   "cell_type": "markdown",
   "metadata": {},
   "source": [
    "#### Set the random seed for reproducibility"
   ]
  },
  {
   "cell_type": "code",
   "execution_count": null,
   "metadata": {},
   "outputs": [],
   "source": [
    "# Choose random seed\n",
    "c = 0\n",
    "np.random.seed(c)\n",
    "TO_HOURS = 24.0\n",
    "\n",
    "# Define prefix string used to save plots\n",
    "expstr = 'k-groups'\n",
    "multi_beta_calibration = False"
   ]
  },
  {
   "cell_type": "markdown",
   "metadata": {},
   "source": [
    "#### Set the number of roll-outs to simulate"
   ]
  },
  {
   "cell_type": "code",
   "execution_count": null,
   "metadata": {},
   "outputs": [],
   "source": [
    "random_repeats = 2 # Set to at least 40 to obtain stable results"
   ]
  },
  {
   "cell_type": "markdown",
   "metadata": {},
   "source": [
    "#### Set the time to simulate"
   ]
  },
  {
   "cell_type": "code",
   "execution_count": null,
   "metadata": {},
   "outputs": [],
   "source": [
    "end_date = '2020-07-31'"
   ]
  },
  {
   "cell_type": "markdown",
   "metadata": {},
   "source": [
    "#### Define locations, mobility settings used for simulation, and experiment parameters"
   ]
  },
  {
   "cell_type": "code",
   "execution_count": null,
   "metadata": {},
   "outputs": [],
   "source": [
    "locs = {\n",
    "    'GER': {\n",
    "        'TU': 'lib/mobility/Tubingen_settings_10.pk',\n",
    "        'KL': 'lib/mobility/Kaiserslautern_settings_10.pk',\n",
    "        'RH': 'lib/mobility/Ruedesheim_settings_10.pk', \n",
    "        'TR': 'lib/mobility/Tirschenreuth_settings_10.pk', \n",
    "    },\n",
    "    'CH': {\n",
    "        'VD': 'lib/mobility/Lausanne_settings_10.pk', \n",
    "        'LU': 'lib/mobility/Lucerne_settings_5.pk', \n",
    "        'TI': 'lib/mobility/Locarno_settings_2.pk', \n",
    "        'JU': 'lib/mobility/Jura_settings_10.pk',\n",
    "    }\n",
    "}\n",
    "\n",
    "seed_summary_path = None\n",
    "\n",
    "# experiment parameters\n",
    "K_groups = [2, 3, 4]\n",
    "K_groups_weeks = 6"
   ]
  },
  {
   "cell_type": "markdown",
   "metadata": {},
   "source": [
    "## 2. Run the simulations"
   ]
  },
  {
   "cell_type": "markdown",
   "metadata": {},
   "source": [
    "Use settings as above and simulate in the future with additional measures\n",
    "\n",
    "**WARNING: the following cells might take a long time to run depending of the parameters defined above!**"
   ]
  },
  {
   "cell_type": "code",
   "execution_count": null,
   "metadata": {},
   "outputs": [],
   "source": [
    "for country, areas in locs.items():\n",
    "    for area, mob_settings in areas.items():\n",
    "        s = dict()\n",
    "        \n",
    "        # start simulation when lockdown ends\n",
    "        start_date = calibration_lockdown_dates[country]['end']\n",
    "        \n",
    "        # load social distancing parameter\n",
    "        p_stay_home = get_calibrated_params(country=country, area=area, multi_beta_calibration=multi_beta_calibration)['p_stay_home']\n",
    "        \n",
    "        # baseline\n",
    "        baseline = run_experiment(\n",
    "            country=country, \n",
    "            area=area, \n",
    "            mob_settings=mob_settings,\n",
    "            start_date=start_date, \n",
    "            end_date=end_date, \n",
    "            measure_list=[], \n",
    "            random_repeats=random_repeats,\n",
    "            test_update=None, \n",
    "            seed_summary_path=seed_summary_path,\n",
    "            multi_beta_calibration=multi_beta_calibration)\n",
    "        s['baseline'] = baseline\n",
    "        \n",
    "        print('Baseline done.', flush=True)\n",
    "\n",
    "        # experiment\n",
    "        for j, k in enumerate(K_groups):\n",
    "            \n",
    "            # additional measures\n",
    "            max_days = (pd.to_datetime(end_date) - pd.to_datetime(start_date)).days\n",
    "            m = [\n",
    "                \n",
    "                # \"K groups curfew\"\n",
    "                SocialDistancingForKGroups(\n",
    "                    t_window=Interval(0.0, (TO_HOURS * 7 * K_groups_weeks)), \n",
    "                     K=k),\n",
    "            ] \n",
    "            \n",
    "            # update testing params\n",
    "            test_update = None\n",
    "            \n",
    "            # run\n",
    "            res = run_experiment(\n",
    "                country=country, \n",
    "                area=area, \n",
    "                mob_settings=mob_settings,\n",
    "                start_date=start_date, \n",
    "                end_date=end_date, \n",
    "                measure_list=m, \n",
    "                random_repeats=random_repeats,\n",
    "                test_update=None, \n",
    "                seed_summary_path=seed_summary_path,\n",
    "                multi_beta_calibration=multi_beta_calibration)\n",
    "            \n",
    "            s[k] = res\n",
    "            \n",
    "            print(country, area, k, ' done.', flush=True)\n",
    "        \n",
    "        # save results\n",
    "        save_summary(s, f'state-{expstr}--{country}-{area}.pk')"
   ]
  },
  {
   "cell_type": "markdown",
   "metadata": {},
   "source": [
    "## 3. Plot the results"
   ]
  },
  {
   "cell_type": "markdown",
   "metadata": {},
   "source": [
    "Import libs"
   ]
  },
  {
   "cell_type": "code",
   "execution_count": null,
   "metadata": {},
   "outputs": [],
   "source": [
    "from lib.plot import Plotter"
   ]
  },
  {
   "cell_type": "markdown",
   "metadata": {},
   "source": [
    "Create figures from summaries"
   ]
  },
  {
   "cell_type": "code",
   "execution_count": null,
   "metadata": {},
   "outputs": [],
   "source": [
    "for country, areas in locs.items():\n",
    "    for area in areas:\n",
    "        s = load_summary(f'state-{expstr}--{country}-{area}.pk')\n",
    "        plotter = Plotter()\n",
    "        titles = [str(k) for k in s.keys()]\n",
    "        summaries = [v for v in s.values()]\n",
    "        fn = f'{expstr}--{country}-{area}'\n",
    "        print(fn)\n",
    "        plotter.compare_total_infections(\n",
    "            summaries, \n",
    "            titles=titles, \n",
    "            figtitle=r'Curfew of K random groups for staggered K - 1 day windows',\n",
    "            filename=fn, \n",
    "            start_date=calibration_lockdown_dates[country]['end'],\n",
    "            figsize=(6,4), acc=500, \n",
    "            ymax=500, errorevery=14)"
   ]
  },
  {
   "cell_type": "code",
   "execution_count": null,
   "metadata": {},
   "outputs": [],
   "source": []
  }
 ],
 "metadata": {
  "kernelspec": {
   "display_name": "Python 3",
   "language": "python",
   "name": "python3"
  },
  "language_info": {
   "codemirror_mode": {
    "name": "ipython",
    "version": 3
   },
   "file_extension": ".py",
   "mimetype": "text/x-python",
   "name": "python",
   "nbconvert_exporter": "python",
   "pygments_lexer": "ipython3",
   "version": "3.8.2"
  }
 },
 "nbformat": 4,
 "nbformat_minor": 2
}
