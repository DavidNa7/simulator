{
 "cells": [
  {
   "cell_type": "markdown",
   "metadata": {},
   "source": [
    "# Alternating K Groups\n",
    "\n",
    "This notebook contains the experiment to investigate the question **What is the benefit of restricting alternating random groups?**\n",
    "\n",
    "The notebook is organized as follows:\n",
    "\n",
    "* In Section 1, we define all the simulation parameters.\n",
    "* In Section 2, we run all the simulations needed for the experiment.\n",
    "* In Section 3, we plot the results.\n",
    "\n",
    "To just regenerate the figures from a summary file containing all the simulation objects of the experiment, you can skip Section 2, and only run the cells in Sections 1 & 3. \n",
    "\n",
    "---"
   ]
  },
  {
   "cell_type": "markdown",
   "metadata": {},
   "source": [
    "## 1. Define the experiment parameters"
   ]
  },
  {
   "cell_type": "markdown",
   "metadata": {},
   "source": [
    "#### Import libs"
   ]
  },
  {
   "cell_type": "code",
   "execution_count": 1,
   "metadata": {},
   "outputs": [],
   "source": [
    "%load_ext autoreload\n",
    "%autoreload 2\n",
    "import sys\n",
    "if '..' not in sys.path:\n",
    "    sys.path.append('..')"
   ]
  },
  {
   "cell_type": "code",
   "execution_count": 2,
   "metadata": {},
   "outputs": [],
   "source": [
    "import numpy as np\n",
    "import pickle\n",
    "import multiprocessing"
   ]
  },
  {
   "cell_type": "code",
   "execution_count": 3,
   "metadata": {},
   "outputs": [],
   "source": [
    "from lib.measures import *\n",
    "from lib.experiment import run_experiment, save_summary, load_summary\n",
    "from lib.settings.calibration_settings import settings_lockdown_dates"
   ]
  },
  {
   "cell_type": "markdown",
   "metadata": {},
   "source": [
    "## 1. General settings  "
   ]
  },
  {
   "cell_type": "markdown",
   "metadata": {},
   "source": [
    "#### Set the random seed for reproducibility"
   ]
  },
  {
   "cell_type": "code",
   "execution_count": 4,
   "metadata": {},
   "outputs": [],
   "source": [
    "# Choose random seed\n",
    "c = 0\n",
    "np.random.seed(c)\n",
    "TO_HOURS = 24.0\n",
    "\n",
    "# Define prefix string used to save plots\n",
    "expstr = 'k-groups'"
   ]
  },
  {
   "cell_type": "markdown",
   "metadata": {},
   "source": [
    "#### Set the number of roll-outs to simulate"
   ]
  },
  {
   "cell_type": "code",
   "execution_count": 5,
   "metadata": {},
   "outputs": [],
   "source": [
    "random_repeats = 1 # Set to at least 20 to obtain stable results"
   ]
  },
  {
   "cell_type": "markdown",
   "metadata": {},
   "source": [
    "#### Set the time to simulate"
   ]
  },
  {
   "cell_type": "code",
   "execution_count": 6,
   "metadata": {},
   "outputs": [],
   "source": [
    "end_date = '2020-07-31'"
   ]
  },
  {
   "cell_type": "markdown",
   "metadata": {},
   "source": [
    "#### Define locations, mobility settings used for simulation, and experiment parameters"
   ]
  },
  {
   "cell_type": "code",
   "execution_count": 9,
   "metadata": {},
   "outputs": [],
   "source": [
    "locs = {\n",
    "#     'GER': {\n",
    "#         'TU': 'lib/mobility/Tubingen_settings_10.pk',\n",
    "#         'KL': 'lib/mobility/Kaiserslautern_settings_10.pk',\n",
    "#         'RH': 'lib/mobility/Ruedesheim_settings_10.pk', \n",
    "#         'TR': 'lib/mobility/Tirschenreuth_settings_10.pk', \n",
    "#     },\n",
    "    'CH': {\n",
    "        'VD': 'lib/mobility/Lausanne_settings_10.pk', \n",
    "        'LU': 'lib/mobility/Lucerne_settings_5.pk', \n",
    "        'TI': 'lib/mobility/Locarno_settings_2.pk', \n",
    "        'JU': 'lib/mobility/Jura_settings_10.pk',\n",
    "    }\n",
    "}\n",
    "\n",
    "heuristic_seeds = True\n",
    "dry_run = True\n",
    "\n",
    "K_groups = [2, 3, 4]\n",
    "K_groups_weeks = 6"
   ]
  },
  {
   "cell_type": "markdown",
   "metadata": {},
   "source": [
    "## 2. Run the simulations"
   ]
  },
  {
   "cell_type": "markdown",
   "metadata": {},
   "source": [
    "Use settings as above and simulate in the future with additional measures\n",
    "\n",
    "**WARNING: the following cells might take a long time to run depending of the parameters defined above!**"
   ]
  },
  {
   "cell_type": "code",
   "execution_count": 28,
   "metadata": {},
   "outputs": [
    {
     "name": "stdout",
     "output_type": "stream",
     "text": [
      "2020-03-10 2020-07-31\n",
      "      Canton      Datum  age_group  days\n",
      "24        VD 2020-05-14          0    65\n",
      "25        VD 2020-05-14          1    65\n",
      "26        VD 2020-05-14          1    65\n",
      "27        VD 2020-05-14          2    65\n",
      "28        VD 2020-05-14          2    65\n",
      "...      ...        ...        ...   ...\n",
      "75761     VD 2020-04-25          8    46\n",
      "75769     VD 2020-03-25          8    15\n",
      "75770     VD 2020-03-30          8    20\n",
      "75771     VD 2020-04-03          8    24\n",
      "75772     VD 2020-04-12          8    33\n",
      "\n",
      "[2898 rows x 4 columns]\n",
      "(70, 9)\n",
      "[[ 44  44  44  44  44  44  44  44  44]\n",
      " [ 48  48  48  48  48  48  48  48  48]\n",
      " [ 52  52  52  52  52  52  52  52  52]\n",
      " [ 56  56  56  56  56  56  56  56  56]\n",
      " [ 60  60  60  60  60  60  60  60  60]\n",
      " [ 64  64  64  64  64  64  64  64  64]\n",
      " [ 68  68  68  68  68  68  68  68  68]\n",
      " [ 72  72  72  72  72  72  72  72  72]\n",
      " [ 76  76  76  76  76  76  76  76  76]\n",
      " [ 80  80  80  80  80  80  80  80  80]\n",
      " [ 84  84  84  84  84  84  84  84  84]\n",
      " [ 88  88  88  88  88  88  88  88  88]\n",
      " [ 92  92  92  92  92  92  92  92  92]\n",
      " [ 96  96  96  96  96  96  96  96  96]\n",
      " [100 100 100 100 100 100 100 100 100]\n",
      " [104 104 104 104 104 104 104 104 104]\n",
      " [108 108 108 108 108 108 108 108 108]\n",
      " [112 112 112 112 112 112 112 112 112]\n",
      " [116 116 116 116 116 116 116 116 116]\n",
      " [120 120 120 120 120 120 120 120 120]\n",
      " [124 124 124 124 124 124 124 124 124]\n",
      " [128 128 128 128 128 128 128 128 128]\n",
      " [132 132 132 132 132 132 132 132 132]\n",
      " [136 136 136 136 136 136 136 136 136]\n",
      " [140 140 140 140 140 140 140 140 140]\n",
      " [144 144 144 144 144 144 144 144 144]\n",
      " [148 148 148 148 148 148 148 148 148]\n",
      " [152 152 152 152 152 152 152 152 152]\n",
      " [156 156 156 156 156 156 156 156 156]\n",
      " [160 160 160 160 160 160 160 160 160]\n",
      " [164 164 164 164 164 164 164 164 164]\n",
      " [168 168 168 168 168 168 168 168 168]\n",
      " [172 172 172 172 172 172 172 172 172]\n",
      " [176 176 176 176 176 176 176 176 176]\n",
      " [180 180 180 180 180 180 180 180 180]\n",
      " [184 184 184 184 184 184 184 184 184]\n",
      " [188 188 188 188 188 188 188 188 188]\n",
      " [192 192 192 192 192 192 192 192 192]\n",
      " [196 196 196 196 196 196 196 196 196]\n",
      " [200 200 200 200 200 200 200 200 200]\n",
      " [204 204 204 204 204 204 204 204 204]\n",
      " [208 208 208 208 208 208 208 208 208]\n",
      " [212 212 212 212 212 212 212 212 212]\n",
      " [216 216 216 216 216 216 216 216 216]\n",
      " [220 220 220 220 220 220 220 220 220]\n",
      " [224 224 224 224 224 224 224 224 224]\n",
      " [228 228 228 228 228 228 228 228 228]\n",
      " [232 232 232 232 232 232 232 232 232]\n",
      " [236 236 236 236 236 236 236 236 236]\n",
      " [240 240 240 240 240 240 240 240 240]\n",
      " [244 244 244 244 244 244 244 244 244]\n",
      " [248 248 248 248 248 248 248 248 248]\n",
      " [252 252 252 252 252 252 252 252 252]\n",
      " [256 256 256 256 256 256 256 256 256]\n",
      " [260 260 260 260 260 260 260 260 260]\n",
      " [264 264 264 264 264 264 264 264 264]\n",
      " [268 268 268 268 268 268 268 268 268]\n",
      " [272 272 272 272 272 272 272 272 272]\n",
      " [276 276 276 276 276 276 276 276 276]\n",
      " [280 280 280 280 280 280 280 280 280]\n",
      " [284 284 284 284 284 284 284 284 284]\n",
      " [288 288 288 288 288 288 288 288 288]\n",
      " [292 292 292 292 292 292 292 292 292]\n",
      " [296 296 296 296 296 296 296 296 296]\n",
      " [300 300 300 300 300 300 300 300 300]\n",
      " [304 304 304 304 304 304 304 304 304]\n",
      " [308 308 308 308 308 308 308 308 308]\n",
      " [312 312 312 312 312 312 312 312 312]\n",
      " [316 316 316 316 316 316 316 316 316]\n",
      " [320 320 320 320 320 320 320 320 320]]\n"
     ]
    },
    {
     "ename": "AssertionError",
     "evalue": "",
     "output_type": "error",
     "traceback": [
      "\u001b[0;31m---------------------------------------------------------------------------\u001b[0m",
      "\u001b[0;31mAssertionError\u001b[0m                            Traceback (most recent call last)",
      "\u001b[0;32m<ipython-input-28-22901500a257>\u001b[0m in \u001b[0;36m<module>\u001b[0;34m\u001b[0m\n\u001b[1;32m      8\u001b[0m \u001b[0;34m\u001b[0m\u001b[0m\n\u001b[1;32m      9\u001b[0m         \u001b[0;31m# baseline\u001b[0m\u001b[0;34m\u001b[0m\u001b[0;34m\u001b[0m\u001b[0;34m\u001b[0m\u001b[0m\n\u001b[0;32m---> 10\u001b[0;31m         baseline = run_experiment(\n\u001b[0m\u001b[1;32m     11\u001b[0m             \u001b[0mcountry\u001b[0m\u001b[0;34m=\u001b[0m\u001b[0mcountry\u001b[0m\u001b[0;34m,\u001b[0m\u001b[0;34m\u001b[0m\u001b[0;34m\u001b[0m\u001b[0m\n\u001b[1;32m     12\u001b[0m             \u001b[0marea\u001b[0m\u001b[0;34m=\u001b[0m\u001b[0marea\u001b[0m\u001b[0;34m,\u001b[0m\u001b[0;34m\u001b[0m\u001b[0;34m\u001b[0m\u001b[0m\n",
      "\u001b[0;32m~/Not iCloud/covid/simulator/sim/lib/experiment.py\u001b[0m in \u001b[0;36mrun_experiment\u001b[0;34m(country, area, mob_settings, start_date, end_date, random_repeats, measure_list, test_update, heuristic_seeds, dry_run)\u001b[0m\n\u001b[1;32m     60\u001b[0m \u001b[0;34m\u001b[0m\u001b[0m\n\u001b[1;32m     61\u001b[0m     \u001b[0mprint\u001b[0m\u001b[0;34m(\u001b[0m\u001b[0mnew_cases_\u001b[0m\u001b[0;34m.\u001b[0m\u001b[0mastype\u001b[0m\u001b[0;34m(\u001b[0m\u001b[0mint\u001b[0m\u001b[0;34m)\u001b[0m\u001b[0;34m)\u001b[0m\u001b[0;34m\u001b[0m\u001b[0;34m\u001b[0m\u001b[0m\n\u001b[0;32m---> 62\u001b[0;31m     \u001b[0;32massert\u001b[0m\u001b[0;34m(\u001b[0m\u001b[0;32mFalse\u001b[0m\u001b[0;34m)\u001b[0m\u001b[0;34m\u001b[0m\u001b[0;34m\u001b[0m\u001b[0m\n\u001b[0m\u001b[1;32m     63\u001b[0m     new_cases = np.ceil(\n\u001b[1;32m     64\u001b[0m         \u001b[0;34m(\u001b[0m\u001b[0mnew_cases_\u001b[0m \u001b[0;34m*\u001b[0m \u001b[0mmob\u001b[0m\u001b[0;34m.\u001b[0m\u001b[0mnum_people_unscaled\u001b[0m\u001b[0;34m)\u001b[0m \u001b[0;34m/\u001b[0m\u001b[0;34m\u001b[0m\u001b[0;34m\u001b[0m\u001b[0m\n",
      "\u001b[0;31mAssertionError\u001b[0m: "
     ]
    }
   ],
   "source": [
    "for country, areas in locs.items():\n",
    "    for area, mob_settings in areas.items():\n",
    "        s = []\n",
    "        \n",
    "        # start simulation when lockdown ends\n",
    "#         start_date = settings_lockdown_dates[country]['end']\n",
    "        start_date = '2020-03-10'\n",
    "\n",
    "        # baseline\n",
    "        baseline = run_experiment(\n",
    "            country=country, \n",
    "            area=area, \n",
    "            mob_settings=mob_settings,\n",
    "            start_date=start_date, \n",
    "            end_date=end_date, \n",
    "            measure_list=[], \n",
    "            random_repeats=random_repeats,\n",
    "            test_update=None, \n",
    "            heuristic_seeds=heuristic_seeds,\n",
    "            dry_run=dry_run)\n",
    "\n",
    "        # experiment\n",
    "        for j, k in enumerate(K_groups):\n",
    "            \n",
    "            # additional measures\n",
    "            m = [\n",
    "                SocialDistancingForKGroups(\n",
    "                 t_window=Interval(0.0, (24.0 * 7 * K_groups_weeks)), \n",
    "                 K=k),\n",
    "            ] \n",
    "            \n",
    "            # update testing params\n",
    "            test_update = None\n",
    "            \n",
    "            # run\n",
    "            res = run_experiment(\n",
    "                country=country, \n",
    "                area=area, \n",
    "                mob_settings=mob_settings,\n",
    "                start_date=start_date, \n",
    "                end_date=end_date, \n",
    "                measure_list=[], \n",
    "                random_repeats=random_repeats,\n",
    "                test_update=None, \n",
    "                heuristic_seeds=heuristic_seeds,\n",
    "                dry_run=dry_run)\n",
    "            \n",
    "            s.append(res)\n",
    "            \n",
    "            print(country, area, k, ' done.', flush=True)\n",
    "        \n",
    "        # save results\n",
    "        save_summary(s, f'state-{expstr}--{country}-{area}.pk')"
   ]
  },
  {
   "cell_type": "markdown",
   "metadata": {},
   "source": [
    "## 3. Plot the results"
   ]
  },
  {
   "cell_type": "markdown",
   "metadata": {},
   "source": [
    "Import libs"
   ]
  },
  {
   "cell_type": "code",
   "execution_count": null,
   "metadata": {},
   "outputs": [],
   "source": [
    "from lib.plot import Plotter"
   ]
  },
  {
   "cell_type": "markdown",
   "metadata": {},
   "source": [
    "Create figures from summaries"
   ]
  },
  {
   "cell_type": "code",
   "execution_count": null,
   "metadata": {},
   "outputs": [],
   "source": [
    "for country, areas in locs.items():\n",
    "    for area in areas:\n",
    "        s = load_summary(f'state-{expstr}--{country}-{area}.pk')\n",
    "        plotter = Plotter()\n",
    "        titles_SD_4 = ['No curfew'] + [f'K = {k}' for k in K_groups]\n",
    "        plotter.compare_total_infections(\n",
    "            summaries_SD_4, \n",
    "            titles=titles_SD_4, \n",
    "            figtitle=r'Curfew of K random groups for staggered K - 1 day windows',\n",
    "            filename=runstr + 'SD_050', \n",
    "            figsize=(6,4), acc=500, \n",
    "            ymax=500, errorevery=14)"
   ]
  },
  {
   "cell_type": "code",
   "execution_count": null,
   "metadata": {},
   "outputs": [],
   "source": []
  }
 ],
 "metadata": {
  "kernelspec": {
   "display_name": "Python 3",
   "language": "python",
   "name": "python3"
  },
  "language_info": {
   "codemirror_mode": {
    "name": "ipython",
    "version": 3
   },
   "file_extension": ".py",
   "mimetype": "text/x-python",
   "name": "python",
   "nbconvert_exporter": "python",
   "pygments_lexer": "ipython3",
   "version": "3.8.2"
  }
 },
 "nbformat": 4,
 "nbformat_minor": 2
}
