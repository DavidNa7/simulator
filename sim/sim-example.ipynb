{
 "cells": [
  {
   "cell_type": "markdown",
   "metadata": {},
   "source": [
    "# Example Scenario\n",
    "\n",
    "This notebook contains an example setup to run experiments as done in the [paper](https://arxiv.org/abs/2004.07641).\n",
    "\n",
    "As we are in the process of significantly refactoring the code base and experiments, we did not update the entire experiment notebook done to reproduce the paper experiments, as they are now deprecated.\n",
    "\n",
    "__If you want to play around and reproduce results currently shown in the arXiv paper, revert to commit__\n",
    "`062f03bd809a5df3db7158e4075f855ce110dfcc`\n",
    "\n",
    "The notebook is organized as follows:\n",
    "\n",
    "* In Section 1, we define all the simulation parameters.\n",
    "* In Section 2, we run all the simulations needed for the experiment.\n",
    "* In Section 3, we plot the results.\n",
    "\n",
    "To just regenerate the figures from a summary file containing all the simulation objects of the experiment, you can skip Section 2, and only run the cells in Sections 1 & 3. \n",
    "\n",
    "---"
   ]
  },
  {
   "cell_type": "markdown",
   "metadata": {},
   "source": [
    "## 1. Define the experiment parameters"
   ]
  },
  {
   "cell_type": "markdown",
   "metadata": {},
   "source": [
    "#### Import libs"
   ]
  },
  {
   "cell_type": "code",
   "execution_count": 1,
   "metadata": {},
   "outputs": [],
   "source": [
    "import numpy as np\n",
    "import pickle, math\n",
    "import pandas as pd\n",
    "import multiprocessing"
   ]
  },
  {
   "cell_type": "code",
   "execution_count": 2,
   "metadata": {},
   "outputs": [],
   "source": [
    "%load_ext autoreload\n",
    "%autoreload 2\n",
    "from lib.mobilitysim import MobilitySimulator\n",
    "from lib.parallel import launch_parallel_simulations\n",
    "from lib.distributions import CovidDistributions\n",
    "from lib.data import collect_data_from_df\n",
    "from lib.measures import (MeasureList, Interval,\n",
    "                          BetaMultiplierMeasureByType,\n",
    "                          SocialDistancingForAllMeasure, \n",
    "                          SocialDistancingForPositiveMeasure,\n",
    "                          SocialDistancingForPositiveMeasureHousehold)\n",
    "from lib.inference import gen_initial_seeds, extract_seeds_from_summary\n",
    "from lib.plot import Plotter\n",
    "import matplotlib.pyplot as plt\n",
    "%matplotlib inline\n",
    "\n",
    "# converting days to hours\n",
    "TO_HOURS = 24.0"
   ]
  },
  {
   "cell_type": "markdown",
   "metadata": {},
   "source": [
    "#### Set the random seed for reproducibility"
   ]
  },
  {
   "cell_type": "code",
   "execution_count": 3,
   "metadata": {},
   "outputs": [],
   "source": [
    "# Choose random seed\n",
    "c = 0\n",
    "# Set it\n",
    "np.random.seed(c)\n",
    "# Define prefix string used to save plots\n",
    "runstr = f'run{c}_'"
   ]
  },
  {
   "cell_type": "markdown",
   "metadata": {},
   "source": [
    "#### Set the number of roll-outs to simulate"
   ]
  },
  {
   "cell_type": "code",
   "execution_count": 4,
   "metadata": {},
   "outputs": [],
   "source": [
    "random_repeats = 4 # Set to at least 40 to obtain stable results"
   ]
  },
  {
   "cell_type": "markdown",
   "metadata": {},
   "source": [
    "#### Define the number of parallel workers used for simulations "
   ]
  },
  {
   "cell_type": "code",
   "execution_count": 5,
   "metadata": {},
   "outputs": [],
   "source": [
    "num_workers = multiprocessing.cpu_count() - 1"
   ]
  },
  {
   "cell_type": "markdown",
   "metadata": {},
   "source": [
    "#### Set the time to simulate"
   ]
  },
  {
   "cell_type": "code",
   "execution_count": 6,
   "metadata": {},
   "outputs": [],
   "source": [
    "start_date = '2020-03-10'\n",
    "end_date = '2020-03-23'\n",
    "sim_days = (pd.to_datetime(end_date) - pd.to_datetime(start_date)).days\n",
    "max_time = TO_HOURS * sim_days # in hours"
   ]
  },
  {
   "cell_type": "markdown",
   "metadata": {},
   "source": [
    "#### Define population/mobility parameters\n",
    "\n",
    "Import downsampled version of Tübingen (population downsampled by 20x, sites by 10x) that was used used to generate mobility traces on the fly for inference (sites, home locations, etc)\n",
    "\n",
    "Check out `lib/mobility/` and `lib/settings/` for all pre-generated towns in Germany and Switzerland. "
   ]
  },
  {
   "cell_type": "code",
   "execution_count": 7,
   "metadata": {},
   "outputs": [],
   "source": [
    "case_downsample = 10                                \n",
    "mob_settings = 'lib/mobility/Tubingen_settings_10_10_hh.pk'  \n",
    "area = 'TU'\n",
    "country = 'GER'\n",
    "\n",
    "# See town-generator.ipynb for an example on how to create the settings\n",
    "with open(mob_settings, 'rb') as fp:\n",
    "    obj = pickle.load(fp)\n",
    "mob = MobilitySimulator(**obj)"
   ]
  },
  {
   "cell_type": "markdown",
   "metadata": {},
   "source": [
    "#### Load the case data\n",
    "\n",
    "Adjust the number of cases to the down-scaling of the population"
   ]
  },
  {
   "cell_type": "code",
   "execution_count": 8,
   "metadata": {},
   "outputs": [
    {
     "data": {
      "image/png": "[encoded data removed]",
      "text/plain": [
       "<Figure size 432x288 with 1 Axes>"
      ]
     },
     "metadata": {
      "needs_background": "light"
     },
     "output_type": "display_data"
    }
   ],
   "source": [
    "new_cases_ = collect_data_from_df(country=country, area=area, datatype='new',\n",
    "    start_date_string=start_date, end_date_string=end_date)\n",
    "new_cases = np.ceil(1/case_downsample * new_cases_)\n",
    "\n",
    "plt.plot(new_cases_.sum(1));"
   ]
  },
  {
   "cell_type": "markdown",
   "metadata": {},
   "source": [
    "#### Instantiate correct state transition distributions (estimated from in literature)"
   ]
  },
  {
   "cell_type": "code",
   "execution_count": 9,
   "metadata": {},
   "outputs": [],
   "source": [
    "distributions = CovidDistributions(country=country)"
   ]
  },
  {
   "cell_type": "markdown",
   "metadata": {},
   "source": [
    "#### Define helper I/O functions to load/save the output of the experiment"
   ]
  },
  {
   "cell_type": "code",
   "execution_count": 10,
   "metadata": {},
   "outputs": [],
   "source": [
    "def save_summary(summary, filename):\n",
    "    with open('summaries/' + filename, 'wb') as fp:\n",
    "        pickle.dump(summary, fp)\n",
    "    \n",
    "def load_summary(filename):\n",
    "    with open('summaries/' + filename, 'rb') as fp:\n",
    "        summary = pickle.load(fp)\n",
    "    return summary"
   ]
  },
  {
   "cell_type": "markdown",
   "metadata": {},
   "source": [
    "#### Define initial seed count per state \n"
   ]
  },
  {
   "cell_type": "code",
   "execution_count": 11,
   "metadata": {},
   "outputs": [],
   "source": [
    "heuristic_seeds = True\n",
    "\n",
    "# (a) define heuristically based on true cases and literature distribution estimates\n",
    "if heuristic_seeds:\n",
    "    initial_seeds = gen_initial_seeds(new_cases)\n",
    "\n",
    "# (b) define based state of previous batch of simulations, \n",
    "# using the random rollout that best matched the true cases in terms of squared error\n",
    "else:\n",
    "    seed_summary_ = load_summary('summary_example.pk')\n",
    "    seed_day_ = 7\n",
    "    initial_seeeds = extract_seeds_from_summary(seed_summary_, seed_day_, new_cases)"
   ]
  },
  {
   "cell_type": "markdown",
   "metadata": {},
   "source": [
    "#### Set epidemic parameters\n",
    "\n",
    "Calibrated using Bayesian optimization."
   ]
  },
  {
   "cell_type": "code",
   "execution_count": 12,
   "metadata": {},
   "outputs": [],
   "source": [
    "beta = 1.00 # this needs to be calibrated\n",
    "\n",
    "inferred_params = {\n",
    "    'betas' : {\n",
    "        'education': beta,\n",
    "        'social': beta,\n",
    "        'bus_stop': beta,\n",
    "        'office': beta,\n",
    "        'supermarket': beta}, \n",
    "    'beta_household' : beta\n",
    "}"
   ]
  },
  {
   "cell_type": "markdown",
   "metadata": {},
   "source": [
    "#### Define standard testing parameters\n",
    "\n",
    "The parameters are the same used for inference."
   ]
  },
  {
   "cell_type": "code",
   "execution_count": 13,
   "metadata": {},
   "outputs": [],
   "source": [
    "def standard_testing(max_time):\n",
    "    daily_increase = new_cases.sum(axis=1)[1:] - new_cases.sum(axis=1)[:-1]\n",
    "    standard_testing_params = {\n",
    "        'testing_t_window'    : [0.0, max_time], # in hours\n",
    "        'testing_frequency'   : 1 * TO_HOURS,     # in hours\n",
    "        'test_reporting_lag'  : 2 * TO_HOURS,     # in hours (actual and self-report delay)\n",
    "        'tests_per_batch'     : int(daily_increase.max()), # test capacity based on empirical positive tests\n",
    "        'test_fpr'            : 0.0, # test false positive rate\n",
    "        'test_fnr'            : 0.0, # test false negative rate\n",
    "        'test_smart_delta'    : 3 * TO_HOURS, # in hours\n",
    "        'test_smart_duration' : 7 * TO_HOURS, # in hours\n",
    "        'test_smart_action'   : 'isolate', \n",
    "        'test_smart_num_contacts'   : 10, \n",
    "        'test_targets'        : 'isym',\n",
    "        'test_queue_policy'   : 'fifo',\n",
    "        'smart_tracing'       : None, \n",
    "    }\n",
    "    return standard_testing_params"
   ]
  },
  {
   "cell_type": "markdown",
   "metadata": {},
   "source": [
    "---"
   ]
  },
  {
   "cell_type": "markdown",
   "metadata": {},
   "source": [
    "## 2. Run the simulations"
   ]
  },
  {
   "cell_type": "markdown",
   "metadata": {},
   "source": [
    "Define a helper function to run general type of experiment, fixing all parameters above."
   ]
  },
  {
   "cell_type": "code",
   "execution_count": 14,
   "metadata": {},
   "outputs": [],
   "source": [
    "def run(tparam, measure_list, t, local_seeds, dynamic_tracing=False):\n",
    "\n",
    "    # add standard measure of positives staying isolated\n",
    "    measure_list +=  [\n",
    "        SocialDistancingForPositiveMeasure(\n",
    "            t_window=Interval(0.0, t), p_stay_home=1.0),\n",
    "        \n",
    "        SocialDistancingForPositiveMeasureHousehold(\n",
    "            t_window=Interval(0.0, t), p_isolate=1.0)\n",
    "    ]\n",
    "    measure_list = MeasureList(measure_list)\n",
    "\n",
    "    # run simulations\n",
    "    summary = launch_parallel_simulations(\n",
    "        mob_settings, \n",
    "        distributions, \n",
    "        random_repeats, num_workers, \n",
    "        inferred_params, local_seeds, tparam, measure_list, \n",
    "        max_time=t, \n",
    "        num_people=mob.num_people, \n",
    "        num_sites=mob.num_sites, \n",
    "        site_loc=mob.site_loc, \n",
    "        home_loc=mob.home_loc,\n",
    "        dynamic_tracing=dynamic_tracing,\n",
    "        verbose=False)\n",
    "    return summary\n",
    "    "
   ]
  },
  {
   "cell_type": "markdown",
   "metadata": {},
   "source": [
    "#### Define Measures to take place during simulation"
   ]
  },
  {
   "cell_type": "code",
   "execution_count": 15,
   "metadata": {},
   "outputs": [],
   "source": [
    "lockdown_at_day = 7\n",
    "\n",
    "example_measures = [\n",
    "    \n",
    "    # education, social sites, and offices close after 1 week\n",
    "    BetaMultiplierMeasureByType(\n",
    "        t_window=Interval(lockdown_at_day * TO_HOURS, max_time), \n",
    "        beta_multiplier={ \n",
    "            'education': 0.0, \n",
    "            'social': 0.0, \n",
    "            'bus_stop': 1.0, \n",
    "            'office': 0.0, \n",
    "            'supermarket': 1.0\n",
    "        }),\n",
    "    \n",
    "    # less activities of all due to contact constraints after 1 week\n",
    "    SocialDistancingForAllMeasure(\n",
    "     t_window=Interval(lockdown_at_day * TO_HOURS, max_time), \n",
    "        p_stay_home=0.5)\n",
    "    \n",
    "    # see measures.py for other options\n",
    "]\n"
   ]
  },
  {
   "cell_type": "markdown",
   "metadata": {},
   "source": [
    "Run the experiment using the parameters defined above and simulate in the future, with additional measures of varying duration.\n",
    "\n",
    "**WARNING: this cell might take a long time to run depending of the parameters defined above!**"
   ]
  },
  {
   "cell_type": "code",
   "execution_count": 16,
   "metadata": {},
   "outputs": [],
   "source": [
    "testing_params = standard_testing(max_time)\n",
    "summary_example = run(testing_params, example_measures, max_time, initial_seeds)\n",
    "save_summary(summary_example, 'summary_example.pk')"
   ]
  },
  {
   "cell_type": "markdown",
   "metadata": {},
   "source": [
    "## 3. Plot the results"
   ]
  },
  {
   "cell_type": "markdown",
   "metadata": {},
   "source": [
    "Load the summary holding the results of the experiment to plot."
   ]
  },
  {
   "cell_type": "code",
   "execution_count": 17,
   "metadata": {},
   "outputs": [],
   "source": [
    "summary_example = load_summary('summary_example.pk')"
   ]
  },
  {
   "cell_type": "markdown",
   "metadata": {},
   "source": [
    "Example plot (a)"
   ]
  },
  {
   "cell_type": "code",
   "execution_count": 22,
   "metadata": {},
   "outputs": [
    {
     "data": {
      "image/png": "[encoded data removed]",
      "text/plain": [
       "<Figure size 432x288 with 1 Axes>"
      ]
     },
     "metadata": {
      "needs_background": "light"
     },
     "output_type": "display_data"
    }
   ],
   "source": [
    "plotter = Plotter()\n",
    "plotter.plot_positives_vs_target(\n",
    "    summary_example, new_cases.sum(axis=1), \n",
    "    test_lag=2,\n",
    "    title='Predictions for observed controlled scenario after March 23', \n",
    "    filename=runstr + 'ex_00',\n",
    "    figsize=(6, 4),\n",
    "    start_date=start_date,\n",
    "    errorevery=1, acc=1000, \n",
    "    lockdown_at=lockdown_at_day,\n",
    "    ymax=50)\n"
   ]
  },
  {
   "cell_type": "markdown",
   "metadata": {},
   "source": [
    "Example plot (b)"
   ]
  },
  {
   "cell_type": "code",
   "execution_count": 19,
   "metadata": {},
   "outputs": [
    {
     "name": "stdout",
     "output_type": "stream",
     "text": [
      "Optimize sigma using maximum likelihood estimation...\n",
      " 0.50: 3\n",
      " 0.50: 3\n",
      " 0.01: 3\n",
      " 0.01: 3\n",
      "done. Best sigma found at: 0.01\n"
     ]
    },
    {
     "data": {
      "image/png": "[encoded data removed]",
      "text/plain": [
       "<Figure size 432x288 with 1 Axes>"
      ]
     },
     "metadata": {
      "needs_background": "light"
     },
     "output_type": "display_data"
    }
   ],
   "source": [
    "plotter = Plotter()\n",
    "plotter.plot_daily_rts(\n",
    "    summary_example,\n",
    "    filename=runstr + 'ex_01',\n",
    "    start_date=start_date,\n",
    "    sigma=None,\n",
    "    figsize=(6, 4), \n",
    "    subplot_adjust=None,\n",
    "    lockdown_label='Lockdown', \n",
    "    lockdown_at=lockdown_at_day,\n",
    "    lockdown_label_y=2.6,\n",
    "    ymax=4.0)"
   ]
  },
  {
   "cell_type": "markdown",
   "metadata": {},
   "source": [
    "Example plot (c)"
   ]
  },
  {
   "cell_type": "code",
   "execution_count": 20,
   "metadata": {},
   "outputs": [
    {
     "data": {
      "image/png": "[encoded data removed]",
      "text/plain": [
       "<Figure size 432x288 with 1 Axes>"
      ]
     },
     "metadata": {
      "needs_background": "light"
     },
     "output_type": "display_data"
    }
   ],
   "source": [
    "targets = new_cases.sum(axis=1)\n",
    "targets = np.hstack((targets[0], np.diff(targets)))\n",
    "\n",
    "plotter = Plotter()\n",
    "plotter.plot_daily_infected(\n",
    "    summary_example,\n",
    "    title='', \n",
    "    filename=runstr + 'ex_02',\n",
    "    errorevery=100, acc=1000, \n",
    "    figsize=(6, 4),\n",
    "    start_date=start_date,\n",
    "    show_target=targets,\n",
    "    lockdown_at=lockdown_at_day,\n",
    "    lockdown_label_y=30,\n",
    "    lockdown_label='Lockdown',\n",
    "    ymax=50)"
   ]
  },
  {
   "cell_type": "markdown",
   "metadata": {},
   "source": [
    "Example plot (d)"
   ]
  },
  {
   "cell_type": "code",
   "execution_count": 21,
   "metadata": {},
   "outputs": [
    {
     "data": {
      "image/png": "[encoded data removed]",
      "text/plain": [
       "<Figure size 432x288 with 1 Axes>"
      ]
     },
     "metadata": {
      "needs_background": "light"
     },
     "output_type": "display_data"
    }
   ],
   "source": [
    "plotter = Plotter()\n",
    "plotter.plot_cumulative_infected(\n",
    "    summary_example,\n",
    "    title='', \n",
    "    filename=runstr + 'ex_03',\n",
    "    figsize=(6, 4),\n",
    "    legend_loc='upper left',\n",
    "    errorevery=100, acc=1000, \n",
    "    start_date=start_date,\n",
    "    lockdown_at=lockdown_at_day,\n",
    "    lockdown_label_y=60,\n",
    "    show_target=new_cases.sum(axis=1),\n",
    "    ymax=60)"
   ]
  },
  {
   "cell_type": "code",
   "execution_count": null,
   "metadata": {},
   "outputs": [],
   "source": []
  }
 ],
 "metadata": {
  "kernelspec": {
   "display_name": "Python 3",
   "language": "python",
   "name": "python3"
  },
  "language_info": {
   "codemirror_mode": {
    "name": "ipython",
    "version": 3
   },
   "file_extension": ".py",
   "mimetype": "text/x-python",
   "name": "python",
   "nbconvert_exporter": "python",
   "pygments_lexer": "ipython3",
   "version": "3.8.2"
  }
 },
 "nbformat": 4,
 "nbformat_minor": 2
}
