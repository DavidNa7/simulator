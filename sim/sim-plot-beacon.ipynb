{
 "cells": [
  {
   "cell_type": "markdown",
   "metadata": {},
   "source": [
    "# Experiment plotting\n",
    "\n",
    "This notebook contains the code for plotting results for the different experiments.\n",
    "When run for the first time for a town, condensed summary files are being created which strongly speed up subsequent generations of plots from the same summaries. It is possible to create the plots only from the condensed summaries located in 'summaries/condensed_summaries'.\n",
    "Note that this works for all experiments but the Rt plots, which still require the full summary file.\n"
   ]
  },
  {
   "cell_type": "code",
   "execution_count": null,
   "metadata": {},
   "outputs": [],
   "source": [
    "%load_ext autoreload\n",
    "%autoreload 2"
   ]
  },
  {
   "cell_type": "code",
   "execution_count": null,
   "metadata": {},
   "outputs": [],
   "source": [
    "import os\n",
    "import pandas as pd\n",
    "import pickle\n",
    "from lib.measures import *\n",
    "from lib.experiment import Experiment, Plot, Result, get_properties, load_summary_list, load_summary\n",
    "from lib.data import collect_data_from_df\n",
    "from lib.calibrationSettings import calibration_lockdown_dates, calibration_start_dates, calibration_mob_paths\n",
    "from lib.calibrationFunctions import get_calibrated_params, downsample_cases\n",
    "import lib.plot as lib_plot\n",
    "from lib.plot import Plotter\n",
    "from lib.summary import load_condensed_summary"
   ]
  },
  {
   "cell_type": "code",
   "execution_count": null,
   "metadata": {},
   "outputs": [],
   "source": [
    "places = [('CH', 'TI')]\n",
    "ymax = {'CH' : {'TI': 100, 'BE': 40000, 'JU': 25000},\n",
    "        'GER': {'TU': 300, 'KL': 2000, 'RH': 3500}}"
   ]
  },
  {
   "cell_type": "markdown",
   "metadata": {},
   "source": [
    "## ROC"
   ]
  },
  {
   "cell_type": "code",
   "execution_count": null,
   "metadata": {},
   "outputs": [],
   "source": [
    "def plot_roc(country, area, p_adoption):\n",
    "    # Format: {`filename for plot` : `list of `Plot` objects`}\n",
    "    plots = {\n",
    "         f'beacon-environment-{country}-{area}' : [\n",
    "            Plot(label='tracing-stats', \n",
    "                path=(f'beacon-environment-{country}-{area}/'\n",
    "                      f'beacon-environment-{country}-{area}-p_adoption={p_adoption}-x=8.0.pk')),\n",
    "        ],\n",
    "    }\n",
    "    \n",
    "    for plot_filename, plots in plots.items():\n",
    "        # extract plot info\n",
    "        labels = get_properties(plots, 'label')\n",
    "        paths = get_properties(plots, 'path')\n",
    "        \n",
    "        #results = load_summary_list(paths)\n",
    "        #summaries = get_properties(results, 'summary')\n",
    "    \n",
    "        # plots\n",
    "        plotter = Plotter()\n",
    "\n",
    "        plotter.plot_roc_curve(\n",
    "            titles=labels,\n",
    "            summaries=None,\n",
    "            paths=paths,\n",
    "            filename=plot_filename, \n",
    "            action='isolate',\n",
    "#             figsize=lib_plot.FIG_SIZE_FULL_PAGE_DOUBLE_ARXIV_TALL, \n",
    "            figsize=(4, 2), \n",
    "            figformat='neurips-double')\n",
    "        \n",
    "p_adoption = 0.5\n",
    "        \n",
    "for country, area in places:\n",
    "    plot_roc(country, area, p_adoption)"
   ]
  },
  {
   "cell_type": "code",
   "execution_count": null,
   "metadata": {
    "scrolled": true
   },
   "outputs": [],
   "source": [
    "# Crop pdf margins\n",
    "# !bash crop_pdfs.sh plots/beacon-environment-*.pdf\n"
   ]
  },
  {
   "cell_type": "markdown",
   "metadata": {},
   "source": [
    "# Beacons\n"
   ]
  },
  {
   "cell_type": "code",
   "execution_count": null,
   "metadata": {},
   "outputs": [],
   "source": [
    "def plot_beacon_proportion(country, area, ymax):\n",
    "    # Format: {`filename for plot` : `list of `Plot` objects`}\n",
    "    plots = {\n",
    "        f'beacons-proportion-{country}-{area}' : [\n",
    "            Plot(label='P2P',\n",
    "                path=(f'beacon-baseline-{country}-{area}/'\n",
    "                      f'beacon-baseline-{country}-{area}-p_adoption=0.25.pk')),\n",
    "            \n",
    "#             Plot(label='Beacon at top 5\\% sites',\n",
    "#                 path=(f'beacon-sparse-locations-{country}-{area}/'\n",
    "#                       f'beacon-sparse-locations-{country}-{area}-p_adoption=0.25-p_recall=1.0-beacon_mode=visit_freq-beacon_proportion=0.05.pk')),\n",
    "#             Plot(label='Beacon at top 10\\% sites',\n",
    "#                 path=(f'beacon-sparse-locations-{country}-{area}/'\n",
    "#                       f'beacon-sparse-locations-{country}-{area}-p_adoption=0.25-p_recall=1.0-beacon_mode=visit_freq-beacon_proportion=0.1.pk')),\n",
    "            Plot(label='Beacon at top 25\\% sites',\n",
    "                path=(f'beacon-sparse-locations-{country}-{area}/'\n",
    "                      f'beacon-sparse-locations-{country}-{area}-p_adoption=0.25-p_recall=1.0-beacon_mode=visit_freq-beacon_proportion=0.25.pk')),\n",
    "            Plot(label='Beacon at top 50\\% sites',\n",
    "                path=(f'beacon-sparse-locations-{country}-{area}/'\n",
    "                      f'beacon-sparse-locations-{country}-{area}-p_adoption=0.25-p_recall=1.0-beacon_mode=visit_freq-beacon_proportion=0.5.pk')),\n",
    "            Plot(label='Beacon at all sites',\n",
    "                path=(f'beacon-sparse-locations-{country}-{area}/'\n",
    "                      f'beacon-sparse-locations-{country}-{area}-p_adoption=0.25-p_recall=1.0-beacon_mode=visit_freq-beacon_proportion=1.0.pk')),\n",
    "            \n",
    "        \n",
    "        ]\n",
    "    }\n",
    "\n",
    "    for plot_filename, plots in plots.items():\n",
    "\n",
    "        # extract plot info\n",
    "        labels = get_properties(plots, 'label')\n",
    "        paths = get_properties(plots, 'path')\n",
    "\n",
    "        # plots\n",
    "        plotter = Plotter()\n",
    "\n",
    "        plotter.compare_total_infections(\n",
    "            paths, \n",
    "            titles=labels, \n",
    "            filename=plot_filename, \n",
    "            show_single_runs=False,\n",
    "#             figsize=lib_plot.FIG_SIZE_FULL_PAGE_TRIPLE_ARXIV, \n",
    "            figsize=lib_plot.FIG_SIZE_FULL_PAGE_DOUBLE_ARXIV_TALL, \n",
    "            figformat='neurips-double',\n",
    "            legend_is_left=True,\n",
    "            lockdown_label_y=1000,\n",
    "            ymax=ymax[country][area],\n",
    "            x_axis_dates=False,\n",
    "            xtick_interval=3,\n",
    "            errorevery=14)"
   ]
  },
  {
   "cell_type": "code",
   "execution_count": null,
   "metadata": {},
   "outputs": [],
   "source": [
    "plot_beacon_proportion(country, area, ymax)"
   ]
  },
  {
   "cell_type": "code",
   "execution_count": null,
   "metadata": {},
   "outputs": [],
   "source": [
    "def plot_beacon_manual_tracing(country, area, ymax):\n",
    "    # Format: {`filename for plot` : `list of `Plot` objects`}\n",
    "    plots = {\n",
    "        f'beacons-manual-tracing-{country}-{area}' : [\n",
    "            Plot(label='P2P, 10\\% compliance',\n",
    "                path=(f'beacon-baseline-{country}-{area}/'\n",
    "                      f'beacon-baseline-{country}-{area}-p_adoption=0.1.pk')),\n",
    "            Plot(label='P2P, 25\\% compliance',\n",
    "                path=(f'beacon-baseline-{country}-{area}/'\n",
    "                      f'beacon-baseline-{country}-{area}-p_adoption=0.25.pk')),\n",
    "            Plot(label='P2P, 50\\% compliance',\n",
    "                path=(f'beacon-baseline-{country}-{area}/'\n",
    "                      f'beacon-baseline-{country}-{area}-p_adoption=0.5.pk')),\n",
    "            Plot(label='P2P, 100\\% compliance',\n",
    "                path=(f'beacon-baseline-{country}-{area}/'\n",
    "                      f'beacon-baseline-{country}-{area}-p_adoption=1.0.pk')),\n",
    "                \n",
    "            \n",
    "            Plot(label='Beacon, 10\\% compliance',\n",
    "                path=(f'beacon-manual-tracing-{country}-{area}/'\n",
    "                      f'beacon-manual-tracing-{country}-{area}-p_adoption=0.1-p_recall=1.0-beacon_proportion=1.0-p_willing_to_share=1.0.pk')),\n",
    "            Plot(label='Beacon, 25\\% compliance',\n",
    "                path=(f'beacon-manual-tracing-{country}-{area}/'\n",
    "                      f'beacon-manual-tracing-{country}-{area}-p_adoption=0.25-p_recall=1.0-beacon_proportion=1.0-p_willing_to_share=1.0.pk')),\n",
    "            Plot(label='Beacon, 50\\% compliance',\n",
    "                path=(f'beacon-manual-tracing-{country}-{area}/'\n",
    "                      f'beacon-manual-tracing-{country}-{area}-p_adoption=0.5-p_recall=1.0-beacon_proportion=1.0-p_willing_to_share=1.0.pk')),\n",
    "            Plot(label='Beacon, 100\\% compliance',\n",
    "                path=(f'beacon-manual-tracing-{country}-{area}/'\n",
    "                      f'beacon-manual-tracing-{country}-{area}-p_adoption=1.0-p_recall=1.0-beacon_proportion=1.0-p_willing_to_share=1.0.pk')),    \n",
    "        \n",
    "        ]\n",
    "    }\n",
    "\n",
    "    for plot_filename, plots in plots.items():\n",
    "\n",
    "        # extract plot info\n",
    "        labels = get_properties(plots, 'label')\n",
    "        paths = get_properties(plots, 'path')\n",
    "\n",
    "        # plots\n",
    "        plotter = Plotter()\n",
    "\n",
    "        plotter.compare_total_infections(\n",
    "            paths, \n",
    "            titles=labels, \n",
    "            filename=plot_filename, \n",
    "            show_single_runs=False,\n",
    "#             figsize=lib_plot.FIG_SIZE_FULL_PAGE_TRIPLE_ARXIV, \n",
    "            figsize=lib_plot.FIG_SIZE_FULL_PAGE_DOUBLE_ARXIV_TALL, \n",
    "            figformat='neurips-double',\n",
    "            legend_is_left=True,\n",
    "            lockdown_label_y=1000,\n",
    "            ymax=ymax[country][area],\n",
    "            x_axis_dates=False,\n",
    "            xtick_interval=3,\n",
    "            errorevery=14)"
   ]
  },
  {
   "cell_type": "code",
   "execution_count": null,
   "metadata": {},
   "outputs": [],
   "source": [
    "plot_beacon_manual_tracing(country, area, ymax)"
   ]
  },
  {
   "cell_type": "code",
   "execution_count": null,
   "metadata": {},
   "outputs": [],
   "source": []
  },
  {
   "cell_type": "code",
   "execution_count": null,
   "metadata": {},
   "outputs": [],
   "source": []
  },
  {
   "cell_type": "code",
   "execution_count": null,
   "metadata": {},
   "outputs": [],
   "source": []
  },
  {
   "cell_type": "code",
   "execution_count": null,
   "metadata": {},
   "outputs": [],
   "source": []
  }
 ],
 "metadata": {
  "kernelspec": {
   "display_name": "Python3 (covid19)",
   "language": "python",
   "name": "covid19"
  },
  "language_info": {
   "codemirror_mode": {
    "name": "ipython",
    "version": 3
   },
   "file_extension": ".py",
   "mimetype": "text/x-python",
   "name": "python",
   "nbconvert_exporter": "python",
   "pygments_lexer": "ipython3",
   "version": "3.7.3"
  }
 },
 "nbformat": 4,
 "nbformat_minor": 2
}
