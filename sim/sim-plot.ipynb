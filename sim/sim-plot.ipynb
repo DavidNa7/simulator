{
 "cells": [
  {
   "cell_type": "markdown",
   "metadata": {},
   "source": [
    "# Experiment plotting\n",
    "\n",
    "This notebook contains the code for plotting results for the different experiments.\n",
    "When run for the first time for a town, condensed summary files are being created which strongly speed up subsequent generations of plots from the same summaries. It is possible to create the plots only from the condensed summaries located in 'summaries/condensed_summaries'.\n",
    "Note that this works for all experiments but the Rt plots, which still require the full summary file.\n"
   ]
  },
  {
   "cell_type": "code",
   "execution_count": 2,
   "metadata": {},
   "outputs": [],
   "source": [
    "%load_ext autoreload\n",
    "%autoreload 2"
   ]
  },
  {
   "cell_type": "code",
   "execution_count": 3,
   "metadata": {},
   "outputs": [],
   "source": [
    "import os\n",
    "import pandas as pd\n",
    "import pickle\n",
    "import itertools\n",
    "from lib.measures import *\n",
    "from lib.experiment import Experiment, Plot, Result, get_properties, load_summary_list, load_summary\n",
    "from lib.data import collect_data_from_df\n",
    "from lib.calibrationSettings import calibration_lockdown_dates, calibration_start_dates, calibration_mob_paths\n",
    "from lib.calibrationFunctions import get_calibrated_params, downsample_cases\n",
    "import lib.plot as lib_plot\n",
    "from lib.plot import Plotter\n",
    "import matplotlib.pyplot as plt\n",
    "from lib.summary import load_condensed_summary"
   ]
  },
  {
   "cell_type": "code",
   "execution_count": 4,
   "metadata": {},
   "outputs": [],
   "source": [
    "commithash = '594b678'# 'cd1d945'\n",
    "baseline_commithash = '594b678'#cd1d945'\n",
    "# baseline_commithash = '75f335d'\n",
    "tracing_commithash = '594b678' #'364e318'"
   ]
  },
  {
   "cell_type": "markdown",
   "metadata": {},
   "source": [
    "# Model validation"
   ]
  },
  {
   "cell_type": "markdown",
   "metadata": {},
   "source": [
    "\\subsection{Model validation}\n",
    "(2x3 or 2x4 double-column panel) with 2 rows of: beta heatmap and model fit plots next to it\n",
    "\n"
   ]
  },
  {
   "cell_type": "markdown",
   "metadata": {},
   "source": [
    "## Transferability of parameters"
   ]
  },
  {
   "cell_type": "code",
   "execution_count": 5,
   "metadata": {},
   "outputs": [
    {
     "ename": "FileNotFoundError",
     "evalue": "[Errno 2] No such file or directory: 'condensed_summaries/validation-BE-0ba76d9/validation-BE-validation_region=BE_condensed.pk'",
     "output_type": "error",
     "traceback": [
      "\u001B[0;31m---------------------------------------------------------------------------\u001B[0m",
      "\u001B[0;31mFileNotFoundError\u001B[0m                         Traceback (most recent call last)",
      "\u001B[0;32m<ipython-input-5-b20c82bca49b>\u001B[0m in \u001B[0;36m<module>\u001B[0;34m\u001B[0m\n\u001B[1;32m     29\u001B[0m             show_legend=show_legend)\n\u001B[1;32m     30\u001B[0m \u001B[0;34m\u001B[0m\u001B[0m\n\u001B[0;32m---> 31\u001B[0;31m \u001B[0mplot_model_fit_and_transferability\u001B[0m\u001B[0;34m(\u001B[0m\u001B[0mcalibration_region\u001B[0m\u001B[0;34m=\u001B[0m\u001B[0;34m'BE'\u001B[0m\u001B[0;34m)\u001B[0m\u001B[0;34m\u001B[0m\u001B[0;34m\u001B[0m\u001B[0m\n\u001B[0m",
      "\u001B[0;32m<ipython-input-5-b20c82bca49b>\u001B[0m in \u001B[0;36mplot_model_fit_and_transferability\u001B[0;34m(calibration_region, ymax, show_legend)\u001B[0m\n\u001B[1;32m     27\u001B[0m             \u001B[0mfigformat\u001B[0m\u001B[0;34m=\u001B[0m\u001B[0;34m'neurips-double'\u001B[0m\u001B[0;34m,\u001B[0m\u001B[0;34m\u001B[0m\u001B[0;34m\u001B[0m\u001B[0m\n\u001B[1;32m     28\u001B[0m             \u001B[0msmall_figure\u001B[0m\u001B[0;34m=\u001B[0m\u001B[0;32mTrue\u001B[0m\u001B[0;34m,\u001B[0m\u001B[0;34m\u001B[0m\u001B[0;34m\u001B[0m\u001B[0m\n\u001B[0;32m---> 29\u001B[0;31m             show_legend=show_legend)\n\u001B[0m\u001B[1;32m     30\u001B[0m \u001B[0;34m\u001B[0m\u001B[0m\n\u001B[1;32m     31\u001B[0m \u001B[0mplot_model_fit_and_transferability\u001B[0m\u001B[0;34m(\u001B[0m\u001B[0mcalibration_region\u001B[0m\u001B[0;34m=\u001B[0m\u001B[0;34m'BE'\u001B[0m\u001B[0;34m)\u001B[0m\u001B[0;34m\u001B[0m\u001B[0;34m\u001B[0m\u001B[0m\n",
      "\u001B[0;32m~/code/covid19/simulator/sim/lib/plot.py\u001B[0m in \u001B[0;36mplot_positives_vs_target\u001B[0;34m(self, paths, labels, country, area, ymax, lockdown_label, lockdown_label_y, filename, show_legend, figsize, figformat, small_figure, cluster_compatible)\u001B[0m\n\u001B[1;32m   1280\u001B[0m         \u001B[0;32mfor\u001B[0m \u001B[0mi\u001B[0m\u001B[0;34m,\u001B[0m \u001B[0mpath\u001B[0m \u001B[0;32min\u001B[0m \u001B[0menumerate\u001B[0m\u001B[0;34m(\u001B[0m\u001B[0mpaths\u001B[0m\u001B[0;34m)\u001B[0m\u001B[0;34m:\u001B[0m\u001B[0;34m\u001B[0m\u001B[0;34m\u001B[0m\u001B[0m\n\u001B[1;32m   1281\u001B[0m             \u001B[0;32massert\u001B[0m \u001B[0misinstance\u001B[0m\u001B[0;34m(\u001B[0m\u001B[0mpath\u001B[0m\u001B[0;34m,\u001B[0m \u001B[0mstr\u001B[0m\u001B[0;34m)\u001B[0m\u001B[0;34m,\u001B[0m \u001B[0;34m'Paths need to be a list of strings of paths containing the condensed summary files.'\u001B[0m\u001B[0;34m\u001B[0m\u001B[0;34m\u001B[0m\u001B[0m\n\u001B[0;32m-> 1282\u001B[0;31m             \u001B[0mdata\u001B[0m \u001B[0;34m=\u001B[0m \u001B[0mload_condensed_summary\u001B[0m\u001B[0;34m(\u001B[0m\u001B[0mpath\u001B[0m\u001B[0;34m)\u001B[0m\u001B[0;34m\u001B[0m\u001B[0;34m\u001B[0m\u001B[0m\n\u001B[0m\u001B[1;32m   1283\u001B[0m             \u001B[0macc\u001B[0m \u001B[0;34m=\u001B[0m \u001B[0mdata\u001B[0m\u001B[0;34m[\u001B[0m\u001B[0;34m'acc'\u001B[0m\u001B[0;34m]\u001B[0m\u001B[0;34m\u001B[0m\u001B[0;34m\u001B[0m\u001B[0m\n\u001B[1;32m   1284\u001B[0m             \u001B[0mts\u001B[0m \u001B[0;34m=\u001B[0m \u001B[0mdata\u001B[0m\u001B[0;34m[\u001B[0m\u001B[0;34m'ts'\u001B[0m\u001B[0;34m]\u001B[0m\u001B[0;34m\u001B[0m\u001B[0;34m\u001B[0m\u001B[0m\n",
      "\u001B[0;32m~/code/covid19/simulator/sim/lib/summary.py\u001B[0m in \u001B[0;36mload_condensed_summary\u001B[0;34m(summary_path, acc)\u001B[0m\n\u001B[1;32m     59\u001B[0m \u001B[0;34m\u001B[0m\u001B[0m\n\u001B[1;32m     60\u001B[0m \u001B[0;32mdef\u001B[0m \u001B[0mload_condensed_summary\u001B[0m\u001B[0;34m(\u001B[0m\u001B[0msummary_path\u001B[0m\u001B[0;34m,\u001B[0m \u001B[0macc\u001B[0m\u001B[0;34m=\u001B[0m\u001B[0;32mNone\u001B[0m\u001B[0;34m)\u001B[0m\u001B[0;34m:\u001B[0m\u001B[0;34m\u001B[0m\u001B[0;34m\u001B[0m\u001B[0m\n\u001B[0;32m---> 61\u001B[0;31m     \u001B[0;32mwith\u001B[0m \u001B[0mopen\u001B[0m\u001B[0;34m(\u001B[0m\u001B[0mos\u001B[0m\u001B[0;34m.\u001B[0m\u001B[0mpath\u001B[0m\u001B[0;34m.\u001B[0m\u001B[0mjoin\u001B[0m\u001B[0;34m(\u001B[0m\u001B[0;34m'condensed_summaries'\u001B[0m\u001B[0;34m,\u001B[0m \u001B[0msummary_path\u001B[0m\u001B[0;34m[\u001B[0m\u001B[0;34m:\u001B[0m\u001B[0;34m-\u001B[0m\u001B[0;36m3\u001B[0m\u001B[0;34m]\u001B[0m\u001B[0;34m+\u001B[0m\u001B[0;34mf'_condensed.pk'\u001B[0m\u001B[0;34m)\u001B[0m\u001B[0;34m,\u001B[0m \u001B[0;34m'rb'\u001B[0m\u001B[0;34m)\u001B[0m \u001B[0;32mas\u001B[0m \u001B[0mfp\u001B[0m\u001B[0;34m:\u001B[0m\u001B[0;34m\u001B[0m\u001B[0;34m\u001B[0m\u001B[0m\n\u001B[0m\u001B[1;32m     62\u001B[0m         \u001B[0mdata\u001B[0m \u001B[0;34m=\u001B[0m \u001B[0mpickle\u001B[0m\u001B[0;34m.\u001B[0m\u001B[0mload\u001B[0m\u001B[0;34m(\u001B[0m\u001B[0mfp\u001B[0m\u001B[0;34m)\u001B[0m\u001B[0;34m\u001B[0m\u001B[0;34m\u001B[0m\u001B[0m\n\u001B[1;32m     63\u001B[0m     \u001B[0mprint\u001B[0m\u001B[0;34m(\u001B[0m\u001B[0;34m'Loaded previously extracted data.'\u001B[0m\u001B[0;34m)\u001B[0m\u001B[0;34m\u001B[0m\u001B[0;34m\u001B[0m\u001B[0m\n",
      "\u001B[0;31mFileNotFoundError\u001B[0m: [Errno 2] No such file or directory: 'condensed_summaries/validation-BE-0ba76d9/validation-BE-validation_region=BE_condensed.pk'"
     ]
    },
    {
     "data": {
      "image/png": "[encoded data removed]",
      "text/plain": [
       "<Figure size 275x183.333 with 1 Axes>"
      ]
     },
     "metadata": {
      "needs_background": "light"
     },
     "output_type": "display_data"
    }
   ],
   "source": [
    "def plot_model_fit_and_transferability(calibration_region='BE', ymax=None, show_legend=True):\n",
    "\n",
    "    regions = {\n",
    "               'BE': [('CH', 'BE'), ('GER', 'KL'), ('GER', 'TU')], \n",
    "               'JU': [('CH', 'JU'), ('GER', 'SB'), ('GER', 'RH')]\n",
    "              }\n",
    "    \n",
    "    ymax = {'GER': {'TU': 1200, 'SB': 500, 'KL': 500, 'RH': 749, 'TR': 2000,},\n",
    "                 'CH': {'VD': 2000, 'BE': 590, 'TI': 500, 'JU': 500,}}\n",
    "\n",
    "    for country, area in regions[calibration_region]:\n",
    "        labels = ['Simulated cases']\n",
    "        paths = [f'validation-{calibration_region}-{commithash}/validation-{calibration_region}-validation_region={area}.pk']\n",
    "        plot_filename = f'Modelfit-{calibration_region}-{area}'\n",
    "        \n",
    "        plotter = Plotter()\n",
    "        \n",
    "        ts, predicted = plotter.plot_positives_vs_target(\n",
    "            paths=paths, \n",
    "            labels=labels,\n",
    "            country=country,\n",
    "            area=area,\n",
    "            ymax=ymax[country][area],\n",
    "            lockdown_label_y=ymax[country][area]/8,\n",
    "            filename=plot_filename,\n",
    "            figsize=lib_plot.FIG_SIZE_NEURIPS_TRIPLE,\n",
    "            figformat='neurips-double',\n",
    "            small_figure=True,\n",
    "            show_legend=show_legend)\n",
    "\n",
    "plot_model_fit_and_transferability(calibration_region='BE')"
   ]
  },
  {
   "cell_type": "markdown",
   "metadata": {},
   "source": [
    "## Calibration parameter heatmaps"
   ]
  },
  {
   "cell_type": "code",
   "execution_count": 5,
   "metadata": {},
   "outputs": [
    {
     "data": {
      "image/png": "[encoded data removed]",
      "text/plain": [
       "<Figure size 600x450 with 1 Axes>"
      ]
     },
     "metadata": {
      "needs_background": "light"
     },
     "output_type": "display_data"
    }
   ],
   "source": [
    "plotter = Plotter()\n",
    "plotter.beta_parameter_heatmap(\n",
    "    country='CH', \n",
    "    area='BE', \n",
    "    calibration_state='logs/calibration_be0_state.pk',\n",
    "    figsize=(4, 3),\n",
    "    cmap='gist_heat_r',\n",
    "#    cmap='viridis_r',    \n",
    "    levels=15,\n",
    ")"
   ]
  },
  {
   "cell_type": "markdown",
   "metadata": {},
   "source": [
    "# Social distancing"
   ]
  },
  {
   "cell_type": "markdown",
   "metadata": {},
   "source": [
    "Social distancing: (panel with 1 plot total infections, 1 plot peak hospitalizations) [lockdown, k=2-groups, vulnerable group, conditional measures thres=50]"
   ]
  },
  {
   "cell_type": "code",
   "execution_count": 6,
   "metadata": {},
   "outputs": [
    {
     "name": "stdout",
     "output_type": "stream",
     "text": [
      "Loaded previously extracted data.\n"
     ]
    },
    {
     "ename": "FileNotFoundError",
     "evalue": "[Errno 2] No such file or directory: 'condensed_summaries/lockdown-CH-BE-594b678/lockdown-CH-BE-p_compliance=1.0-beta_multiplier=0.5_condensed.pk'",
     "output_type": "error",
     "traceback": [
      "\u001B[0;31m---------------------------------------------------------------------------\u001B[0m",
      "\u001B[0;31mFileNotFoundError\u001B[0m                         Traceback (most recent call last)",
      "\u001B[0;32m<ipython-input-6-0364391d3bc2>\u001B[0m in \u001B[0;36m<module>\u001B[0;34m\u001B[0m\n\u001B[1;32m     57\u001B[0m     \u001B[0mplot_rt\u001B[0m\u001B[0;34m=\u001B[0m\u001B[0;32mTrue\u001B[0m\u001B[0;34m,\u001B[0m\u001B[0;34m\u001B[0m\u001B[0;34m\u001B[0m\u001B[0m\n\u001B[1;32m     58\u001B[0m     \u001B[0mplot_pmf\u001B[0m\u001B[0;34m=\u001B[0m\u001B[0;32mFalse\u001B[0m\u001B[0;34m,\u001B[0m\u001B[0;34m\u001B[0m\u001B[0;34m\u001B[0m\u001B[0m\n\u001B[0;32m---> 59\u001B[0;31m     \u001B[0mcommithash\u001B[0m\u001B[0;34m=\u001B[0m\u001B[0mcommithash\u001B[0m\u001B[0;34m\u001B[0m\u001B[0;34m\u001B[0m\u001B[0m\n\u001B[0m\u001B[1;32m     60\u001B[0m )\n",
      "\u001B[0;32m<ipython-input-6-0364391d3bc2>\u001B[0m in \u001B[0;36mplot_social_distancing_relative_reduction\u001B[0;34m(country, area, mode, ps_adoption, plot_rt, plot_pmf, commithash)\u001B[0m\n\u001B[1;32m     47\u001B[0m                                    \u001B[0mfilename\u001B[0m\u001B[0;34m=\u001B[0m\u001B[0mplot_filename\u001B[0m\u001B[0;34m,\u001B[0m\u001B[0;34m\u001B[0m\u001B[0;34m\u001B[0m\u001B[0m\n\u001B[1;32m     48\u001B[0m                                    \u001B[0mfigsize\u001B[0m\u001B[0;34m=\u001B[0m\u001B[0mlib_plot\u001B[0m\u001B[0;34m.\u001B[0m\u001B[0mFIG_SIZE_FULL_PAGE_DOUBLE_ARXIV_TALL\u001B[0m\u001B[0;34m,\u001B[0m\u001B[0;34m\u001B[0m\u001B[0;34m\u001B[0m\u001B[0m\n\u001B[0;32m---> 49\u001B[0;31m                                    figformat='neurips-double')\n\u001B[0m\u001B[1;32m     50\u001B[0m \u001B[0;34m\u001B[0m\u001B[0m\n\u001B[1;32m     51\u001B[0m \u001B[0;34m\u001B[0m\u001B[0m\n",
      "\u001B[0;32m~/code/covid19/simulator/sim/lib/plot.py\u001B[0m in \u001B[0;36mcompare_peak_reduction\u001B[0;34m(self, path_list, baseline_path, ps_adoption, titles, mode, ymax, figformat, filename, figsize, show_legend, legend_is_left, subplot_adjust)\u001B[0m\n\u001B[1;32m   2193\u001B[0m             \u001B[0mcumu_rel_std\u001B[0m \u001B[0;34m=\u001B[0m \u001B[0;34m[\u001B[0m\u001B[0;34m]\u001B[0m\u001B[0;34m\u001B[0m\u001B[0;34m\u001B[0m\u001B[0m\n\u001B[1;32m   2194\u001B[0m             \u001B[0;32mfor\u001B[0m \u001B[0mpath\u001B[0m \u001B[0;32min\u001B[0m \u001B[0mpaths\u001B[0m\u001B[0;34m:\u001B[0m\u001B[0;34m\u001B[0m\u001B[0;34m\u001B[0m\u001B[0m\n\u001B[0;32m-> 2195\u001B[0;31m                 \u001B[0mdata\u001B[0m \u001B[0;34m=\u001B[0m \u001B[0mload_condensed_summary\u001B[0m\u001B[0;34m(\u001B[0m\u001B[0mpath\u001B[0m\u001B[0;34m)\u001B[0m\u001B[0;34m\u001B[0m\u001B[0;34m\u001B[0m\u001B[0m\n\u001B[0m\u001B[1;32m   2196\u001B[0m                 \u001B[0mmaxidx\u001B[0m \u001B[0;34m=\u001B[0m \u001B[0mnp\u001B[0m\u001B[0;34m.\u001B[0m\u001B[0margmax\u001B[0m\u001B[0;34m(\u001B[0m\u001B[0mdata\u001B[0m\u001B[0;34m[\u001B[0m\u001B[0mkey\u001B[0m \u001B[0;34m+\u001B[0m \u001B[0;34m'mu'\u001B[0m\u001B[0;34m]\u001B[0m\u001B[0;34m)\u001B[0m\u001B[0;34m\u001B[0m\u001B[0;34m\u001B[0m\u001B[0m\n\u001B[1;32m   2197\u001B[0m                 \u001B[0mcumu_rel_mean\u001B[0m\u001B[0;34m.\u001B[0m\u001B[0mappend\u001B[0m\u001B[0;34m(\u001B[0m\u001B[0mdata\u001B[0m\u001B[0;34m[\u001B[0m\u001B[0mkey\u001B[0m \u001B[0;34m+\u001B[0m \u001B[0;34m'mu'\u001B[0m\u001B[0;34m]\u001B[0m\u001B[0;34m[\u001B[0m\u001B[0mmaxidx\u001B[0m\u001B[0;34m]\u001B[0m \u001B[0;34m/\u001B[0m \u001B[0mbaseline_norm\u001B[0m\u001B[0;34m)\u001B[0m\u001B[0;34m\u001B[0m\u001B[0;34m\u001B[0m\u001B[0m\n",
      "\u001B[0;32m~/code/covid19/simulator/sim/lib/summary.py\u001B[0m in \u001B[0;36mload_condensed_summary\u001B[0;34m(summary_path, acc)\u001B[0m\n\u001B[1;32m     59\u001B[0m \u001B[0;34m\u001B[0m\u001B[0m\n\u001B[1;32m     60\u001B[0m \u001B[0;32mdef\u001B[0m \u001B[0mload_condensed_summary\u001B[0m\u001B[0;34m(\u001B[0m\u001B[0msummary_path\u001B[0m\u001B[0;34m,\u001B[0m \u001B[0macc\u001B[0m\u001B[0;34m=\u001B[0m\u001B[0;32mNone\u001B[0m\u001B[0;34m)\u001B[0m\u001B[0;34m:\u001B[0m\u001B[0;34m\u001B[0m\u001B[0;34m\u001B[0m\u001B[0m\n\u001B[0;32m---> 61\u001B[0;31m     \u001B[0;32mwith\u001B[0m \u001B[0mopen\u001B[0m\u001B[0;34m(\u001B[0m\u001B[0mos\u001B[0m\u001B[0;34m.\u001B[0m\u001B[0mpath\u001B[0m\u001B[0;34m.\u001B[0m\u001B[0mjoin\u001B[0m\u001B[0;34m(\u001B[0m\u001B[0;34m'condensed_summaries'\u001B[0m\u001B[0;34m,\u001B[0m \u001B[0msummary_path\u001B[0m\u001B[0;34m[\u001B[0m\u001B[0;34m:\u001B[0m\u001B[0;34m-\u001B[0m\u001B[0;36m3\u001B[0m\u001B[0;34m]\u001B[0m\u001B[0;34m+\u001B[0m\u001B[0;34mf'_condensed.pk'\u001B[0m\u001B[0;34m)\u001B[0m\u001B[0;34m,\u001B[0m \u001B[0;34m'rb'\u001B[0m\u001B[0;34m)\u001B[0m \u001B[0;32mas\u001B[0m \u001B[0mfp\u001B[0m\u001B[0;34m:\u001B[0m\u001B[0;34m\u001B[0m\u001B[0;34m\u001B[0m\u001B[0m\n\u001B[0m\u001B[1;32m     62\u001B[0m         \u001B[0mdata\u001B[0m \u001B[0;34m=\u001B[0m \u001B[0mpickle\u001B[0m\u001B[0;34m.\u001B[0m\u001B[0mload\u001B[0m\u001B[0;34m(\u001B[0m\u001B[0mfp\u001B[0m\u001B[0;34m)\u001B[0m\u001B[0;34m\u001B[0m\u001B[0;34m\u001B[0m\u001B[0m\n\u001B[1;32m     63\u001B[0m     \u001B[0mprint\u001B[0m\u001B[0;34m(\u001B[0m\u001B[0;34m'Loaded previously extracted data.'\u001B[0m\u001B[0;34m)\u001B[0m\u001B[0;34m\u001B[0m\u001B[0;34m\u001B[0m\u001B[0m\n",
      "\u001B[0;31mFileNotFoundError\u001B[0m: [Errno 2] No such file or directory: 'condensed_summaries/lockdown-CH-BE-594b678/lockdown-CH-BE-p_compliance=1.0-beta_multiplier=0.5_condensed.pk'"
     ]
    },
    {
     "data": {
      "image/png": "[encoded data removed]",
      "text/plain": [
       "<Figure size 525x262.5 with 1 Axes>"
      ]
     },
     "metadata": {
      "needs_background": "light"
     },
     "output_type": "display_data"
    }
   ],
   "source": [
    "def plot_social_distancing_relative_reduction(*, country, area, mode, ps_adoption, plot_rt=True, plot_pmf=False, commithash=None):\n",
    "        \n",
    "    plot_filename = f'social-distancing-strategies-{country}-{area}'\n",
    "\n",
    "\n",
    "    baseline_path= (f'baseline-{country}-{area}-9a92bc7/'\n",
    "                 f'baseline-{country}-{area}'\n",
    "                 f'-expected_daily_base_expo_per100k=5.0'\n",
    "                 f'-beta_multiplier=0.5.pk')\n",
    "    \n",
    "    paths = {'Lockdown': [f'lockdown-{country}-{area}-{commithash}/'\n",
    "                      f'lockdown-{country}-{area}'\n",
    "                      f'-p_compliance={p_adoption}'\n",
    "                      f'-beta_multiplier=0.5'\n",
    "                      '.pk' for p_adoption in ps_adoption],\n",
    "\n",
    "             'Alternating curfews': [f'k-groups-{country}-{area}-{commithash}/'\n",
    "                                     f'k-groups-{country}-{area}'\n",
    "                                     f'-K_groups=2'\n",
    "                                     f'-p_compliance={p_adoption}'\n",
    "                                     f'-beta_multiplier=0.5'\n",
    "                                     f'.pk' for p_adoption in ps_adoption],\n",
    "             \n",
    "             'Vulnerable groups': [f'vulnerable-groups-{country}-{area}-{commithash}/'\n",
    "                                     f'vulnerable-groups-{country}-{area}'\n",
    "                                     f'-p_compliance={p_adoption}'\n",
    "                                     f'-beta_multiplier=0.5'\n",
    "                                     f'.pk' for p_adoption in ps_adoption],\n",
    "             \n",
    "             'Conditional measures': [f'conditional-measures-{country}-{area}-{commithash}/'\n",
    "                                     f'conditional-measures-{country}-{area}'\n",
    "                                     f'-max_incidence=50'\n",
    "                                     f'-p_compliance={p_adoption}'\n",
    "                                     f'-beta_multiplier=0.5'\n",
    "                                     f'.pk' for p_adoption in ps_adoption],\n",
    "            }\n",
    "                 \n",
    "\n",
    "    titles = list(paths.keys())\n",
    "\n",
    "    plotter = Plotter()\n",
    "    plotter.compare_peak_reduction(path_list=list(paths.values()), \n",
    "                                   baseline_path=baseline_path, \n",
    "                                   ps_adoption=ps_adoption,\n",
    "                                   titles=titles,\n",
    "                                   mode=mode,   # Allowed values ['cumu_infected', 'hosp', 'dead']\n",
    "                                   filename=plot_filename,\n",
    "                                   figsize=lib_plot.FIG_SIZE_FULL_PAGE_DOUBLE_ARXIV_TALL, \n",
    "                                   figformat='neurips-double')\n",
    "\n",
    "              \n",
    "plot_social_distancing_relative_reduction(\n",
    "    country='CH', \n",
    "    area='BE', \n",
    "    mode='cumu_infected',   # Allowed values ['cumu_infected', 'hosp', 'dead']\n",
    "    ps_adoption=[1.0, 0.75, 0.5, 0.25, 0.1],\n",
    "    plot_rt=True, \n",
    "    plot_pmf=False,\n",
    "    commithash=commithash\n",
    ")"
   ]
  },
  {
   "cell_type": "markdown",
   "metadata": {},
   "source": [
    "# Contact tracing"
   ]
  },
  {
   "cell_type": "markdown",
   "metadata": {},
   "source": [
    "Contact tracing : (panel with 1 plot total infections, 1 plot peak hospitalizations) [contact tracing, delay=1, 24, 48h]"
   ]
  },
  {
   "cell_type": "code",
   "execution_count": 7,
   "metadata": {},
   "outputs": [
    {
     "name": "stdout",
     "output_type": "stream",
     "text": [
      "Loaded previously extracted data.\n",
      "Loaded previously extracted data.\n",
      "Loaded previously extracted data.\n",
      "Loaded previously extracted data.\n",
      "Loaded previously extracted data.\n",
      "Loaded previously extracted data.\n"
     ]
    },
    {
     "ename": "FileNotFoundError",
     "evalue": "[Errno 2] No such file or directory: 'condensed_summaries/tracing-CH-BE-594b678/tracing-CH-BE-p_adoption=1.0-test_lag=24.0-tracing_threshold=0.016-beta_multiplier=1.0_condensed.pk'",
     "output_type": "error",
     "traceback": [
      "\u001B[0;31m---------------------------------------------------------------------------\u001B[0m",
      "\u001B[0;31mFileNotFoundError\u001B[0m                         Traceback (most recent call last)",
      "\u001B[0;32m<ipython-input-7-cc78eca2cfb5>\u001B[0m in \u001B[0;36m<module>\u001B[0;34m\u001B[0m\n\u001B[1;32m     41\u001B[0m     \u001B[0mplot_rt\u001B[0m\u001B[0;34m=\u001B[0m\u001B[0;32mTrue\u001B[0m\u001B[0;34m,\u001B[0m\u001B[0;34m\u001B[0m\u001B[0;34m\u001B[0m\u001B[0m\n\u001B[1;32m     42\u001B[0m     \u001B[0mplot_pmf\u001B[0m\u001B[0;34m=\u001B[0m\u001B[0;32mFalse\u001B[0m\u001B[0;34m,\u001B[0m\u001B[0;34m\u001B[0m\u001B[0;34m\u001B[0m\u001B[0m\n\u001B[0;32m---> 43\u001B[0;31m     \u001B[0mcommithash\u001B[0m\u001B[0;34m=\u001B[0m\u001B[0mtracing_commithash\u001B[0m\u001B[0;34m\u001B[0m\u001B[0;34m\u001B[0m\u001B[0m\n\u001B[0m\u001B[1;32m     44\u001B[0m )\n",
      "\u001B[0;32m<ipython-input-7-cc78eca2cfb5>\u001B[0m in \u001B[0;36mplot_tracing_relative_reduction\u001B[0;34m(country, area, mode, ps_adoption, test_lags, plot_rt, plot_pmf, commithash)\u001B[0m\n\u001B[1;32m     30\u001B[0m                                    \u001B[0mfilename\u001B[0m\u001B[0;34m=\u001B[0m\u001B[0mplot_filename\u001B[0m\u001B[0;34m,\u001B[0m\u001B[0;34m\u001B[0m\u001B[0;34m\u001B[0m\u001B[0m\n\u001B[1;32m     31\u001B[0m                                    \u001B[0mfigsize\u001B[0m\u001B[0;34m=\u001B[0m\u001B[0mlib_plot\u001B[0m\u001B[0;34m.\u001B[0m\u001B[0mFIG_SIZE_FULL_PAGE_DOUBLE_ARXIV_TALL\u001B[0m\u001B[0;34m,\u001B[0m\u001B[0;34m\u001B[0m\u001B[0;34m\u001B[0m\u001B[0m\n\u001B[0;32m---> 32\u001B[0;31m                                    figformat='neurips-double')\n\u001B[0m\u001B[1;32m     33\u001B[0m \u001B[0;34m\u001B[0m\u001B[0m\n\u001B[1;32m     34\u001B[0m \u001B[0;34m\u001B[0m\u001B[0m\n",
      "\u001B[0;32m~/code/covid19/simulator/sim/lib/plot.py\u001B[0m in \u001B[0;36mcompare_peak_reduction\u001B[0;34m(self, path_list, baseline_path, ps_adoption, titles, mode, ymax, figformat, filename, figsize, show_legend, legend_is_left, subplot_adjust)\u001B[0m\n\u001B[1;32m   2193\u001B[0m             \u001B[0mcumu_rel_std\u001B[0m \u001B[0;34m=\u001B[0m \u001B[0;34m[\u001B[0m\u001B[0;34m]\u001B[0m\u001B[0;34m\u001B[0m\u001B[0;34m\u001B[0m\u001B[0m\n\u001B[1;32m   2194\u001B[0m             \u001B[0;32mfor\u001B[0m \u001B[0mpath\u001B[0m \u001B[0;32min\u001B[0m \u001B[0mpaths\u001B[0m\u001B[0;34m:\u001B[0m\u001B[0;34m\u001B[0m\u001B[0;34m\u001B[0m\u001B[0m\n\u001B[0;32m-> 2195\u001B[0;31m                 \u001B[0mdata\u001B[0m \u001B[0;34m=\u001B[0m \u001B[0mload_condensed_summary\u001B[0m\u001B[0;34m(\u001B[0m\u001B[0mpath\u001B[0m\u001B[0;34m)\u001B[0m\u001B[0;34m\u001B[0m\u001B[0;34m\u001B[0m\u001B[0m\n\u001B[0m\u001B[1;32m   2196\u001B[0m                 \u001B[0mmaxidx\u001B[0m \u001B[0;34m=\u001B[0m \u001B[0mnp\u001B[0m\u001B[0;34m.\u001B[0m\u001B[0margmax\u001B[0m\u001B[0;34m(\u001B[0m\u001B[0mdata\u001B[0m\u001B[0;34m[\u001B[0m\u001B[0mkey\u001B[0m \u001B[0;34m+\u001B[0m \u001B[0;34m'mu'\u001B[0m\u001B[0;34m]\u001B[0m\u001B[0;34m)\u001B[0m\u001B[0;34m\u001B[0m\u001B[0;34m\u001B[0m\u001B[0m\n\u001B[1;32m   2197\u001B[0m                 \u001B[0mcumu_rel_mean\u001B[0m\u001B[0;34m.\u001B[0m\u001B[0mappend\u001B[0m\u001B[0;34m(\u001B[0m\u001B[0mdata\u001B[0m\u001B[0;34m[\u001B[0m\u001B[0mkey\u001B[0m \u001B[0;34m+\u001B[0m \u001B[0;34m'mu'\u001B[0m\u001B[0;34m]\u001B[0m\u001B[0;34m[\u001B[0m\u001B[0mmaxidx\u001B[0m\u001B[0;34m]\u001B[0m \u001B[0;34m/\u001B[0m \u001B[0mbaseline_norm\u001B[0m\u001B[0;34m)\u001B[0m\u001B[0;34m\u001B[0m\u001B[0;34m\u001B[0m\u001B[0m\n",
      "\u001B[0;32m~/code/covid19/simulator/sim/lib/summary.py\u001B[0m in \u001B[0;36mload_condensed_summary\u001B[0;34m(summary_path, acc)\u001B[0m\n\u001B[1;32m     59\u001B[0m \u001B[0;34m\u001B[0m\u001B[0m\n\u001B[1;32m     60\u001B[0m \u001B[0;32mdef\u001B[0m \u001B[0mload_condensed_summary\u001B[0m\u001B[0;34m(\u001B[0m\u001B[0msummary_path\u001B[0m\u001B[0;34m,\u001B[0m \u001B[0macc\u001B[0m\u001B[0;34m=\u001B[0m\u001B[0;32mNone\u001B[0m\u001B[0;34m)\u001B[0m\u001B[0;34m:\u001B[0m\u001B[0;34m\u001B[0m\u001B[0;34m\u001B[0m\u001B[0m\n\u001B[0;32m---> 61\u001B[0;31m     \u001B[0;32mwith\u001B[0m \u001B[0mopen\u001B[0m\u001B[0;34m(\u001B[0m\u001B[0mos\u001B[0m\u001B[0;34m.\u001B[0m\u001B[0mpath\u001B[0m\u001B[0;34m.\u001B[0m\u001B[0mjoin\u001B[0m\u001B[0;34m(\u001B[0m\u001B[0;34m'condensed_summaries'\u001B[0m\u001B[0;34m,\u001B[0m \u001B[0msummary_path\u001B[0m\u001B[0;34m[\u001B[0m\u001B[0;34m:\u001B[0m\u001B[0;34m-\u001B[0m\u001B[0;36m3\u001B[0m\u001B[0;34m]\u001B[0m\u001B[0;34m+\u001B[0m\u001B[0;34mf'_condensed.pk'\u001B[0m\u001B[0;34m)\u001B[0m\u001B[0;34m,\u001B[0m \u001B[0;34m'rb'\u001B[0m\u001B[0;34m)\u001B[0m \u001B[0;32mas\u001B[0m \u001B[0mfp\u001B[0m\u001B[0;34m:\u001B[0m\u001B[0;34m\u001B[0m\u001B[0;34m\u001B[0m\u001B[0m\n\u001B[0m\u001B[1;32m     62\u001B[0m         \u001B[0mdata\u001B[0m \u001B[0;34m=\u001B[0m \u001B[0mpickle\u001B[0m\u001B[0;34m.\u001B[0m\u001B[0mload\u001B[0m\u001B[0;34m(\u001B[0m\u001B[0mfp\u001B[0m\u001B[0;34m)\u001B[0m\u001B[0;34m\u001B[0m\u001B[0;34m\u001B[0m\u001B[0m\n\u001B[1;32m     63\u001B[0m     \u001B[0mprint\u001B[0m\u001B[0;34m(\u001B[0m\u001B[0;34m'Loaded previously extracted data.'\u001B[0m\u001B[0;34m)\u001B[0m\u001B[0;34m\u001B[0m\u001B[0;34m\u001B[0m\u001B[0m\n",
      "\u001B[0;31mFileNotFoundError\u001B[0m: [Errno 2] No such file or directory: 'condensed_summaries/tracing-CH-BE-594b678/tracing-CH-BE-p_adoption=1.0-test_lag=24.0-tracing_threshold=0.016-beta_multiplier=1.0_condensed.pk'"
     ]
    },
    {
     "data": {
      "image/png": "[encoded data removed]",
      "text/plain": [
       "<Figure size 525x262.5 with 1 Axes>"
      ]
     },
     "metadata": {
      "needs_background": "light"
     },
     "output_type": "display_data"
    }
   ],
   "source": [
    "def plot_tracing_relative_reduction(*, country, area, mode, ps_adoption, test_lags, plot_rt=True, plot_pmf=False, commithash=None):\n",
    "        \n",
    "    plot_filename = f'social-distancing-strategies-{country}-{area}'\n",
    "    \n",
    "    baseline_path= (f'baseline-{country}-{area}-{baseline_commithash}/'\n",
    "                 f'baseline-{country}-{area}'\n",
    "                 f'-expected_daily_base_expo_per100k=5.0'\n",
    "                 f'-beta_multiplier=1.0.pk')\n",
    "    \n",
    "    paths, titles = [], []\n",
    "    for test_lag in test_lags:\n",
    "        paths.append([f'tracing-{country}-{area}-{commithash}/'\n",
    "                      f'tracing-{country}-{area}'\n",
    "                      f'-p_adoption={p_adoption}'\n",
    "                      f'-test_lag={test_lag}'\n",
    "                      f'-tracing_threshold=0.016'\n",
    "                      f'-beta_multiplier=1.0'\n",
    "                      '.pk' for p_adoption in ps_adoption])\n",
    "    \n",
    "        titles.append(f'Tracing and testing, {test_lag}h test delay')\n",
    "                 \n",
    "\n",
    "\n",
    "    plotter = Plotter()\n",
    "    plotter.compare_peak_reduction(path_list=paths, \n",
    "                                   baseline_path=baseline_path, \n",
    "                                   ps_adoption=ps_adoption,\n",
    "                                   titles=titles,\n",
    "                                   mode=mode,   # Allowed values ['cumu_infected', 'hosp', 'dead']\n",
    "                                   filename=plot_filename,\n",
    "                                   figsize=lib_plot.FIG_SIZE_FULL_PAGE_DOUBLE_ARXIV_TALL, \n",
    "                                   figformat='neurips-double')\n",
    "\n",
    "              \n",
    "plot_tracing_relative_reduction(\n",
    "    country='CH', \n",
    "    area='BE', \n",
    "    mode='cumu_infected',   # Allowed values ['cumu_infected', 'hosp', 'dead']\n",
    "    ps_adoption=[1.0, 0.75, 0.5, 0.25, 0.1],\n",
    "    test_lags=[48.0, 24.0, 3.0, 1.0],\n",
    "    plot_rt=True, \n",
    "    plot_pmf=False,\n",
    "    commithash=tracing_commithash\n",
    ")"
   ]
  },
  {
   "cell_type": "markdown",
   "metadata": {},
   "source": [
    "# Overdispersion and Rt"
   ]
  },
  {
   "cell_type": "markdown",
   "metadata": {},
   "source": [
    "\\subsection{Overdispersion}\n",
    "(2x4 double-column panel) [lockdown, k=2-groups, conditional measures 50, contact tracing 48h]"
   ]
  },
  {
   "cell_type": "code",
   "execution_count": 9,
   "metadata": {},
   "outputs": [
    {
     "ename": "FileNotFoundError",
     "evalue": "[Errno 2] No such file or directory: 'condensed_summaries/baseline-CH-BE-0ba76d9/baseline-CH-BE-_condensed.pk'",
     "output_type": "error",
     "traceback": [
      "\u001B[0;31m---------------------------------------------------------------------------\u001B[0m",
      "\u001B[0;31mFileNotFoundError\u001B[0m                         Traceback (most recent call last)",
      "\u001B[0;32m<ipython-input-9-ab0bd2f1edd2>\u001B[0m in \u001B[0;36m<module>\u001B[0;34m\u001B[0m\n\u001B[1;32m     67\u001B[0m \u001B[0mexperiments\u001B[0m \u001B[0;34m=\u001B[0m \u001B[0;34m[\u001B[0m\u001B[0;34m'Baseline'\u001B[0m\u001B[0;34m,\u001B[0m \u001B[0;34m'Lockdown'\u001B[0m\u001B[0;34m,\u001B[0m \u001B[0;34m'Alternating curfews'\u001B[0m\u001B[0;34m,\u001B[0m \u001B[0;34m'Vulnerable groups'\u001B[0m\u001B[0;34m,\u001B[0m \u001B[0;34m'Conditional measures'\u001B[0m\u001B[0;34m,\u001B[0m \u001B[0;34m'Tracing'\u001B[0m\u001B[0;34m]\u001B[0m\u001B[0;34m\u001B[0m\u001B[0;34m\u001B[0m\u001B[0m\n\u001B[1;32m     68\u001B[0m \u001B[0;32mfor\u001B[0m \u001B[0mexperiment\u001B[0m \u001B[0;32min\u001B[0m \u001B[0mexperiments\u001B[0m\u001B[0;34m:\u001B[0m\u001B[0;34m\u001B[0m\u001B[0;34m\u001B[0m\u001B[0m\n\u001B[0;32m---> 69\u001B[0;31m     \u001B[0mplot_daily_rt_kt\u001B[0m\u001B[0;34m(\u001B[0m\u001B[0;34m'CH'\u001B[0m\u001B[0;34m,\u001B[0m \u001B[0;34m'BE'\u001B[0m\u001B[0;34m,\u001B[0m \u001B[0mexperiment\u001B[0m\u001B[0;34m=\u001B[0m\u001B[0mexperiment\u001B[0m\u001B[0;34m,\u001B[0m \u001B[0mp_adoption\u001B[0m\u001B[0;34m=\u001B[0m\u001B[0;36m0.5\u001B[0m\u001B[0;34m)\u001B[0m\u001B[0;34m\u001B[0m\u001B[0;34m\u001B[0m\u001B[0m\n\u001B[0m\u001B[1;32m     70\u001B[0m \u001B[0;34m\u001B[0m\u001B[0m\n\u001B[1;32m     71\u001B[0m \u001B[0;34m\u001B[0m\u001B[0m\n",
      "\u001B[0;32m<ipython-input-9-ab0bd2f1edd2>\u001B[0m in \u001B[0;36mplot_daily_rt_kt\u001B[0;34m(country, area, experiment, p_adoption)\u001B[0m\n\u001B[1;32m     52\u001B[0m         \u001B[0mxlim\u001B[0m\u001B[0;34m=\u001B[0m\u001B[0;34m(\u001B[0m\u001B[0;36m0\u001B[0m\u001B[0;34m,\u001B[0m \u001B[0;36m127\u001B[0m\u001B[0;34m)\u001B[0m\u001B[0;34m,\u001B[0m\u001B[0;34m\u001B[0m\u001B[0;34m\u001B[0m\u001B[0m\n\u001B[1;32m     53\u001B[0m         \u001B[0mx_axis_dates\u001B[0m\u001B[0;34m=\u001B[0m\u001B[0;32mFalse\u001B[0m\u001B[0;34m,\u001B[0m\u001B[0;34m\u001B[0m\u001B[0;34m\u001B[0m\u001B[0m\n\u001B[0;32m---> 54\u001B[0;31m         \u001B[0msubplots_adjust\u001B[0m\u001B[0;34m=\u001B[0m\u001B[0;34m{\u001B[0m\u001B[0;34m'bottom'\u001B[0m\u001B[0;34m:\u001B[0m\u001B[0;36m0.2\u001B[0m\u001B[0;34m,\u001B[0m \u001B[0;34m'top'\u001B[0m\u001B[0;34m:\u001B[0m \u001B[0;36m0.98\u001B[0m\u001B[0;34m,\u001B[0m \u001B[0;34m'left'\u001B[0m\u001B[0;34m:\u001B[0m \u001B[0;36m0.12\u001B[0m\u001B[0;34m,\u001B[0m \u001B[0;34m'right'\u001B[0m\u001B[0;34m:\u001B[0m \u001B[0;36m0.96\u001B[0m\u001B[0;34m}\u001B[0m\u001B[0;34m,\u001B[0m\u001B[0;34m\u001B[0m\u001B[0;34m\u001B[0m\u001B[0m\n\u001B[0m\u001B[1;32m     55\u001B[0m     )        \n\u001B[1;32m     56\u001B[0m \u001B[0;34m\u001B[0m\u001B[0m\n",
      "\u001B[0;32m~/code/covid19/simulator/sim/lib/plot.py\u001B[0m in \u001B[0;36mplot_daily_nbinom_rts\u001B[0;34m(self, path, filename, figsize, figformat, ymax, cmap_range, subplots_adjust, lockdown_label, lockdown_at, lockdown_label_y, lockdown_xshift, x_axis_dates, xtick_interval, xlim)\u001B[0m\n\u001B[1;32m   1590\u001B[0m \u001B[0;34m\u001B[0m\u001B[0m\n\u001B[1;32m   1591\u001B[0m         \u001B[0;32massert\u001B[0m \u001B[0misinstance\u001B[0m\u001B[0;34m(\u001B[0m\u001B[0mpath\u001B[0m\u001B[0;34m,\u001B[0m \u001B[0mstr\u001B[0m\u001B[0;34m)\u001B[0m\u001B[0;34m,\u001B[0m \u001B[0;34m'`path` must be a string.'\u001B[0m\u001B[0;34m\u001B[0m\u001B[0;34m\u001B[0m\u001B[0m\n\u001B[0;32m-> 1592\u001B[0;31m         \u001B[0mdata\u001B[0m \u001B[0;34m=\u001B[0m \u001B[0mload_condensed_summary\u001B[0m\u001B[0;34m(\u001B[0m\u001B[0mpath\u001B[0m\u001B[0;34m)\u001B[0m\u001B[0;34m\u001B[0m\u001B[0;34m\u001B[0m\u001B[0m\n\u001B[0m\u001B[1;32m   1593\u001B[0m         \u001B[0mmetadata\u001B[0m \u001B[0;34m=\u001B[0m \u001B[0mdata\u001B[0m\u001B[0;34m[\u001B[0m\u001B[0;34m'metadata'\u001B[0m\u001B[0;34m]\u001B[0m\u001B[0;34m\u001B[0m\u001B[0;34m\u001B[0m\u001B[0m\n\u001B[1;32m   1594\u001B[0m         \u001B[0mdf\u001B[0m \u001B[0;34m=\u001B[0m \u001B[0mdata\u001B[0m\u001B[0;34m[\u001B[0m\u001B[0;34m'nbinom_rts'\u001B[0m\u001B[0;34m]\u001B[0m\u001B[0;34m\u001B[0m\u001B[0;34m\u001B[0m\u001B[0m\n",
      "\u001B[0;32m~/code/covid19/simulator/sim/lib/summary.py\u001B[0m in \u001B[0;36mload_condensed_summary\u001B[0;34m(summary_path, acc)\u001B[0m\n\u001B[1;32m     59\u001B[0m \u001B[0;34m\u001B[0m\u001B[0m\n\u001B[1;32m     60\u001B[0m \u001B[0;32mdef\u001B[0m \u001B[0mload_condensed_summary\u001B[0m\u001B[0;34m(\u001B[0m\u001B[0msummary_path\u001B[0m\u001B[0;34m,\u001B[0m \u001B[0macc\u001B[0m\u001B[0;34m=\u001B[0m\u001B[0;32mNone\u001B[0m\u001B[0;34m)\u001B[0m\u001B[0;34m:\u001B[0m\u001B[0;34m\u001B[0m\u001B[0;34m\u001B[0m\u001B[0m\n\u001B[0;32m---> 61\u001B[0;31m     \u001B[0;32mwith\u001B[0m \u001B[0mopen\u001B[0m\u001B[0;34m(\u001B[0m\u001B[0mos\u001B[0m\u001B[0;34m.\u001B[0m\u001B[0mpath\u001B[0m\u001B[0;34m.\u001B[0m\u001B[0mjoin\u001B[0m\u001B[0;34m(\u001B[0m\u001B[0;34m'condensed_summaries'\u001B[0m\u001B[0;34m,\u001B[0m \u001B[0msummary_path\u001B[0m\u001B[0;34m[\u001B[0m\u001B[0;34m:\u001B[0m\u001B[0;34m-\u001B[0m\u001B[0;36m3\u001B[0m\u001B[0;34m]\u001B[0m\u001B[0;34m+\u001B[0m\u001B[0;34mf'_condensed.pk'\u001B[0m\u001B[0;34m)\u001B[0m\u001B[0;34m,\u001B[0m \u001B[0;34m'rb'\u001B[0m\u001B[0;34m)\u001B[0m \u001B[0;32mas\u001B[0m \u001B[0mfp\u001B[0m\u001B[0;34m:\u001B[0m\u001B[0;34m\u001B[0m\u001B[0;34m\u001B[0m\u001B[0m\n\u001B[0m\u001B[1;32m     62\u001B[0m         \u001B[0mdata\u001B[0m \u001B[0;34m=\u001B[0m \u001B[0mpickle\u001B[0m\u001B[0;34m.\u001B[0m\u001B[0mload\u001B[0m\u001B[0;34m(\u001B[0m\u001B[0mfp\u001B[0m\u001B[0;34m)\u001B[0m\u001B[0;34m\u001B[0m\u001B[0;34m\u001B[0m\u001B[0m\n\u001B[1;32m     63\u001B[0m     \u001B[0mprint\u001B[0m\u001B[0;34m(\u001B[0m\u001B[0;34m'Loaded previously extracted data.'\u001B[0m\u001B[0;34m)\u001B[0m\u001B[0;34m\u001B[0m\u001B[0;34m\u001B[0m\u001B[0m\n",
      "\u001B[0;31mFileNotFoundError\u001B[0m: [Errno 2] No such file or directory: 'condensed_summaries/baseline-CH-BE-0ba76d9/baseline-CH-BE-_condensed.pk'"
     ]
    }
   ],
   "source": [
    "def plot_daily_rt_kt(country, area, experiment, p_adoption):\n",
    "        \n",
    "    if experiment == 'Baseline':\n",
    "        path = (f'baseline-{country}-{area}-{baseline_commithash}/'\n",
    "                  f'baseline-CH-BE-.pk')\n",
    "\n",
    "    elif experiment == 'Lockdown':\n",
    "        path = (f'lockdown-{country}-{area}-{commithash}/'\n",
    "                      f'lockdown-{country}-{area}'\n",
    "                      f'-p_compliance={p_adoption}'\n",
    "                      f'-beta_multiplier=0.5'\n",
    "                      '.pk')\n",
    "    elif experiment == 'Alternating curfews':\n",
    "        path = (f'k-groups-{country}-{area}-{commithash}/'\n",
    "                             f'k-groups-{country}-{area}'\n",
    "                             f'-K_groups=2'\n",
    "                             f'-p_compliance={p_adoption}'\n",
    "                             f'-beta_multiplier=0.5'\n",
    "                             f'.pk')\n",
    "    elif experiment == 'Vulnerable groups':\n",
    "        path = (f'vulnerable-groups-{country}-{area}-{commithash}/'\n",
    "                             f'vulnerable-groups-{country}-{area}'\n",
    "                             f'-p_compliance={p_adoption}'\n",
    "                             f'-beta_multiplier=0.5'\n",
    "                             f'.pk')\n",
    "    elif experiment == 'Conditional measures':\n",
    "        path = (f'conditional-measures-{country}-{area}-{commithash}/'\n",
    "                             f'conditional-measures-{country}-{area}'\n",
    "                             f'-max_incidence=50'\n",
    "                             f'-p_compliance={p_adoption}'\n",
    "                             f'-beta_multiplier=0.5'\n",
    "                             f'.pk')\n",
    "    elif experiment == 'Tracing':\n",
    "        path = (f'tracing-{country}-{area}-{tracing_commithash}/'\n",
    "                      f'tracing-{country}-{area}'\n",
    "                      f'-p_adoption={p_adoption}'\n",
    "                      f'-test_lag=48.0'\n",
    "                      f'-tracing_threshold=0.016'\n",
    "                      f'-beta_multiplier=0.5'\n",
    "                      '.pk')\n",
    "        \n",
    "    plot_filename = f'{experiment}-{country}-{area}'\n",
    "    \n",
    "    plotter = lib_plot.Plotter()\n",
    "    \n",
    "    plotter.plot_daily_nbinom_rts(\n",
    "        path=path, \n",
    "        filename=plot_filename+'-daily-Rt',\n",
    "        figsize=lib_plot.FIG_SIZE_FULL_PAGE_TRIPLE_ARXIV, \n",
    "        figformat='neurips-double',\n",
    "        ymax=4.4,\n",
    "        xlim=(0, 127),\n",
    "        x_axis_dates=False,\n",
    "        subplots_adjust={'bottom':0.2, 'top': 0.98, 'left': 0.12, 'right': 0.96},\n",
    "    )        \n",
    "        \n",
    "    plotter = lib_plot.Plotter()\n",
    "    plotter.plot_nbinom_distributions(\n",
    "        path=path,\n",
    "        ymax=0.85,\n",
    "        figsize=lib_plot.FIG_SIZE_FULL_PAGE_TRIPLE_ARXIV,\n",
    "        figformat='neurips-double',\n",
    "        filename=plot_filename+'-pmf',\n",
    "    )\n",
    "        \n",
    "\n",
    "experiments = ['Baseline', 'Lockdown', 'Alternating curfews', 'Vulnerable groups', 'Conditional measures', 'Tracing']\n",
    "for experiment in experiments:\n",
    "    plot_daily_rt_kt('CH', 'BE', experiment=experiment, p_adoption=0.5)\n",
    "\n",
    "\n",
    "# Crop pdf margins\n",
    "!bash crop_pdfs.sh plots/daily-nbinom-rts-*.pdf\n",
    "!bash crop_pdfs.sh plots/prob-secondaryCases-*.pdf"
   ]
  },
  {
   "cell_type": "markdown",
   "metadata": {},
   "source": [
    "# Not in paper: Different quantities over time"
   ]
  },
  {
   "cell_type": "code",
   "execution_count": 13,
   "metadata": {},
   "outputs": [
    {
     "name": "stdout",
     "output_type": "stream",
     "text": [
      "Loaded previously extracted data.\n",
      "Loaded previously extracted data.\n",
      "Loaded previously extracted data.\n",
      "Loaded previously extracted data.\n",
      "Loaded previously extracted data.\n"
     ]
    },
    {
     "data": {
      "image/png": "[encoded data removed]",
      "text/plain": [
       "<Figure size 525x262.5 with 1 Axes>"
      ]
     },
     "metadata": {
      "needs_background": "light"
     },
     "output_type": "display_data"
    }
   ],
   "source": [
    "def plot_experiment_over_time(*, country, area, experiment, quantity, mode, ymax, ps_adoption):\n",
    "    \n",
    "    if experiment == 'Baseline':\n",
    "        paths = [f'baseline-CH-BE-{baseline_commithash}/'\n",
    "                 f'baseline-CH-BE'\n",
    "                 f'-expected_daily_base_expo_per100k={bexp}'\n",
    "                 f'-beta_multiplier=1.0.pk' for bexp in [5.0, 10.0, 15.0, 20.0, 25.0, 30.0]]\n",
    "            \n",
    "            \n",
    "            \n",
    "            \n",
    "            \n",
    "            \n",
    "# #             f'baseline-{country}-{area}-{baseline_commithash}/'\n",
    "# #                       f'baseline-CH-BE-'\n",
    "# #                     f'beta_multiplier=0.5'\n",
    "# #                     f'.pk',\n",
    "#                 f'baseline-{country}-{area}-cd1d945/'\n",
    "#                       f'baseline-CH-BE-.pk',\n",
    "                 \n",
    "#                 f'baseline-{country}-{area}-75f335d/'\n",
    "#                       f'baseline-CH-BE-'\n",
    "#                       f'beta_multiplier=0.5'\n",
    "#                       f'.pk']\n",
    "    elif experiment == 'Lockdown':\n",
    "        paths = [f'lockdown-{country}-{area}-{commithash}/'\n",
    "                      f'lockdown-{country}-{area}'\n",
    "                      f'-p_compliance={p_adoption}'\n",
    "                      f'-beta_multiplier=0.5'\n",
    "                      '.pk' for p_adoption in ps_adoption]\n",
    "    elif experiment == 'Alternating curfews':\n",
    "        paths = [f'k-groups-{country}-{area}-{commithash}/'\n",
    "                             f'k-groups-{country}-{area}'\n",
    "                             f'-K_groups=2'\n",
    "                             f'-p_compliance={p_adoption}'\n",
    "                             f'-beta_multiplier=0.5'\n",
    "                             f'.pk' for p_adoption in ps_adoption]\n",
    "    elif experiment == 'Vulnerable groups':\n",
    "        paths = [f'vulnerable-groups-{country}-{area}-{commithash}/'\n",
    "                             f'vulnerable-groups-{country}-{area}'\n",
    "                             f'-p_compliance={p_adoption}'\n",
    "                             f'-beta_multiplier=0.5'\n",
    "                             f'.pk' for p_adoption in ps_adoption]\n",
    "    elif experiment == 'Conditional measures':\n",
    "        paths = [f'conditional-measures-{country}-{area}-{commithash}/'\n",
    "                             f'conditional-measures-{country}-{area}'\n",
    "                             f'-max_incidence=50'\n",
    "                             f'-p_compliance={p_adoption}'\n",
    "                             f'-beta_multiplier=0.5'\n",
    "                             f'.pk' for p_adoption in ps_adoption]\n",
    "    elif experiment == 'Tracing':\n",
    "        paths = [f'tracing-{country}-{area}-{tracing_commithash}/'\n",
    "                      f'tracing-{country}-{area}'\n",
    "                      f'-p_adoption={p_adoption}'\n",
    "                      f'-test_lag=48.0'\n",
    "                      f'-tracing_threshold=0.016'\n",
    "                      f'-beta_multiplier=1.0'\n",
    "                      '.pk' for p_adoption in ps_adoption]\n",
    "\n",
    "    if experiment == 'Baseline':\n",
    "        labels = [f'Baseline, {bexp} exposures per week per 100k people' for bexp in [5.0, 10.0, 15.0, 20.0, 25.0, 30.0]]\n",
    "        # labels = [experiment, experiment + ' with beta multipliers']\n",
    "    else:\n",
    "        labels = [experiment+', {:3.0f}\\% adoption'.format(100 * p_adoption) for p_adoption in ps_adoption]\n",
    "        \n",
    "    plot_filename = f'{experiment}-{country}-{area}-{mode}-{quantity}'\n",
    "        \n",
    "    # plots\n",
    "    plotter = Plotter()\n",
    "\n",
    "    plotter.compare_quantity(\n",
    "        paths, \n",
    "        titles=labels,\n",
    "        quantity=quantity,\n",
    "        mode=mode,\n",
    "        ymax=ymax,\n",
    "        filename=plot_filename, \n",
    "        figsize=lib_plot.FIG_SIZE_FULL_PAGE_DOUBLE_ARXIV_TALL, \n",
    "        figformat='neurips-double',\n",
    "        legend_is_left=True)\n",
    "    \n",
    "    \n",
    "    \n",
    "plot_experiment_over_time(\n",
    "    country='CH', \n",
    "    area='BE',\n",
    "    experiment='Lockdown',  # Allowed values: See function\n",
    "    quantity='infected',    # Allowed values: ['infected', 'hosp', 'dead']\n",
    "    mode='total',           # Allowed values: ['total', 'daily', 'cumulative', 'weekly incidence']\n",
    "    ymax=500, \n",
    "    ps_adoption=[1.0, 0.75, 0.5, 0.25, 0.1],)"
   ]
  },
  {
   "cell_type": "code",
   "execution_count": null,
   "metadata": {},
   "outputs": [],
   "source": []
  }
 ],
 "metadata": {
  "kernelspec": {
   "display_name": "Python3 (covid19)",
   "language": "python",
   "name": "covid19"
  },
  "language_info": {
   "codemirror_mode": {
    "name": "ipython",
    "version": 3
   },
   "file_extension": ".py",
   "mimetype": "text/x-python",
   "name": "python",
   "nbconvert_exporter": "python",
   "pygments_lexer": "ipython3",
   "version": "3.7.3"
  }
 },
 "nbformat": 4,
 "nbformat_minor": 4
}