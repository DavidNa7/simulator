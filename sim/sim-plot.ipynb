{
 "cells": [
  {
   "cell_type": "markdown",
   "metadata": {},
   "source": [
    "# Experiment plotting\n",
    "\n",
    "This notebook contains the code for plotting results for several simulations.\n",
    "\n",
    "---"
   ]
  },
  {
   "cell_type": "markdown",
   "metadata": {},
   "source": [
    "**Import libs**"
   ]
  },
  {
   "cell_type": "code",
   "execution_count": null,
   "metadata": {},
   "outputs": [],
   "source": [
    "%load_ext autoreload\n",
    "%autoreload 2"
   ]
  },
  {
   "cell_type": "code",
   "execution_count": null,
   "metadata": {},
   "outputs": [],
   "source": [
    "from lib.plot import Plotter\n",
    "from lib.measures import *\n",
    "from lib.experiment import Experiment, Plot, Result, get_properties, load_summary_list\n",
    "from lib.calibrationSettings import calibration_lockdown_dates"
   ]
  },
  {
   "cell_type": "markdown",
   "metadata": {},
   "source": [
    "## Contact tracing + Isolation"
   ]
  },
  {
   "cell_type": "code",
   "execution_count": null,
   "metadata": {},
   "outputs": [],
   "source": [
    "# Format: {`filename for plot` : `list of `Plot` objects`}\n",
    "plots = {\n",
    "    'tracing-isolation-CH-BE' : [\n",
    "        Plot(\n",
    "            label='No tracing',\n",
    "            path='tracing-isolation-CH-BE/tracing-isolation-CH-BE-baseline.pk',\n",
    "            ymax=500\n",
    "        ),\n",
    "        Plot(\n",
    "            label='Basic tracing',\n",
    "            path='tracing-isolation-CH-BE/tracing-isolation-CH-BE-isolate_days=14-contacts=25-policy=basic.pk',\n",
    "            ymax=200\n",
    "        ),\n",
    "    ]\n",
    "}"
   ]
  },
  {
   "cell_type": "code",
   "execution_count": null,
   "metadata": {},
   "outputs": [],
   "source": [
    "for plot_filename, plots in plots.items():\n",
    "    \n",
    "    # extract plot info\n",
    "    labels = get_properties(plots, 'label')\n",
    "    paths = get_properties(plots, 'path')\n",
    "    ymaxs = get_properties(plots, 'ymax')\n",
    "    \n",
    "    # load simulations\n",
    "    results = load_summary_list(paths)\n",
    "    sims = get_properties(results, 'metadata')\n",
    "    summaries = get_properties(results, 'summary')\n",
    "        \n",
    "    # plots\n",
    "    plotter = Plotter()\n",
    "    start_date_lockdown = calibration_lockdown_dates[sims[0].country]['start']\n",
    "    \n",
    "    plotter.compare_total_infections(\n",
    "        summaries, \n",
    "        titles=labels, \n",
    "        filename=plot_filename, \n",
    "        start_date=start_date_lockdown,\n",
    "        figsize=(6,4), acc=500, \n",
    "        ymax=max(ymaxs), errorevery=14)\n",
    "\n",
    "    "
   ]
  },
  {
   "cell_type": "code",
   "execution_count": null,
   "metadata": {},
   "outputs": [],
   "source": []
  }
 ],
 "metadata": {
  "kernelspec": {
   "display_name": "Python 3",
   "language": "python",
   "name": "python3"
  },
  "language_info": {
   "codemirror_mode": {
    "name": "ipython",
    "version": 3
   },
   "file_extension": ".py",
   "mimetype": "text/x-python",
   "name": "python",
   "nbconvert_exporter": "python",
   "pygments_lexer": "ipython3",
   "version": "3.8.2"
  }
 },
 "nbformat": 4,
 "nbformat_minor": 2
}
