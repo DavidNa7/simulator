{
 "cells": [
  {
   "cell_type": "markdown",
   "metadata": {},
   "source": [
    "# Experiment plotting\n",
    "\n",
    "This notebook contains the code for plotting results for several simulations.\n"
   ]
  },
  {
   "cell_type": "code",
   "execution_count": null,
   "metadata": {},
   "outputs": [],
   "source": [
    "%load_ext autoreload\n",
    "%autoreload 2"
   ]
  },
  {
   "cell_type": "code",
   "execution_count": null,
   "metadata": {},
   "outputs": [],
   "source": [
    "from lib.plot import Plotter\n",
    "from lib.measures import *\n",
    "from lib.experiment import Experiment, Plot, Result, get_properties, load_summary_list\n",
    "from lib.calibrationSettings import calibration_lockdown_dates"
   ]
  },
  {
   "cell_type": "markdown",
   "metadata": {},
   "source": [
    "## Contact tracing implementing Isolation or Testing"
   ]
  },
  {
   "cell_type": "code",
   "execution_count": null,
   "metadata": {},
   "outputs": [],
   "source": [
    "# Format: {`filename for plot` : `list of `Plot` objects`}\n",
    "plots = {\n",
    "    'tracing-isolation-CH-BE-isolate_days=14-contacts=25' : [\n",
    "        Plot(label='No tracing', ymax=500,\n",
    "            path='baseline-CH-BE/baseline-CH-BE-baseline.pk'),\n",
    "        Plot(label='Basic tracing', ymax=300,\n",
    "            path='tracing-isolation-CH-BE/tracing-isolation-CH-BE-isolate_days=14-contacts=25-policy=basic.pk'),\n",
    "        Plot(label='Advanced tracing', ymax=200,\n",
    "            path='tracing-isolation-CH-BE/tracing-isolation-CH-BE-isolate_days=14-contacts=25-policy=advanced.pk'),\n",
    "    ],\n",
    "    'tracing-isolation-compliance-CH-BE-policy=advanced' : [\n",
    "        Plot(label='No tracing', ymax=500,\n",
    "            path='baseline-CH-BE/baseline-CH-BE-baseline.pk'),\n",
    "        Plot(label='10 % Compliance', ymax=400,\n",
    "            path='tracing-isolation-compliance-CH-BE/tracing-isolation-compliance-CH-BE-p=0.1-policy=advanced.pk'),\n",
    "        Plot(label='25 % Compliance', ymax=300,\n",
    "            path='tracing-isolation-compliance-CH-BE/tracing-isolation-compliance-CH-BE-p=0.25-policy=advanced.pk'),\n",
    "        Plot(label='50 % Compliance', ymax=300,\n",
    "            path='tracing-isolation-compliance-CH-BE/tracing-isolation-compliance-CH-BE-p=0.5-policy=advanced.pk'),\n",
    "        Plot(label='75 % Compliance', ymax=300,\n",
    "            path='tracing-isolation-compliance-CH-BE/tracing-isolation-compliance-CH-BE-p=0.75-policy=advanced.pk'),\n",
    "        Plot(label='100 % Compliance', ymax=200,\n",
    "            path='tracing-isolation-compliance-CH-BE/tracing-isolation-compliance-CH-BE-p=1.0-policy=advanced.pk'),\n",
    "    ],\n",
    "    'tracing-testing-CH-BE-contacts=25' : [\n",
    "        Plot(label='No tracing', ymax=500,\n",
    "            path='baseline-CH-BE/baseline-CH-BE-baseline.pk'),\n",
    "        Plot(label='Basic tracing', ymax=300,\n",
    "            path='tracing-testing-CH-BE/tracing-testing-CH-BE-contacts=25-policy=basic.pk'),\n",
    "        Plot(label='Advanced tracing', ymax=200,\n",
    "            path='tracing-testing-CH-BE/tracing-testing-CH-BE-contacts=25-policy=advanced.pk'),\n",
    "    ],\n",
    "}"
   ]
  },
  {
   "cell_type": "code",
   "execution_count": null,
   "metadata": {},
   "outputs": [],
   "source": [
    "for plot_filename, plots in plots.items():\n",
    "    \n",
    "    # extract plot info\n",
    "    labels = get_properties(plots, 'label')\n",
    "    paths = get_properties(plots, 'path')\n",
    "    ymaxs = get_properties(plots, 'ymax')\n",
    "    \n",
    "    # load simulations\n",
    "    results = load_summary_list(paths)\n",
    "    sims = get_properties(results, 'metadata')\n",
    "    summaries = get_properties(results, 'summary')\n",
    "        \n",
    "    # plots\n",
    "    plotter = Plotter()\n",
    "    start_date_lockdown = calibration_lockdown_dates[sims[0].country]['start']\n",
    "    \n",
    "    plotter.compare_total_infections(\n",
    "        summaries, \n",
    "        titles=labels, \n",
    "        filename=plot_filename, \n",
    "        start_date=start_date_lockdown,\n",
    "        figsize=(6,4), acc=500, \n",
    "        ymax=max(ymaxs), errorevery=14)\n",
    "\n",
    "    "
   ]
  },
  {
   "cell_type": "markdown",
   "metadata": {},
   "source": [
    "## Other experiment"
   ]
  },
  {
   "cell_type": "code",
   "execution_count": null,
   "metadata": {},
   "outputs": [],
   "source": [
    "plots = {\n",
    "    # tbd\n",
    "}"
   ]
  },
  {
   "cell_type": "code",
   "execution_count": null,
   "metadata": {},
   "outputs": [],
   "source": []
  },
  {
   "cell_type": "code",
   "execution_count": null,
   "metadata": {},
   "outputs": [],
   "source": []
  },
  {
   "cell_type": "code",
   "execution_count": null,
   "metadata": {},
   "outputs": [],
   "source": []
  },
  {
   "cell_type": "code",
   "execution_count": null,
   "metadata": {},
   "outputs": [],
   "source": []
  }
 ],
 "metadata": {
  "kernelspec": {
   "display_name": "Python 3",
   "language": "python",
   "name": "python3"
  },
  "language_info": {
   "codemirror_mode": {
    "name": "ipython",
    "version": 3
   },
   "file_extension": ".py",
   "mimetype": "text/x-python",
   "name": "python",
   "nbconvert_exporter": "python",
   "pygments_lexer": "ipython3",
   "version": "3.8.2"
  }
 },
 "nbformat": 4,
 "nbformat_minor": 2
}
