{
 "cells": [
  {
   "cell_type": "markdown",
   "metadata": {},
   "source": [
    "# Tracing and Testing\n",
    "\n",
    "This notebook contains the experiment to investigate the question **Can we control the outbreak using only testing via contact tracing, i.e. testing people that had overlap with positively tested, and then subsequently isolating positively tested?**.\n",
    "\n",
    "\n",
    "* In Section 1, we define all the simulation parameters.\n",
    "* In Section 2, we run all the simulations needed for the experiment.\n",
    "* In Section 3, we plot the results.\n",
    "\n",
    "To just regenerate the figures from a summary file containing all the simulation objects of the experiment, you can skip Section 2, and only run the cells in Sections 1 & 3. \n",
    "\n",
    "---"
   ]
  },
  {
   "cell_type": "markdown",
   "metadata": {},
   "source": [
    "## 1. Define the experiment parameters"
   ]
  },
  {
   "cell_type": "markdown",
   "metadata": {},
   "source": [
    "#### Import libs"
   ]
  },
  {
   "cell_type": "code",
   "execution_count": 1,
   "metadata": {},
   "outputs": [],
   "source": [
    "%load_ext autoreload\n",
    "%autoreload 2\n",
    "import sys\n",
    "if '..' not in sys.path:\n",
    "    sys.path.append('..')"
   ]
  },
  {
   "cell_type": "code",
   "execution_count": 2,
   "metadata": {},
   "outputs": [],
   "source": [
    "import numpy as np\n",
    "import pandas as pd\n",
    "import pickle\n",
    "import multiprocessing"
   ]
  },
  {
   "cell_type": "code",
   "execution_count": 3,
   "metadata": {},
   "outputs": [],
   "source": [
    "from lib.measures import *\n",
    "from lib.experiment import run_experiment, save_summary, load_summary\n",
    "from lib.calibrationSettings import calibration_lockdown_dates\n",
    "from lib.calibrationFunctions import get_calibrated_params"
   ]
  },
  {
   "cell_type": "markdown",
   "metadata": {},
   "source": [
    "## 1. General settings  "
   ]
  },
  {
   "cell_type": "markdown",
   "metadata": {},
   "source": [
    "#### Set the random seed for reproducibility"
   ]
  },
  {
   "cell_type": "code",
   "execution_count": 4,
   "metadata": {},
   "outputs": [],
   "source": [
    "# Choose random seed\n",
    "c = 0\n",
    "np.random.seed(c)\n",
    "TO_HOURS = 24.0\n",
    "\n",
    "# Define prefix string used to save plots\n",
    "expstr = 'tracing-testing'\n",
    "multi_beta_calibration = False"
   ]
  },
  {
   "cell_type": "markdown",
   "metadata": {},
   "source": [
    "#### Set the number of roll-outs to simulate"
   ]
  },
  {
   "cell_type": "code",
   "execution_count": 5,
   "metadata": {},
   "outputs": [],
   "source": [
    "random_repeats = 2 # Set to at least 40 to obtain stable results"
   ]
  },
  {
   "cell_type": "markdown",
   "metadata": {},
   "source": [
    "#### Set the time to simulate"
   ]
  },
  {
   "cell_type": "code",
   "execution_count": 6,
   "metadata": {},
   "outputs": [],
   "source": [
    "end_date = '2020-07-31'"
   ]
  },
  {
   "cell_type": "markdown",
   "metadata": {},
   "source": [
    "#### Define locations, mobility settings used for simulation, and experiment parameters"
   ]
  },
  {
   "cell_type": "code",
   "execution_count": 7,
   "metadata": {},
   "outputs": [],
   "source": [
    "locs = {\n",
    "    'GER': {\n",
    "        'TU': 'lib/mobility/Tubingen_settings_10.pk',\n",
    "        'KL': 'lib/mobility/Kaiserslautern_settings_10.pk',\n",
    "        'RH': 'lib/mobility/Ruedesheim_settings_10.pk', \n",
    "        'TR': 'lib/mobility/Tirschenreuth_settings_10.pk', \n",
    "    },\n",
    "    'CH': {\n",
    "        'VD': 'lib/mobility/Lausanne_settings_10.pk', \n",
    "        'LU': 'lib/mobility/Lucerne_settings_5.pk', \n",
    "        'TI': 'lib/mobility/Locarno_settings_2.pk', \n",
    "        'JU': 'lib/mobility/Jura_settings_10.pk',\n",
    "    }\n",
    "}\n",
    "\n",
    "seed_summary_path = None\n",
    "\n",
    "# experiment parameters\n",
    "test_smart_delta = 3 * TO_HOURS # time window considered for inspecting contacts\n",
    "test_smart_action = 'test' # isolate traced individuals\n",
    "test_targets = 'isym'\n",
    "contacts_tested = [10, 25] # how many contacts are tested from the `test_smart_delta` window\n"
   ]
  },
  {
   "cell_type": "markdown",
   "metadata": {},
   "source": [
    "## 2. Run the simulations"
   ]
  },
  {
   "cell_type": "markdown",
   "metadata": {},
   "source": [
    "Use settings as above and simulate in the future with additional measures\n",
    "\n",
    "**WARNING: the following cells might take a long time to run depending of the parameters defined above!**"
   ]
  },
  {
   "cell_type": "code",
   "execution_count": null,
   "metadata": {},
   "outputs": [],
   "source": [
    "for country, areas in locs.items():\n",
    "    for area, mob_settings in areas.items():\n",
    "        s = dict()\n",
    "        \n",
    "        # start simulation when lockdown ends\n",
    "        start_date = calibration_lockdown_dates[country]['end']\n",
    "        \n",
    "        # load social distancing parameter\n",
    "        p_stay_home = get_calibrated_params(country=country, area=area, multi_beta_calibration=multi_beta_calibration)['p_stay_home']\n",
    "        \n",
    "        # baseline\n",
    "        baseline = run_experiment(\n",
    "            country=country, \n",
    "            area=area, \n",
    "            mob_settings=mob_settings,\n",
    "            start_date=start_date, \n",
    "            end_date=end_date, \n",
    "            measure_list=[], \n",
    "            random_repeats=random_repeats,\n",
    "            test_update=None, \n",
    "            seed_summary_path=seed_summary_path,\n",
    "            multi_beta_calibration=multi_beta_calibration)\n",
    "        \n",
    "        s['baseline'] = baseline\n",
    "        \n",
    "        print('Baseline done.', flush=True)\n",
    "\n",
    "        # experiment\n",
    "        for contacts in contacts_tested:\n",
    "            for policy in policies:\n",
    "\n",
    "                # no additional measures\n",
    "                m = []\n",
    "\n",
    "                # update testing params using this function\n",
    "                def test_update(d):\n",
    "                    d['test_smart_delta'] = test_smart_delta\n",
    "                    d['test_smart_action'] = test_smart_action\n",
    "                    d['test_targets'] = test_targets\n",
    "                    d['smart_tracing'] = policy\n",
    "                    d['test_smart_num_contacts'] = contacts\n",
    "                    return d\n",
    "\n",
    "                # run\n",
    "                res = run_experiment(\n",
    "                    country=country, \n",
    "                    area=area, \n",
    "                    mob_settings=mob_settings,\n",
    "                    start_date=start_date, \n",
    "                    end_date=end_date, \n",
    "                    measure_list=m, \n",
    "                    random_repeats=random_repeats,\n",
    "                    test_update=test_update, \n",
    "                    seed_summary_path=seed_summary_path,\n",
    "                    multi_beta_calibration=multi_beta_calibration)\n",
    "\n",
    "                s[(contacts, policy)] = res\n",
    "\n",
    "                print(country, area, contacts, policy, ' done.', flush=True)\n",
    "\n",
    "        # save results\n",
    "        save_summary(s, f'state-{expstr}--{country}-{area}.pk')"
   ]
  },
  {
   "cell_type": "markdown",
   "metadata": {},
   "source": [
    "## 3. Plot the results"
   ]
  },
  {
   "cell_type": "markdown",
   "metadata": {},
   "source": [
    "Import libs"
   ]
  },
  {
   "cell_type": "code",
   "execution_count": null,
   "metadata": {},
   "outputs": [],
   "source": [
    "from lib.plot import Plotter"
   ]
  },
  {
   "cell_type": "markdown",
   "metadata": {},
   "source": [
    "Create figures from summaries"
   ]
  },
  {
   "cell_type": "code",
   "execution_count": null,
   "metadata": {},
   "outputs": [],
   "source": [
    "for country, areas in locs.items():\n",
    "    for area in areas:\n",
    "        s = load_summary(f'state-{expstr}--{country}-{area}.pk')\n",
    "        \n",
    "        for contacts in contacts_isolated:\n",
    "            plotter = Plotter()\n",
    "            titles = ['No tracing', 'Basic tracing', 'Advanced tracing']\n",
    "            summaries = [\n",
    "                s['baseline'],\n",
    "                s[(contacts, 'basic')],\n",
    "                s[(contacts, 'advanced')],\n",
    "            ]\n",
    "\n",
    "            fn = f'{expstr}--{country}-{area}--{contacts}'\n",
    "            print(fn)\n",
    "            plotter.compare_total_infections(\n",
    "                summaries, \n",
    "                titles=titles, \n",
    "                filename=fn, \n",
    "                start_date=calibration_lockdown_dates[country]['end'],\n",
    "                figsize=(6,4), acc=500, \n",
    "                ymax=500, errorevery=14)\n"
   ]
  },
  {
   "cell_type": "code",
   "execution_count": null,
   "metadata": {},
   "outputs": [],
   "source": []
  }
 ],
 "metadata": {
  "kernelspec": {
   "display_name": "Python 3",
   "language": "python",
   "name": "python3"
  },
  "language_info": {
   "codemirror_mode": {
    "name": "ipython",
    "version": 3
   },
   "file_extension": ".py",
   "mimetype": "text/x-python",
   "name": "python",
   "nbconvert_exporter": "python",
   "pygments_lexer": "ipython3",
   "version": "3.8.2"
  }
 },
 "nbformat": 4,
 "nbformat_minor": 2
}
