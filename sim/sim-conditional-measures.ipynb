{
 "cells": [
  {
   "cell_type": "markdown",
   "metadata": {},
   "source": [
    "# Case count dependent measures\n",
    "This notebook contains the experiment to investigate the **effect of measures that become active only if the number of new cases per week exceeds a certain threshold** as currently discussed and implemented by the German government (source: https://www.zdf.de/nachrichten/politik/landkreise-lockdown-zahlen-karte-100.html). Whenever the threshold was exceeded in the previous week, site closures and/or social distancing measures become active for one week. \n",
    "Alternatively one can specify intervention times (e.g. sundays in Germany) at which the policy will be revised. The isolation of positively tested people remains active throughout the simulation.\n",
    "\n",
    "\n",
    "The notebook is organized as follows:\n",
    "\n",
    "* In Section 1, we define all the simulation parameters.\n",
    "* In Section 2, we run all the simulations needed for the experiment.\n",
    "* In Section 3, we plot the results.\n",
    "\n",
    "To just regenerate the figures from a summary file containing all the simulation objects of the experiment, you can skip Section 2, and only run the cells in Sections 1 & 3. \n",
    "\n",
    "---"
   ]
  },
  {
   "cell_type": "markdown",
   "metadata": {},
   "source": [
    "#### Import libs"
   ]
  },
  {
   "cell_type": "code",
   "execution_count": null,
   "metadata": {},
   "outputs": [],
   "source": [
    "%load_ext autoreload\n",
    "%autoreload 2\n",
    "import sys\n",
    "if '..' not in sys.path:\n",
    "    sys.path.append('..')"
   ]
  },
  {
   "cell_type": "code",
   "execution_count": null,
   "metadata": {},
   "outputs": [],
   "source": [
    "import numpy as np\n",
    "import pickle, math\n",
    "import pandas as pd\n",
    "import multiprocessing"
   ]
  },
  {
   "cell_type": "code",
   "execution_count": null,
   "metadata": {},
   "outputs": [],
   "source": [
    "from lib.measures import *\n",
    "from lib.experiment import run_experiment, save_summary, load_summary\n",
    "from lib.calibration_settings import settings_lockdown_dates"
   ]
  },
  {
   "cell_type": "markdown",
   "metadata": {},
   "source": [
    "## 1. General settings  "
   ]
  },
  {
   "cell_type": "markdown",
   "metadata": {},
   "source": [
    "#### Set the random seed for reproducibility"
   ]
  },
  {
   "cell_type": "code",
   "execution_count": null,
   "metadata": {},
   "outputs": [],
   "source": [
    "# Choose random seed\n",
    "c = 0\n",
    "np.random.seed(c)\n",
    "TO_HOURS = 24.0\n",
    "\n",
    "# Define prefix string used to save plots\n",
    "expstr = 'conditional-measures'"
   ]
  },
  {
   "cell_type": "markdown",
   "metadata": {},
   "source": [
    "#### Set the number of roll-outs to simulate"
   ]
  },
  {
   "cell_type": "code",
   "execution_count": null,
   "metadata": {},
   "outputs": [],
   "source": [
    "random_repeats = 1 # Set to at least 40 to obtain stable results"
   ]
  },
  {
   "cell_type": "markdown",
   "metadata": {},
   "source": [
    "#### Set the time to simulate"
   ]
  },
  {
   "cell_type": "code",
   "execution_count": null,
   "metadata": {},
   "outputs": [],
   "source": [
    "end_date = '2020-07-31'"
   ]
  },
  {
   "cell_type": "markdown",
   "metadata": {},
   "source": [
    "#### Define locations, mobility settings used for simulation, and experiment parameters"
   ]
  },
  {
   "cell_type": "code",
   "execution_count": null,
   "metadata": {},
   "outputs": [],
   "source": [
    "locs = {\n",
    "    'GER': {\n",
    "        'TU': 'lib/mobility/Tubingen_settings_10.pk',\n",
    "        'KL': 'lib/mobility/Kaiserslautern_settings_10.pk',\n",
    "        'RH': 'lib/mobility/Ruedesheim_settings_10.pk', \n",
    "        'TR': 'lib/mobility/Tirschenreuth_settings_10.pk', \n",
    "    },\n",
    "    'CH': {\n",
    "        'VD': 'lib/mobility/Lausanne_settings_10.pk', \n",
    "        'LU': 'lib/mobility/Lucerne_settings_5.pk', \n",
    "        'TI': 'lib/mobility/Locarno_settings_2.pk', \n",
    "        'JU': 'lib/mobility/Jura_settings_10.pk',\n",
    "    }\n",
    "}\n",
    "\n",
    "seed_summary_path = None"
   ]
  },
  {
   "cell_type": "code",
   "execution_count": null,
   "metadata": {},
   "outputs": [],
   "source": [
    "# experiment parameters\n",
    "\n",
    "# Site closures and social distancing measures become active if the number of positive tests exceeds threshold\n",
    "threshold_tests_per_100k = 50\n",
    "is_measure_active_initially = True\n",
    "\n",
    "# Times of possible interventions, if None, measures can become active at any time\n",
    "intervention_times = None\n",
    "#start_date = settings_lockdown_dates['GER']['end']\n",
    "#max_time = (pd.to_datetime(end_date) - pd.to_datetime(start_date)).days * TO_HOURS\n",
    "#intervention_times = list(np.arange(0, max_time, 7.0 * TO_HOURS))\n",
    "\n",
    "# Experiment a): Closure of educational and social sites only\n",
    "# Experiment b): Closure of educational and social sites + social distancing\n",
    "experiments = ['exp a', 'exp b']"
   ]
  },
  {
   "cell_type": "code",
   "execution_count": null,
   "metadata": {},
   "outputs": [],
   "source": [
    "# Check consistency of parameter choice\n",
    "from lib.inference import get_test_capacity, get_scaled_test_threshold\n",
    "from lib.mobilitysim import MobilitySimulator\n",
    "\n",
    "for country, areas in locs.items():\n",
    "    for area, mob_settings in areas.items():\n",
    "\n",
    "        \n",
    "        with open(mob_settings, 'rb') as fp:\n",
    "            obj = pickle.load(fp)\n",
    "        mob = MobilitySimulator(**obj)\n",
    "\n",
    "        scaled_test_capacity = get_test_capacity(country, area, mob)\n",
    "        scaled_test_threshold = get_scaled_test_threshold(threshold_tests_per_100k, mob)\n",
    "        print(f'Country: {country}, area: {area}')\n",
    "        print(f'Threshold of new cases per week: {scaled_test_threshold}')\n",
    "        print(f'Test capacity per week: {7*scaled_test_capacity}')"
   ]
  },
  {
   "cell_type": "markdown",
   "metadata": {},
   "source": [
    "## 2. Run the simulations"
   ]
  },
  {
   "cell_type": "markdown",
   "metadata": {},
   "source": [
    "Use settings as above and simulate in the future with additional measures\n",
    "\n",
    "**WARNING: the following cells might take a long time to run depending of the parameters defined above!**"
   ]
  },
  {
   "cell_type": "code",
   "execution_count": null,
   "metadata": {},
   "outputs": [],
   "source": [
    "for country, areas in locs.items():\n",
    "    for area, mob_settings in areas.items():\n",
    "        s = []\n",
    "        \n",
    "        # start simulation when lockdown ends\n",
    "        start_date = settings_lockdown_dates[country]['end']\n",
    "        \n",
    "        # load social distancing parameter\n",
    "        p_stay_home = 0.7 # TBD\n",
    "\n",
    "        # baseline\n",
    "        baseline = run_experiment(\n",
    "            country=country, \n",
    "            area=area, \n",
    "            mob_settings=mob_settings,\n",
    "            start_date=start_date, \n",
    "            end_date=end_date, \n",
    "            measure_list=[], \n",
    "            random_repeats=random_repeats,\n",
    "            test_update=None, \n",
    "            seed_summary_path=seed_summary_path)\n",
    "        s.append(baseline)\n",
    "\n",
    "        print(f'{country} {area} baseline done.', flush=True)\n",
    "\n",
    "        # experiment\n",
    "        with open(mob_settings, 'rb') as fp:\n",
    "            obj = pickle.load(fp)\n",
    "        mob = MobilitySimulator(**obj)\n",
    "        scaled_test_threshold = get_scaled_test_threshold(threshold_tests_per_100k, mob)\n",
    "\n",
    "\n",
    "        for experiment in experiments:\n",
    "            \n",
    "            # additional measures\n",
    "            max_days = (pd.to_datetime(end_date) - pd.to_datetime(start_date)).days\n",
    "            m = [\n",
    "                # Site closures conditional on weekly new cases\n",
    "                UpperBoundCasesBetaMultiplier(t_window=Interval(0, max_days * TO_HOURS), \n",
    "                                              beta_multiplier={'education': 0.0, \n",
    "                                                               'social': 0.0,\n",
    "                                                               'bus_stop': 1.0, \n",
    "                                                               'office': 1.0,\n",
    "                                                               'supermarket': 1.0},\n",
    "                                              max_pos_tests_per_week=scaled_test_threshold, \n",
    "                                              intervention_times=intervention_times,\n",
    "                                              init_active=is_measure_active_initially)\n",
    "                ]\n",
    "            \n",
    "            if experiment == 'exp b':\n",
    "                m.append(\n",
    "                        # Social distancing conditional on weekly new cases\n",
    "                        UpperBoundCasesSocialDistancing(t_window=Interval(0, max_days * TO_HOURS), \n",
    "                                                        p_stay_home=p_stay_home, \n",
    "                                                        max_pos_tests_per_week=scaled_test_threshold, \n",
    "                                                        intervention_times=intervention_times,\n",
    "                                                        init_active=is_measure_active_initially)\n",
    "                        )\n",
    "                \n",
    "            # update testing params\n",
    "            test_update = None\n",
    "            \n",
    "            # run\n",
    "            res = run_experiment(\n",
    "                country=country, \n",
    "                area=area, \n",
    "                mob_settings=mob_settings,\n",
    "                start_date=start_date, \n",
    "                end_date=end_date, \n",
    "                measure_list=m, \n",
    "                random_repeats=random_repeats,\n",
    "                test_update=None, \n",
    "                seed_summary_path=seed_summary_path)\n",
    "            \n",
    "            s.append(res)\n",
    "            \n",
    "            print(f'{country} {area} experiment {experiment}) done.', flush=True)\n",
    "        \n",
    "        # save results\n",
    "        save_summary(s, f'state-{expstr}--{country}-{area}.pk')"
   ]
  },
  {
   "cell_type": "markdown",
   "metadata": {},
   "source": [
    "#### Find the dates on which measures became active/inactive"
   ]
  },
  {
   "cell_type": "code",
   "execution_count": null,
   "metadata": {},
   "outputs": [],
   "source": [
    "from itertools import chain\n",
    "def get_lockdown_dates(summary):\n",
    "    hist = list(summary.measure_list[0].find(UpperBoundCasesBetaMultiplier, t=1).intervention_history)\n",
    "    \n",
    "    lockdowns = [hist[0][:2]]\n",
    "    j = 0\n",
    "    for k in range(len(hist)):\n",
    "        if k > j:\n",
    "            # If the time between two lock down periods is less than a day we count it as one lockdown\n",
    "            if hist[k][0] - lockdowns[j][1] < 24.0:\n",
    "                lockdowns[j] = (lockdowns[j][0], hist[k][1])\n",
    "            else:\n",
    "                lockdowns.append(hist[k][0:2])\n",
    "                j += 1\n",
    "                \n",
    "    lockdown_labels = []\n",
    "    for _ in lockdowns:\n",
    "        lockdown_labels.append(['active', 'inactive'])\n",
    "\n",
    "    lockdowns = np.asarray(lockdowns) / 24.0\n",
    "    lockdowns = list(chain.from_iterable(lockdowns))\n",
    "    lockdown_labels = list(chain.from_iterable(lockdown_labels))\n",
    "    return lockdowns, lockdown_labels"
   ]
  },
  {
   "cell_type": "code",
   "execution_count": null,
   "metadata": {},
   "outputs": [],
   "source": [
    "def get_lockdown_info(summary):\n",
    "    lockdowns = {key: [] for key in experiments}\n",
    "    lockdown_labels = {key: [] for key in experiments}\n",
    "    whichsim = 1\n",
    "    for k in lockdowns.keys():\n",
    "        dates, labels = get_lockdown_dates(summary[whichsim])\n",
    "        lockdowns[k] = dates\n",
    "        lockdown_labels[k] = labels\n",
    "        whichsim +=1\n",
    "    return lockdowns, lockdown_labels"
   ]
  },
  {
   "cell_type": "markdown",
   "metadata": {},
   "source": [
    "## 3. Plot the results"
   ]
  },
  {
   "cell_type": "markdown",
   "metadata": {},
   "source": [
    "Import libs"
   ]
  },
  {
   "cell_type": "code",
   "execution_count": null,
   "metadata": {},
   "outputs": [],
   "source": [
    "from lib.plot import Plotter"
   ]
  },
  {
   "cell_type": "markdown",
   "metadata": {},
   "source": [
    "Create figures from summaries"
   ]
  },
  {
   "cell_type": "code",
   "execution_count": null,
   "metadata": {},
   "outputs": [],
   "source": [
    "for country, areas in locs.items():\n",
    "    for area in areas:\n",
    "        s = load_summary(f'state-{expstr}--{country}-{area}.pk')\n",
    "        lockdowns, lockdown_labels = get_lockdown_info(s)\n",
    "        plotter = Plotter()\n",
    "        titles = ['no case dep. measures'] + ['site closures'] + ['site closures + social distancing']\n",
    "        fn = f'{expstr}--{country}-{area}'\n",
    "        print(fn)\n",
    "        plotter.compare_total_infections(\n",
    "            s, \n",
    "            titles=titles, \n",
    "            figtitle=r'Case number dependent measures',\n",
    "            filename=fn, \n",
    "            lockdown_at=lockdowns,\n",
    "            lockdown_label=lockdown_labels,\n",
    "            lockdown_label_y={'exp a': 300, 'exp b': 150},\n",
    "            start_date=settings_lockdown_dates[country]['end'],\n",
    "            figsize=(6,4), acc=500, \n",
    "            ymax=500, errorevery=14)"
   ]
  },
  {
   "cell_type": "code",
   "execution_count": null,
   "metadata": {},
   "outputs": [],
   "source": []
  }
 ],
 "metadata": {
  "kernelspec": {
   "display_name": "Python 3.8.1 64-bit ('covid19': conda)",
   "language": "python",
   "name": "python38164bitcovid19condaae07e86b13ec4b53ae8497f9e83e3ada"
  },
  "language_info": {
   "codemirror_mode": {
    "name": "ipython",
    "version": 3
   },
   "file_extension": ".py",
   "mimetype": "text/x-python",
   "name": "python",
   "nbconvert_exporter": "python",
   "pygments_lexer": "ipython3",
   "version": "3.8.2"
  }
 },
 "nbformat": 4,
 "nbformat_minor": 4
}
