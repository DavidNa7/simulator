{
 "cells": [
  {
   "cell_type": "markdown",
   "metadata": {},
   "source": [
    "# Experiment 2\n",
    "\n",
    "This notebook contains the experiment to **reproduce the observed course of Sars-CoV-2 under the taken interventions**, which is reported on Figure 3 in the [paper](https://arxiv.org/abs/2004.07641).\n",
    "\n",
    "The notebook is organized as follows:\n",
    "\n",
    "* In Section 1, we define all the simulation parameters.\n",
    "* In Section 2, we run all the simulations needed for the experiment.\n",
    "* In Section 3, we plot the results.\n",
    "\n",
    "To just regenerate the figures from a summary file containing all the simulation objects of the experiment, you can skip Section 2, and only run the cells in Sections 1 & 3. \n",
    "\n",
    "---"
   ]
  },
  {
   "cell_type": "markdown",
   "metadata": {},
   "source": [
    "## 1. Define the experiment parameters"
   ]
  },
  {
   "cell_type": "markdown",
   "metadata": {},
   "source": [
    "#### Import libs"
   ]
  },
  {
   "cell_type": "code",
   "execution_count": 1,
   "metadata": {},
   "outputs": [],
   "source": [
    "import numpy as np\n",
    "import pickle\n",
    "import multiprocessing"
   ]
  },
  {
   "cell_type": "code",
   "execution_count": 2,
   "metadata": {},
   "outputs": [],
   "source": [
    "from lib.mobilitysim import MobilitySimulator\n",
    "from lib.parallel import launch_parallel_simulations\n",
    "from lib.distributions import CovidDistributions\n",
    "from lib.data import collect_data_from_df\n",
    "from lib.measures import (MeasureList, Interval,\n",
    "                          BetaMultiplierMeasureByType,\n",
    "                          SocialDistancingForAllMeasure, \n",
    "                          SocialDistancingForPositiveMeasure)"
   ]
  },
  {
   "cell_type": "markdown",
   "metadata": {},
   "source": [
    "#### Set the random seed for reproducibility"
   ]
  },
  {
   "cell_type": "code",
   "execution_count": 3,
   "metadata": {},
   "outputs": [],
   "source": [
    "# Choose random seed\n",
    "c = 0\n",
    "# Set it\n",
    "np.random.seed(c)\n",
    "# Define prefix string used to save plots\n",
    "runstr = f'run{c}_'"
   ]
  },
  {
   "cell_type": "markdown",
   "metadata": {},
   "source": [
    "#### Set the number of roll-outs to simulate"
   ]
  },
  {
   "cell_type": "code",
   "execution_count": 4,
   "metadata": {},
   "outputs": [],
   "source": [
    "random_repeats = 20 # Set to at least 20 to obtain stable results"
   ]
  },
  {
   "cell_type": "markdown",
   "metadata": {},
   "source": [
    "#### Define the number of parallel workers used for simulations "
   ]
  },
  {
   "cell_type": "code",
   "execution_count": 5,
   "metadata": {},
   "outputs": [],
   "source": [
    "num_workers = multiprocessing.cpu_count() - 1"
   ]
  },
  {
   "cell_type": "markdown",
   "metadata": {},
   "source": [
    "#### Set the time to simulate"
   ]
  },
  {
   "cell_type": "code",
   "execution_count": 6,
   "metadata": {},
   "outputs": [],
   "source": [
    "days_until_lockdown = 13 # March 10 - March 23\n",
    "days_present = 35  # Days since March 10 on April 12 (March 10 is time 0 for our experiments)\n",
    "max_time_present = 24.0 * (days_present) # in hours"
   ]
  },
  {
   "cell_type": "markdown",
   "metadata": {},
   "source": [
    "#### Define population/mobility parameters\n",
    "\n",
    "Import downsampled version of Tübingen (population downsampled by 20x, sites by 10x) that was used used to generate mobility traces on the fly for inference (sites, home locations, etc)"
   ]
  },
  {
   "cell_type": "code",
   "execution_count": 7,
   "metadata": {},
   "outputs": [],
   "source": [
    "case_downsample = 10                       # Downsample of population\n",
    "mob_settings = 'lib/tu_settings_20_10_with_households.pk'  # Mobility settings (should match `case_downsample`)\n",
    "town_name = 'LK Tübingen'                  # Name of town to fetch case data\n",
    "\n",
    "# See town-generator.ipynb for an example on how to create the settings\n",
    "with open(mob_settings, 'rb') as fp:\n",
    "    obj = pickle.load(fp)\n",
    "mob = MobilitySimulator(**obj)"
   ]
  },
  {
   "cell_type": "markdown",
   "metadata": {},
   "source": [
    "#### Load the case data\n",
    "\n",
    "Adjust the number of cases to the down-scaling of the population"
   ]
  },
  {
   "cell_type": "code",
   "execution_count": 8,
   "metadata": {},
   "outputs": [
    {
     "name": "stdout",
     "output_type": "stream",
     "text": [
      "Data last updated at:  13.04.2020, 00:00 Uhr\n",
      "Data last updated at:  13.04.2020, 00:00 Uhr\n",
      "Data last updated at:  13.04.2020, 00:00 Uhr\n",
      "Empirical fatality rates per age group:   [0.0, 0.0, 0.0, 0.001430615164520744, 0.00964630225080386, 0.11728395061728394]\n"
     ]
    }
   ],
   "source": [
    "new_cases_ = collect_data_from_df(town_name, 'new', until=days_present)\n",
    "resistant_cases_ = collect_data_from_df(town_name, 'recovered', until=days_present)\n",
    "fatality_cases_ = collect_data_from_df(town_name, 'fatality', until=days_present)\n",
    "\n",
    "# fatality rate per age group\n",
    "num_age_groups = fatality_cases_.shape[1] \n",
    "fatality_rates_by_age = (fatality_cases_[-1, :] / \\\n",
    "    (new_cases_[-1, :] + fatality_cases_[-1, :] + resistant_cases_[-1, :]))\n",
    "print('Empirical fatality rates per age group:  ', fatality_rates_by_age.tolist())\n",
    "\n",
    "# Instantiate correct state transition distributions (estimated from in literature)\n",
    "distributions = CovidDistributions(fatality_rates_by_age=fatality_rates_by_age)\n",
    "\n",
    "# Scale down cases based on number of people in simulation\n",
    "new_cases, resistant_cases, fatality_cases = (\n",
    "    1/case_downsample * new_cases_, \n",
    "    1/case_downsample * resistant_cases_, \n",
    "    1/case_downsample * fatality_cases_)\n",
    "new_cases, resistant_cases, fatality_cases = np.ceil(new_cases), np.ceil(resistant_cases), np.ceil(fatality_cases)"
   ]
  },
  {
   "cell_type": "markdown",
   "metadata": {},
   "source": [
    "#### Define initial seed count per state \n",
    "\n",
    "These numbers are based on the *downscaled* infection counts on March 10."
   ]
  },
  {
   "cell_type": "code",
   "execution_count": 9,
   "metadata": {},
   "outputs": [],
   "source": [
    "initial_seeds = {\n",
    "    'expo' : 8,\n",
    "    'ipre' : 1,\n",
    "    'isym' : 3,\n",
    "    'iasy' : 3,\n",
    "}"
   ]
  },
  {
   "cell_type": "markdown",
   "metadata": {},
   "source": [
    "#### Set epidemic parameters\n",
    "\n",
    "Inferred using Bayesian optimization."
   ]
  },
  {
   "cell_type": "code",
   "execution_count": 22,
   "metadata": {},
   "outputs": [],
   "source": [
    "inferred_params = {\n",
    "    'betas': [1.1383] * 5,  # site infectivity by type\n",
    "    'alpha': 0.3224,\n",
    "    'mu': 0.2072,\n",
    "    'beta_household' : 0.005 # this needs to be calibrated\n",
    "}"
   ]
  },
  {
   "cell_type": "markdown",
   "metadata": {},
   "source": [
    "#### Define standard testing parameters\n",
    "\n",
    "The parameters are the same used for inference."
   ]
  },
  {
   "cell_type": "code",
   "execution_count": 23,
   "metadata": {},
   "outputs": [],
   "source": [
    "def standard_testing(max_time):\n",
    "    standard_testing_params = {\n",
    "        'testing_t_window'    : [0.0, max_time], # in hours\n",
    "        'testing_frequency'   : 24.0,     # in hours\n",
    "        'test_reporting_lag'  : 48.0,     # in hours (actual and self-report delay)\n",
    "        'tests_per_batch'     : 10,       # assume 300 tests/day in LK Tübingen\n",
    "        'test_smart_delta'    : 24.0 * 3, # in hours\n",
    "        'test_smart_duration' : 24.0 * 7, # in hours\n",
    "        'test_smart_action'   : 'isolate', \n",
    "        'test_smart_num_contacts'   : 10, \n",
    "        'test_targets'        : 'isym',\n",
    "        'test_queue_policy'   : 'fifo',\n",
    "        'smart_tracing'       : None, \n",
    "    }\n",
    "    return standard_testing_params"
   ]
  },
  {
   "cell_type": "markdown",
   "metadata": {},
   "source": [
    "#### Define helper I/O functions to load/save the output of the experiment"
   ]
  },
  {
   "cell_type": "code",
   "execution_count": 24,
   "metadata": {},
   "outputs": [],
   "source": [
    "def save_summary(summary, filename):\n",
    "    with open('summaries/' + filename, 'wb') as fp:\n",
    "        pickle.dump(summary, fp)\n",
    "    \n",
    "def load_summary(filename):\n",
    "    with open('summaries/' + filename, 'rb') as fp:\n",
    "        summary = pickle.load(fp)\n",
    "    return summary"
   ]
  },
  {
   "cell_type": "markdown",
   "metadata": {},
   "source": [
    "---"
   ]
  },
  {
   "cell_type": "markdown",
   "metadata": {},
   "source": [
    "## 2. Run the simulations"
   ]
  },
  {
   "cell_type": "markdown",
   "metadata": {},
   "source": [
    "Define a helper function to run general type of experiment, fixing all parameters above."
   ]
  },
  {
   "cell_type": "code",
   "execution_count": 25,
   "metadata": {},
   "outputs": [],
   "source": [
    "def run(tparam, measure_list, t, local_seeds):\n",
    "\n",
    "    # add standard measure of positives staying isolated\n",
    "    measure_list +=  [\n",
    "        SocialDistancingForPositiveMeasure(\n",
    "            t_window=Interval(0.0, t), p_stay_home=1.0)\n",
    "    ]\n",
    "    measure_list = MeasureList(measure_list)\n",
    "\n",
    "    # run simulations\n",
    "    summary = launch_parallel_simulations(\n",
    "        mob_settings, \n",
    "        distributions, \n",
    "        random_repeats, num_workers, \n",
    "        inferred_params, local_seeds, tparam, measure_list, \n",
    "        max_time=t, \n",
    "        num_people=mob.num_people, \n",
    "        num_sites=mob.num_sites, \n",
    "        site_loc=mob.site_loc, \n",
    "        home_loc=mob.home_loc, verbose=False)\n",
    "    return summary\n",
    "    "
   ]
  },
  {
   "cell_type": "markdown",
   "metadata": {},
   "source": [
    "Run the experiment using the parameters defined above and simulate in the future, with additional measures of varying duration.\n",
    "\n",
    "**WARNING: this cell might take a long time to run depending of the parameters defined above!**"
   ]
  },
  {
   "cell_type": "code",
   "execution_count": 26,
   "metadata": {},
   "outputs": [],
   "source": [
    "# {0: 'education', 1: 'social', 2: 'bus_stop', 3: 'office', 4: 'supermarket'}\n",
    "tuned_p_stay_home = 0.55 \n",
    "tuned_site_multipliers = [0.0, 0.0, 1.0, 1.0, 1.0]\n",
    "\n",
    "observed_measures_SD = [\n",
    "    # education close, social closes\n",
    "    BetaMultiplierMeasureByType(\n",
    "        t_window=Interval(24.0 * days_until_lockdown, max_time_present), \n",
    "        beta_multiplier=tuned_site_multipliers),\n",
    "    \n",
    "    # less activities of all due to contact constraints\n",
    "    SocialDistancingForAllMeasure(\n",
    "     t_window=Interval(24.0 * days_until_lockdown, max_time_present), \n",
    "        p_stay_home=tuned_p_stay_home)\n",
    "]\n",
    "\n",
    "testing_params_SD_0 = standard_testing(max_time_present)\n",
    "\n",
    "summary_SD_0 = run(testing_params_SD_0, observed_measures_SD, max_time_present, initial_seeds)\n",
    "\n",
    "save_summary(summary_SD_0, 'summary_SD_0.pk')"
   ]
  },
  {
   "cell_type": "markdown",
   "metadata": {},
   "source": [
    "## 3. Plot the results"
   ]
  },
  {
   "cell_type": "markdown",
   "metadata": {},
   "source": [
    "Import plotting utility"
   ]
  },
  {
   "cell_type": "code",
   "execution_count": 27,
   "metadata": {},
   "outputs": [],
   "source": [
    "from lib.plot import Plotter\n",
    "%matplotlib inline"
   ]
  },
  {
   "cell_type": "markdown",
   "metadata": {},
   "source": [
    "Load the summary holding the results of the experiment to plot."
   ]
  },
  {
   "cell_type": "code",
   "execution_count": 28,
   "metadata": {},
   "outputs": [],
   "source": [
    "summary_SD_0 = load_summary('summary_SD_0.pk')"
   ]
  },
  {
   "cell_type": "markdown",
   "metadata": {},
   "source": [
    "Reproduce Figure 2 (a) in the paper."
   ]
  },
  {
   "cell_type": "code",
   "execution_count": 29,
   "metadata": {},
   "outputs": [
    {
     "data": {
      "image/png": "[encoded data removed]",
      "text/plain": [
       "<Figure size 432x288 with 1 Axes>"
      ]
     },
     "metadata": {},
     "output_type": "display_data"
    }
   ],
   "source": [
    "plotter = Plotter()\n",
    "plotter.plot_positives_vs_target(\n",
    "    summary_SD_0, new_cases.sum(axis=1), \n",
    "    test_lag=2,\n",
    "    title='Predictions for observed controlled scenario after March 23', \n",
    "    filename=runstr + 'SD_000',\n",
    "    figsize=(6, 4),\n",
    "    start_date='2020-03-10',\n",
    "    errorevery=1, acc=1000, \n",
    "    lockdown_at=days_until_lockdown,\n",
    "    ymax=250)\n",
    "\n"
   ]
  },
  {
   "cell_type": "markdown",
   "metadata": {},
   "source": [
    "Reproduce Figure 2 (b) in the paper."
   ]
  },
  {
   "cell_type": "code",
   "execution_count": 31,
   "metadata": {},
   "outputs": [
    {
     "name": "stdout",
     "output_type": "stream",
     "text": [
      "Optimize sigma using maximum likelihood estimation...\n",
      " 0.50: 0\r",
      " 0.50: 1\r",
      " 0.50: 2\r",
      " 0.50: 3\r",
      " 0.50: 4\r",
      " 0.50: 5\r",
      " 0.50: 6\r",
      " 0.50: 7\r",
      " 0.50: 8\r",
      " 0.50: 9\r",
      " 0.50: 10\r",
      " 0.50: 11\r",
      " 0.50: 12\r",
      " 0.50: 13\r",
      " 0.50: 14\r",
      " 0.50: 15\r",
      " 0.50: 16\r",
      " 0.50: 17\r",
      " 0.50: 18\r",
      " 0.50: 19\r\n",
      " 0.50: 0\r",
      " 0.50: 1\r",
      " 0.50: 2\r",
      " 0.50: 3\r",
      " 0.50: 4\r",
      " 0.50: 5\r",
      " 0.50: 6\r",
      " 0.50: 7\r",
      " 0.50: 8\r",
      " 0.50: 9\r",
      " 0.50: 10\r",
      " 0.50: 11\r",
      " 0.50: 12\r",
      " 0.50: 13\r",
      " 0.50: 14\r",
      " 0.50: 15\r",
      " 0.50: 16\r",
      " 0.50: 17\r",
      " 0.50: 18\r",
      " 0.50: 19\r\n",
      " 0.01: 0\r",
      " 0.01: 1\r",
      " 0.01: 2\r",
      " 0.01: 3\r",
      " 0.01: 4\r",
      " 0.01: 5\r",
      " 0.01: 6\r",
      " 0.01: 7\r",
      " 0.01: 8\r",
      " 0.01: 9\r",
      " 0.01: 10\r",
      " 0.01: 11\r",
      " 0.01: 12\r",
      " 0.01: 13\r",
      " 0.01: 14\r",
      " 0.01: 15\r",
      " 0.01: 16\r",
      " 0.01: 17\r",
      " 0.01: 18\r",
      " 0.01: 19\r\n",
      " 0.01: 0\r",
      " 0.01: 1\r",
      " 0.01: 2\r",
      " 0.01: 3\r",
      " 0.01: 4\r",
      " 0.01: 5\r",
      " 0.01: 6\r",
      " 0.01: 7\r",
      " 0.01: 8\r",
      " 0.01: 9\r",
      " 0.01: 10\r",
      " 0.01: 11\r",
      " 0.01: 12\r",
      " 0.01: 13\r",
      " 0.01: 14\r",
      " 0.01: 15\r",
      " 0.01: 16\r",
      " 0.01: 17\r",
      " 0.01: 18\r",
      " 0.01: 19\r\n",
      "done. Best sigma found at: 0.01\n"
     ]
    },
    {
     "data": {
      "image/png": "[encoded data removed]",
      "text/plain": [
       "<Figure size 432x288 with 1 Axes>"
      ]
     },
     "metadata": {},
     "output_type": "display_data"
    }
   ],
   "source": [
    "plotter = Plotter()\n",
    "plotter.plot_daily_rts(\n",
    "    summary_SD_0,\n",
    "    filename=runstr + 'SD_003',\n",
    "    start_date='2020-03-10',\n",
    "    sigma=None,\n",
    "    figsize=(6, 4), \n",
    "    subplot_adjust=None,\n",
    "    lockdown_label='Lockdown', \n",
    "    lockdown_at=days_until_lockdown,\n",
    "    lockdown_label_y=2.6,\n",
    "    ymax=4.0)"
   ]
  },
  {
   "cell_type": "markdown",
   "metadata": {},
   "source": [
    "Reproduce Figure 2 (c) in the paper."
   ]
  },
  {
   "cell_type": "code",
   "execution_count": 32,
   "metadata": {},
   "outputs": [
    {
     "data": {
      "image/png": "[encoded data removed]",
      "text/plain": [
       "<Figure size 432x288 with 1 Axes>"
      ]
     },
     "metadata": {},
     "output_type": "display_data"
    }
   ],
   "source": [
    "targets = new_cases.sum(axis=1)\n",
    "targets = np.hstack((targets[0], np.diff(targets)))\n",
    "\n",
    "plotter = Plotter()\n",
    "plotter.plot_daily_infected(\n",
    "    summary_SD_0,\n",
    "    title='', \n",
    "    filename=runstr + 'SD_001',\n",
    "    errorevery=100, acc=1000, \n",
    "    figsize=(6, 4),\n",
    "    start_date='2020-03-10',\n",
    "    show_target=targets,\n",
    "    lockdown_at=days_until_lockdown,\n",
    "    lockdown_label_y=140,\n",
    "    lockdown_label='Lockdown',\n",
    "    ymax=200)"
   ]
  },
  {
   "cell_type": "markdown",
   "metadata": {},
   "source": [
    "Reproduce Figure 2 (d) in the paper."
   ]
  },
  {
   "cell_type": "code",
   "execution_count": 33,
   "metadata": {},
   "outputs": [
    {
     "data": {
      "image/png": "[encoded data removed]",
      "text/plain": [
       "<Figure size 432x288 with 1 Axes>"
      ]
     },
     "metadata": {},
     "output_type": "display_data"
    }
   ],
   "source": [
    "plotter = Plotter()\n",
    "plotter.plot_cumulative_infected(\n",
    "    summary_SD_0,\n",
    "    title='', \n",
    "    filename=runstr + 'SD_002',\n",
    "    figsize=(6, 4),\n",
    "    legend_loc='upper left',\n",
    "    errorevery=100, acc=1000, \n",
    "    start_date='2020-03-10',\n",
    "    lockdown_at=days_until_lockdown,\n",
    "    lockdown_label_y=140,\n",
    "    show_target=new_cases.sum(axis=1),\n",
    "    ymax=None)"
   ]
  },
  {
   "cell_type": "code",
   "execution_count": null,
   "metadata": {},
   "outputs": [],
   "source": []
  }
 ],
 "metadata": {
  "kernelspec": {
   "display_name": "Python 3",
   "language": "python",
   "name": "python3"
  },
  "language_info": {
   "codemirror_mode": {
    "name": "ipython",
    "version": 3
   },
   "file_extension": ".py",
   "mimetype": "text/x-python",
   "name": "python",
   "nbconvert_exporter": "python",
   "pygments_lexer": "ipython3",
   "version": "3.6.3"
  }
 },
 "nbformat": 4,
 "nbformat_minor": 2
}
